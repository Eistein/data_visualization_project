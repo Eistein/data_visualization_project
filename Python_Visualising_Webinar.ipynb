{
  "nbformat": 4,
  "nbformat_minor": 0,
  "metadata": {
    "colab": {
      "provenance": [],
      "include_colab_link": true
    },
    "kernelspec": {
      "name": "python3",
      "display_name": "Python 3"
    },
    "language_info": {
      "name": "python"
    },
    "widgets": {
      "application/vnd.jupyter.widget-state+json": {
        "972d66fc52fb49d783c6260fd5b9fb71": {
          "model_module": "@jupyter-widgets/controls",
          "model_name": "VBoxModel",
          "model_module_version": "1.5.0",
          "state": {
            "_dom_classes": [
              "widget-interact"
            ],
            "_model_module": "@jupyter-widgets/controls",
            "_model_module_version": "1.5.0",
            "_model_name": "VBoxModel",
            "_view_count": null,
            "_view_module": "@jupyter-widgets/controls",
            "_view_module_version": "1.5.0",
            "_view_name": "VBoxView",
            "box_style": "",
            "children": [
              "IPY_MODEL_975800c96e32403a953d95a84b29c123",
              "IPY_MODEL_51aacba987b54803a7b9a9c560a8013a"
            ],
            "layout": "IPY_MODEL_6c8a42f4206f4a30a6f94a95863763fb"
          }
        },
        "975800c96e32403a953d95a84b29c123": {
          "model_module": "@jupyter-widgets/controls",
          "model_name": "IntSliderModel",
          "model_module_version": "1.5.0",
          "state": {
            "_dom_classes": [],
            "_model_module": "@jupyter-widgets/controls",
            "_model_module_version": "1.5.0",
            "_model_name": "IntSliderModel",
            "_view_count": null,
            "_view_module": "@jupyter-widgets/controls",
            "_view_module_version": "1.5.0",
            "_view_name": "IntSliderView",
            "continuous_update": true,
            "description": "x",
            "description_tooltip": null,
            "disabled": false,
            "layout": "IPY_MODEL_c3c36dbd77e0478b8b68869210e13186",
            "max": 30,
            "min": -10,
            "orientation": "horizontal",
            "readout": true,
            "readout_format": "d",
            "step": 1,
            "style": "IPY_MODEL_fa2cb9c611e741e684fe0d329d8b05f5",
            "value": -10
          }
        },
        "51aacba987b54803a7b9a9c560a8013a": {
          "model_module": "@jupyter-widgets/output",
          "model_name": "OutputModel",
          "model_module_version": "1.0.0",
          "state": {
            "_dom_classes": [],
            "_model_module": "@jupyter-widgets/output",
            "_model_module_version": "1.0.0",
            "_model_name": "OutputModel",
            "_view_count": null,
            "_view_module": "@jupyter-widgets/output",
            "_view_module_version": "1.0.0",
            "_view_name": "OutputView",
            "layout": "IPY_MODEL_8de94645ea76480faed8a43b8ccea7ae",
            "msg_id": "",
            "outputs": [
              {
                "output_type": "display_data",
                "data": {
                  "text/plain": "-10"
                },
                "metadata": {}
              }
            ]
          }
        },
        "6c8a42f4206f4a30a6f94a95863763fb": {
          "model_module": "@jupyter-widgets/base",
          "model_name": "LayoutModel",
          "model_module_version": "1.2.0",
          "state": {
            "_model_module": "@jupyter-widgets/base",
            "_model_module_version": "1.2.0",
            "_model_name": "LayoutModel",
            "_view_count": null,
            "_view_module": "@jupyter-widgets/base",
            "_view_module_version": "1.2.0",
            "_view_name": "LayoutView",
            "align_content": null,
            "align_items": null,
            "align_self": null,
            "border": null,
            "bottom": null,
            "display": null,
            "flex": null,
            "flex_flow": null,
            "grid_area": null,
            "grid_auto_columns": null,
            "grid_auto_flow": null,
            "grid_auto_rows": null,
            "grid_column": null,
            "grid_gap": null,
            "grid_row": null,
            "grid_template_areas": null,
            "grid_template_columns": null,
            "grid_template_rows": null,
            "height": null,
            "justify_content": null,
            "justify_items": null,
            "left": null,
            "margin": null,
            "max_height": null,
            "max_width": null,
            "min_height": null,
            "min_width": null,
            "object_fit": null,
            "object_position": null,
            "order": null,
            "overflow": null,
            "overflow_x": null,
            "overflow_y": null,
            "padding": null,
            "right": null,
            "top": null,
            "visibility": null,
            "width": null
          }
        },
        "c3c36dbd77e0478b8b68869210e13186": {
          "model_module": "@jupyter-widgets/base",
          "model_name": "LayoutModel",
          "model_module_version": "1.2.0",
          "state": {
            "_model_module": "@jupyter-widgets/base",
            "_model_module_version": "1.2.0",
            "_model_name": "LayoutModel",
            "_view_count": null,
            "_view_module": "@jupyter-widgets/base",
            "_view_module_version": "1.2.0",
            "_view_name": "LayoutView",
            "align_content": null,
            "align_items": null,
            "align_self": null,
            "border": null,
            "bottom": null,
            "display": null,
            "flex": null,
            "flex_flow": null,
            "grid_area": null,
            "grid_auto_columns": null,
            "grid_auto_flow": null,
            "grid_auto_rows": null,
            "grid_column": null,
            "grid_gap": null,
            "grid_row": null,
            "grid_template_areas": null,
            "grid_template_columns": null,
            "grid_template_rows": null,
            "height": null,
            "justify_content": null,
            "justify_items": null,
            "left": null,
            "margin": null,
            "max_height": null,
            "max_width": null,
            "min_height": null,
            "min_width": null,
            "object_fit": null,
            "object_position": null,
            "order": null,
            "overflow": null,
            "overflow_x": null,
            "overflow_y": null,
            "padding": null,
            "right": null,
            "top": null,
            "visibility": null,
            "width": null
          }
        },
        "fa2cb9c611e741e684fe0d329d8b05f5": {
          "model_module": "@jupyter-widgets/controls",
          "model_name": "SliderStyleModel",
          "model_module_version": "1.5.0",
          "state": {
            "_model_module": "@jupyter-widgets/controls",
            "_model_module_version": "1.5.0",
            "_model_name": "SliderStyleModel",
            "_view_count": null,
            "_view_module": "@jupyter-widgets/base",
            "_view_module_version": "1.2.0",
            "_view_name": "StyleView",
            "description_width": "",
            "handle_color": null
          }
        },
        "8de94645ea76480faed8a43b8ccea7ae": {
          "model_module": "@jupyter-widgets/base",
          "model_name": "LayoutModel",
          "model_module_version": "1.2.0",
          "state": {
            "_model_module": "@jupyter-widgets/base",
            "_model_module_version": "1.2.0",
            "_model_name": "LayoutModel",
            "_view_count": null,
            "_view_module": "@jupyter-widgets/base",
            "_view_module_version": "1.2.0",
            "_view_name": "LayoutView",
            "align_content": null,
            "align_items": null,
            "align_self": null,
            "border": null,
            "bottom": null,
            "display": null,
            "flex": null,
            "flex_flow": null,
            "grid_area": null,
            "grid_auto_columns": null,
            "grid_auto_flow": null,
            "grid_auto_rows": null,
            "grid_column": null,
            "grid_gap": null,
            "grid_row": null,
            "grid_template_areas": null,
            "grid_template_columns": null,
            "grid_template_rows": null,
            "height": null,
            "justify_content": null,
            "justify_items": null,
            "left": null,
            "margin": null,
            "max_height": null,
            "max_width": null,
            "min_height": null,
            "min_width": null,
            "object_fit": null,
            "object_position": null,
            "order": null,
            "overflow": null,
            "overflow_x": null,
            "overflow_y": null,
            "padding": null,
            "right": null,
            "top": null,
            "visibility": null,
            "width": null
          }
        },
        "51f9506c19ed4d5da7039054d2699097": {
          "model_module": "@jupyter-widgets/controls",
          "model_name": "VBoxModel",
          "model_module_version": "1.5.0",
          "state": {
            "_dom_classes": [
              "widget-interact"
            ],
            "_model_module": "@jupyter-widgets/controls",
            "_model_module_version": "1.5.0",
            "_model_name": "VBoxModel",
            "_view_count": null,
            "_view_module": "@jupyter-widgets/controls",
            "_view_module_version": "1.5.0",
            "_view_name": "VBoxView",
            "box_style": "",
            "children": [
              "IPY_MODEL_d5c2956aff8d4be2a1ce20cf68c3679a",
              "IPY_MODEL_51540ad21b5e4aa382670acb324bf94d"
            ],
            "layout": "IPY_MODEL_54128c138d904d8d86894e948d767c0e"
          }
        },
        "d5c2956aff8d4be2a1ce20cf68c3679a": {
          "model_module": "@jupyter-widgets/controls",
          "model_name": "CheckboxModel",
          "model_module_version": "1.5.0",
          "state": {
            "_dom_classes": [],
            "_model_module": "@jupyter-widgets/controls",
            "_model_module_version": "1.5.0",
            "_model_name": "CheckboxModel",
            "_view_count": null,
            "_view_module": "@jupyter-widgets/controls",
            "_view_module_version": "1.5.0",
            "_view_name": "CheckboxView",
            "description": "x",
            "description_tooltip": null,
            "disabled": false,
            "indent": true,
            "layout": "IPY_MODEL_5a73331eb1e7416dac8b3555602fc2f7",
            "style": "IPY_MODEL_ae4dd8d10d854f769e40f7acedfe2fcc",
            "value": true
          }
        },
        "51540ad21b5e4aa382670acb324bf94d": {
          "model_module": "@jupyter-widgets/output",
          "model_name": "OutputModel",
          "model_module_version": "1.0.0",
          "state": {
            "_dom_classes": [],
            "_model_module": "@jupyter-widgets/output",
            "_model_module_version": "1.0.0",
            "_model_name": "OutputModel",
            "_view_count": null,
            "_view_module": "@jupyter-widgets/output",
            "_view_module_version": "1.0.0",
            "_view_name": "OutputView",
            "layout": "IPY_MODEL_9e6eb908a4ff4e53a08aee95a2db22f7",
            "msg_id": "",
            "outputs": [
              {
                "output_type": "display_data",
                "data": {
                  "text/plain": "True"
                },
                "metadata": {}
              }
            ]
          }
        },
        "54128c138d904d8d86894e948d767c0e": {
          "model_module": "@jupyter-widgets/base",
          "model_name": "LayoutModel",
          "model_module_version": "1.2.0",
          "state": {
            "_model_module": "@jupyter-widgets/base",
            "_model_module_version": "1.2.0",
            "_model_name": "LayoutModel",
            "_view_count": null,
            "_view_module": "@jupyter-widgets/base",
            "_view_module_version": "1.2.0",
            "_view_name": "LayoutView",
            "align_content": null,
            "align_items": null,
            "align_self": null,
            "border": null,
            "bottom": null,
            "display": null,
            "flex": null,
            "flex_flow": null,
            "grid_area": null,
            "grid_auto_columns": null,
            "grid_auto_flow": null,
            "grid_auto_rows": null,
            "grid_column": null,
            "grid_gap": null,
            "grid_row": null,
            "grid_template_areas": null,
            "grid_template_columns": null,
            "grid_template_rows": null,
            "height": null,
            "justify_content": null,
            "justify_items": null,
            "left": null,
            "margin": null,
            "max_height": null,
            "max_width": null,
            "min_height": null,
            "min_width": null,
            "object_fit": null,
            "object_position": null,
            "order": null,
            "overflow": null,
            "overflow_x": null,
            "overflow_y": null,
            "padding": null,
            "right": null,
            "top": null,
            "visibility": null,
            "width": null
          }
        },
        "5a73331eb1e7416dac8b3555602fc2f7": {
          "model_module": "@jupyter-widgets/base",
          "model_name": "LayoutModel",
          "model_module_version": "1.2.0",
          "state": {
            "_model_module": "@jupyter-widgets/base",
            "_model_module_version": "1.2.0",
            "_model_name": "LayoutModel",
            "_view_count": null,
            "_view_module": "@jupyter-widgets/base",
            "_view_module_version": "1.2.0",
            "_view_name": "LayoutView",
            "align_content": null,
            "align_items": null,
            "align_self": null,
            "border": null,
            "bottom": null,
            "display": null,
            "flex": null,
            "flex_flow": null,
            "grid_area": null,
            "grid_auto_columns": null,
            "grid_auto_flow": null,
            "grid_auto_rows": null,
            "grid_column": null,
            "grid_gap": null,
            "grid_row": null,
            "grid_template_areas": null,
            "grid_template_columns": null,
            "grid_template_rows": null,
            "height": null,
            "justify_content": null,
            "justify_items": null,
            "left": null,
            "margin": null,
            "max_height": null,
            "max_width": null,
            "min_height": null,
            "min_width": null,
            "object_fit": null,
            "object_position": null,
            "order": null,
            "overflow": null,
            "overflow_x": null,
            "overflow_y": null,
            "padding": null,
            "right": null,
            "top": null,
            "visibility": null,
            "width": null
          }
        },
        "ae4dd8d10d854f769e40f7acedfe2fcc": {
          "model_module": "@jupyter-widgets/controls",
          "model_name": "DescriptionStyleModel",
          "model_module_version": "1.5.0",
          "state": {
            "_model_module": "@jupyter-widgets/controls",
            "_model_module_version": "1.5.0",
            "_model_name": "DescriptionStyleModel",
            "_view_count": null,
            "_view_module": "@jupyter-widgets/base",
            "_view_module_version": "1.2.0",
            "_view_name": "StyleView",
            "description_width": ""
          }
        },
        "9e6eb908a4ff4e53a08aee95a2db22f7": {
          "model_module": "@jupyter-widgets/base",
          "model_name": "LayoutModel",
          "model_module_version": "1.2.0",
          "state": {
            "_model_module": "@jupyter-widgets/base",
            "_model_module_version": "1.2.0",
            "_model_name": "LayoutModel",
            "_view_count": null,
            "_view_module": "@jupyter-widgets/base",
            "_view_module_version": "1.2.0",
            "_view_name": "LayoutView",
            "align_content": null,
            "align_items": null,
            "align_self": null,
            "border": null,
            "bottom": null,
            "display": null,
            "flex": null,
            "flex_flow": null,
            "grid_area": null,
            "grid_auto_columns": null,
            "grid_auto_flow": null,
            "grid_auto_rows": null,
            "grid_column": null,
            "grid_gap": null,
            "grid_row": null,
            "grid_template_areas": null,
            "grid_template_columns": null,
            "grid_template_rows": null,
            "height": null,
            "justify_content": null,
            "justify_items": null,
            "left": null,
            "margin": null,
            "max_height": null,
            "max_width": null,
            "min_height": null,
            "min_width": null,
            "object_fit": null,
            "object_position": null,
            "order": null,
            "overflow": null,
            "overflow_x": null,
            "overflow_y": null,
            "padding": null,
            "right": null,
            "top": null,
            "visibility": null,
            "width": null
          }
        },
        "10159feda4d34b16b2861ebc695b9d29": {
          "model_module": "@jupyter-widgets/controls",
          "model_name": "VBoxModel",
          "model_module_version": "1.5.0",
          "state": {
            "_dom_classes": [
              "widget-interact"
            ],
            "_model_module": "@jupyter-widgets/controls",
            "_model_module_version": "1.5.0",
            "_model_name": "VBoxModel",
            "_view_count": null,
            "_view_module": "@jupyter-widgets/controls",
            "_view_module_version": "1.5.0",
            "_view_name": "VBoxView",
            "box_style": "",
            "children": [
              "IPY_MODEL_5e033bd6a3794dc9abe69d5d8026854f",
              "IPY_MODEL_6187ad459e1d43868ec98475464df109"
            ],
            "layout": "IPY_MODEL_2d4415c19ccf4aa48cd9af249437d66c"
          }
        },
        "5e033bd6a3794dc9abe69d5d8026854f": {
          "model_module": "@jupyter-widgets/controls",
          "model_name": "TextModel",
          "model_module_version": "1.5.0",
          "state": {
            "_dom_classes": [],
            "_model_module": "@jupyter-widgets/controls",
            "_model_module_version": "1.5.0",
            "_model_name": "TextModel",
            "_view_count": null,
            "_view_module": "@jupyter-widgets/controls",
            "_view_module_version": "1.5.0",
            "_view_name": "TextView",
            "continuous_update": true,
            "description": "x",
            "description_tooltip": null,
            "disabled": false,
            "layout": "IPY_MODEL_5a1480dfe35b4b459d9ccf42cc22764a",
            "placeholder": "​",
            "style": "IPY_MODEL_839ff06dfd814224b5d56e578dee9756",
            "value": "asdaasdadf"
          }
        },
        "6187ad459e1d43868ec98475464df109": {
          "model_module": "@jupyter-widgets/output",
          "model_name": "OutputModel",
          "model_module_version": "1.0.0",
          "state": {
            "_dom_classes": [],
            "_model_module": "@jupyter-widgets/output",
            "_model_module_version": "1.0.0",
            "_model_name": "OutputModel",
            "_view_count": null,
            "_view_module": "@jupyter-widgets/output",
            "_view_module_version": "1.0.0",
            "_view_name": "OutputView",
            "layout": "IPY_MODEL_adcda38008f343d5b0c5a1dc569ffd60",
            "msg_id": "",
            "outputs": [
              {
                "output_type": "display_data",
                "data": {
                  "text/plain": "'asdaasdadf'",
                  "application/vnd.google.colaboratory.intrinsic+json": {
                    "type": "string"
                  }
                },
                "metadata": {}
              }
            ]
          }
        },
        "2d4415c19ccf4aa48cd9af249437d66c": {
          "model_module": "@jupyter-widgets/base",
          "model_name": "LayoutModel",
          "model_module_version": "1.2.0",
          "state": {
            "_model_module": "@jupyter-widgets/base",
            "_model_module_version": "1.2.0",
            "_model_name": "LayoutModel",
            "_view_count": null,
            "_view_module": "@jupyter-widgets/base",
            "_view_module_version": "1.2.0",
            "_view_name": "LayoutView",
            "align_content": null,
            "align_items": null,
            "align_self": null,
            "border": null,
            "bottom": null,
            "display": null,
            "flex": null,
            "flex_flow": null,
            "grid_area": null,
            "grid_auto_columns": null,
            "grid_auto_flow": null,
            "grid_auto_rows": null,
            "grid_column": null,
            "grid_gap": null,
            "grid_row": null,
            "grid_template_areas": null,
            "grid_template_columns": null,
            "grid_template_rows": null,
            "height": null,
            "justify_content": null,
            "justify_items": null,
            "left": null,
            "margin": null,
            "max_height": null,
            "max_width": null,
            "min_height": null,
            "min_width": null,
            "object_fit": null,
            "object_position": null,
            "order": null,
            "overflow": null,
            "overflow_x": null,
            "overflow_y": null,
            "padding": null,
            "right": null,
            "top": null,
            "visibility": null,
            "width": null
          }
        },
        "5a1480dfe35b4b459d9ccf42cc22764a": {
          "model_module": "@jupyter-widgets/base",
          "model_name": "LayoutModel",
          "model_module_version": "1.2.0",
          "state": {
            "_model_module": "@jupyter-widgets/base",
            "_model_module_version": "1.2.0",
            "_model_name": "LayoutModel",
            "_view_count": null,
            "_view_module": "@jupyter-widgets/base",
            "_view_module_version": "1.2.0",
            "_view_name": "LayoutView",
            "align_content": null,
            "align_items": null,
            "align_self": null,
            "border": null,
            "bottom": null,
            "display": null,
            "flex": null,
            "flex_flow": null,
            "grid_area": null,
            "grid_auto_columns": null,
            "grid_auto_flow": null,
            "grid_auto_rows": null,
            "grid_column": null,
            "grid_gap": null,
            "grid_row": null,
            "grid_template_areas": null,
            "grid_template_columns": null,
            "grid_template_rows": null,
            "height": null,
            "justify_content": null,
            "justify_items": null,
            "left": null,
            "margin": null,
            "max_height": null,
            "max_width": null,
            "min_height": null,
            "min_width": null,
            "object_fit": null,
            "object_position": null,
            "order": null,
            "overflow": null,
            "overflow_x": null,
            "overflow_y": null,
            "padding": null,
            "right": null,
            "top": null,
            "visibility": null,
            "width": null
          }
        },
        "839ff06dfd814224b5d56e578dee9756": {
          "model_module": "@jupyter-widgets/controls",
          "model_name": "DescriptionStyleModel",
          "model_module_version": "1.5.0",
          "state": {
            "_model_module": "@jupyter-widgets/controls",
            "_model_module_version": "1.5.0",
            "_model_name": "DescriptionStyleModel",
            "_view_count": null,
            "_view_module": "@jupyter-widgets/base",
            "_view_module_version": "1.2.0",
            "_view_name": "StyleView",
            "description_width": ""
          }
        },
        "adcda38008f343d5b0c5a1dc569ffd60": {
          "model_module": "@jupyter-widgets/base",
          "model_name": "LayoutModel",
          "model_module_version": "1.2.0",
          "state": {
            "_model_module": "@jupyter-widgets/base",
            "_model_module_version": "1.2.0",
            "_model_name": "LayoutModel",
            "_view_count": null,
            "_view_module": "@jupyter-widgets/base",
            "_view_module_version": "1.2.0",
            "_view_name": "LayoutView",
            "align_content": null,
            "align_items": null,
            "align_self": null,
            "border": null,
            "bottom": null,
            "display": null,
            "flex": null,
            "flex_flow": null,
            "grid_area": null,
            "grid_auto_columns": null,
            "grid_auto_flow": null,
            "grid_auto_rows": null,
            "grid_column": null,
            "grid_gap": null,
            "grid_row": null,
            "grid_template_areas": null,
            "grid_template_columns": null,
            "grid_template_rows": null,
            "height": null,
            "justify_content": null,
            "justify_items": null,
            "left": null,
            "margin": null,
            "max_height": null,
            "max_width": null,
            "min_height": null,
            "min_width": null,
            "object_fit": null,
            "object_position": null,
            "order": null,
            "overflow": null,
            "overflow_x": null,
            "overflow_y": null,
            "padding": null,
            "right": null,
            "top": null,
            "visibility": null,
            "width": null
          }
        },
        "7973c763564247769cf506f68fb1c89b": {
          "model_module": "@jupyter-widgets/controls",
          "model_name": "VBoxModel",
          "model_module_version": "1.5.0",
          "state": {
            "_dom_classes": [
              "widget-interact"
            ],
            "_model_module": "@jupyter-widgets/controls",
            "_model_module_version": "1.5.0",
            "_model_name": "VBoxModel",
            "_view_count": null,
            "_view_module": "@jupyter-widgets/controls",
            "_view_module_version": "1.5.0",
            "_view_name": "VBoxView",
            "box_style": "",
            "children": [
              "IPY_MODEL_cb8614fb3c9345ce892e4a6cfd977e3f",
              "IPY_MODEL_f91ed3385cec466eaf4600c277a2cd62",
              "IPY_MODEL_2c66a5b1750948f09757407dcc4e0911",
              "IPY_MODEL_c5536a1090454f79a8faa3df36f3c3aa"
            ],
            "layout": "IPY_MODEL_635e2356d1bd42dc87b3fffdfe2f085e"
          }
        },
        "cb8614fb3c9345ce892e4a6cfd977e3f": {
          "model_module": "@jupyter-widgets/controls",
          "model_name": "CheckboxModel",
          "model_module_version": "1.5.0",
          "state": {
            "_dom_classes": [],
            "_model_module": "@jupyter-widgets/controls",
            "_model_module_version": "1.5.0",
            "_model_name": "CheckboxModel",
            "_view_count": null,
            "_view_module": "@jupyter-widgets/controls",
            "_view_module_version": "1.5.0",
            "_view_name": "CheckboxView",
            "description": "x",
            "description_tooltip": null,
            "disabled": false,
            "indent": true,
            "layout": "IPY_MODEL_44a5408a76654670a9636fa296b7cdee",
            "style": "IPY_MODEL_b5c892a3486346d7af713c71784ab1d6",
            "value": false
          }
        },
        "f91ed3385cec466eaf4600c277a2cd62": {
          "model_module": "@jupyter-widgets/controls",
          "model_name": "FloatSliderModel",
          "model_module_version": "1.5.0",
          "state": {
            "_dom_classes": [],
            "_model_module": "@jupyter-widgets/controls",
            "_model_module_version": "1.5.0",
            "_model_name": "FloatSliderModel",
            "_view_count": null,
            "_view_module": "@jupyter-widgets/controls",
            "_view_module_version": "1.5.0",
            "_view_name": "FloatSliderView",
            "continuous_update": true,
            "description": "y",
            "description_tooltip": null,
            "disabled": false,
            "layout": "IPY_MODEL_2989f7568bf04cd1aa6e18ac557b0f39",
            "max": 3,
            "min": -1,
            "orientation": "horizontal",
            "readout": true,
            "readout_format": ".2f",
            "step": 0.1,
            "style": "IPY_MODEL_17cd8f3392874581aa2962f7565127d1",
            "value": 1
          }
        },
        "2c66a5b1750948f09757407dcc4e0911": {
          "model_module": "@jupyter-widgets/controls",
          "model_name": "TextModel",
          "model_module_version": "1.5.0",
          "state": {
            "_dom_classes": [],
            "_model_module": "@jupyter-widgets/controls",
            "_model_module_version": "1.5.0",
            "_model_name": "TextModel",
            "_view_count": null,
            "_view_module": "@jupyter-widgets/controls",
            "_view_module_version": "1.5.0",
            "_view_name": "TextView",
            "continuous_update": true,
            "description": "z",
            "description_tooltip": null,
            "disabled": false,
            "layout": "IPY_MODEL_917a57cf53fc412ead574a4426ad81ed",
            "placeholder": "​",
            "style": "IPY_MODEL_3aea62011ed54907800db74b02e69aae",
            "value": "Helsdf"
          }
        },
        "c5536a1090454f79a8faa3df36f3c3aa": {
          "model_module": "@jupyter-widgets/output",
          "model_name": "OutputModel",
          "model_module_version": "1.0.0",
          "state": {
            "_dom_classes": [],
            "_model_module": "@jupyter-widgets/output",
            "_model_module_version": "1.0.0",
            "_model_name": "OutputModel",
            "_view_count": null,
            "_view_module": "@jupyter-widgets/output",
            "_view_module_version": "1.0.0",
            "_view_name": "OutputView",
            "layout": "IPY_MODEL_3edac94c3cf4449c953483463733dbb8",
            "msg_id": "",
            "outputs": [
              {
                "output_type": "display_data",
                "data": {
                  "text/plain": "(False, 1.0, 'Helsdf')"
                },
                "metadata": {}
              }
            ]
          }
        },
        "635e2356d1bd42dc87b3fffdfe2f085e": {
          "model_module": "@jupyter-widgets/base",
          "model_name": "LayoutModel",
          "model_module_version": "1.2.0",
          "state": {
            "_model_module": "@jupyter-widgets/base",
            "_model_module_version": "1.2.0",
            "_model_name": "LayoutModel",
            "_view_count": null,
            "_view_module": "@jupyter-widgets/base",
            "_view_module_version": "1.2.0",
            "_view_name": "LayoutView",
            "align_content": null,
            "align_items": null,
            "align_self": null,
            "border": null,
            "bottom": null,
            "display": null,
            "flex": null,
            "flex_flow": null,
            "grid_area": null,
            "grid_auto_columns": null,
            "grid_auto_flow": null,
            "grid_auto_rows": null,
            "grid_column": null,
            "grid_gap": null,
            "grid_row": null,
            "grid_template_areas": null,
            "grid_template_columns": null,
            "grid_template_rows": null,
            "height": null,
            "justify_content": null,
            "justify_items": null,
            "left": null,
            "margin": null,
            "max_height": null,
            "max_width": null,
            "min_height": null,
            "min_width": null,
            "object_fit": null,
            "object_position": null,
            "order": null,
            "overflow": null,
            "overflow_x": null,
            "overflow_y": null,
            "padding": null,
            "right": null,
            "top": null,
            "visibility": null,
            "width": null
          }
        },
        "44a5408a76654670a9636fa296b7cdee": {
          "model_module": "@jupyter-widgets/base",
          "model_name": "LayoutModel",
          "model_module_version": "1.2.0",
          "state": {
            "_model_module": "@jupyter-widgets/base",
            "_model_module_version": "1.2.0",
            "_model_name": "LayoutModel",
            "_view_count": null,
            "_view_module": "@jupyter-widgets/base",
            "_view_module_version": "1.2.0",
            "_view_name": "LayoutView",
            "align_content": null,
            "align_items": null,
            "align_self": null,
            "border": null,
            "bottom": null,
            "display": null,
            "flex": null,
            "flex_flow": null,
            "grid_area": null,
            "grid_auto_columns": null,
            "grid_auto_flow": null,
            "grid_auto_rows": null,
            "grid_column": null,
            "grid_gap": null,
            "grid_row": null,
            "grid_template_areas": null,
            "grid_template_columns": null,
            "grid_template_rows": null,
            "height": null,
            "justify_content": null,
            "justify_items": null,
            "left": null,
            "margin": null,
            "max_height": null,
            "max_width": null,
            "min_height": null,
            "min_width": null,
            "object_fit": null,
            "object_position": null,
            "order": null,
            "overflow": null,
            "overflow_x": null,
            "overflow_y": null,
            "padding": null,
            "right": null,
            "top": null,
            "visibility": null,
            "width": null
          }
        },
        "b5c892a3486346d7af713c71784ab1d6": {
          "model_module": "@jupyter-widgets/controls",
          "model_name": "DescriptionStyleModel",
          "model_module_version": "1.5.0",
          "state": {
            "_model_module": "@jupyter-widgets/controls",
            "_model_module_version": "1.5.0",
            "_model_name": "DescriptionStyleModel",
            "_view_count": null,
            "_view_module": "@jupyter-widgets/base",
            "_view_module_version": "1.2.0",
            "_view_name": "StyleView",
            "description_width": ""
          }
        },
        "2989f7568bf04cd1aa6e18ac557b0f39": {
          "model_module": "@jupyter-widgets/base",
          "model_name": "LayoutModel",
          "model_module_version": "1.2.0",
          "state": {
            "_model_module": "@jupyter-widgets/base",
            "_model_module_version": "1.2.0",
            "_model_name": "LayoutModel",
            "_view_count": null,
            "_view_module": "@jupyter-widgets/base",
            "_view_module_version": "1.2.0",
            "_view_name": "LayoutView",
            "align_content": null,
            "align_items": null,
            "align_self": null,
            "border": null,
            "bottom": null,
            "display": null,
            "flex": null,
            "flex_flow": null,
            "grid_area": null,
            "grid_auto_columns": null,
            "grid_auto_flow": null,
            "grid_auto_rows": null,
            "grid_column": null,
            "grid_gap": null,
            "grid_row": null,
            "grid_template_areas": null,
            "grid_template_columns": null,
            "grid_template_rows": null,
            "height": null,
            "justify_content": null,
            "justify_items": null,
            "left": null,
            "margin": null,
            "max_height": null,
            "max_width": null,
            "min_height": null,
            "min_width": null,
            "object_fit": null,
            "object_position": null,
            "order": null,
            "overflow": null,
            "overflow_x": null,
            "overflow_y": null,
            "padding": null,
            "right": null,
            "top": null,
            "visibility": null,
            "width": null
          }
        },
        "17cd8f3392874581aa2962f7565127d1": {
          "model_module": "@jupyter-widgets/controls",
          "model_name": "SliderStyleModel",
          "model_module_version": "1.5.0",
          "state": {
            "_model_module": "@jupyter-widgets/controls",
            "_model_module_version": "1.5.0",
            "_model_name": "SliderStyleModel",
            "_view_count": null,
            "_view_module": "@jupyter-widgets/base",
            "_view_module_version": "1.2.0",
            "_view_name": "StyleView",
            "description_width": "",
            "handle_color": null
          }
        },
        "917a57cf53fc412ead574a4426ad81ed": {
          "model_module": "@jupyter-widgets/base",
          "model_name": "LayoutModel",
          "model_module_version": "1.2.0",
          "state": {
            "_model_module": "@jupyter-widgets/base",
            "_model_module_version": "1.2.0",
            "_model_name": "LayoutModel",
            "_view_count": null,
            "_view_module": "@jupyter-widgets/base",
            "_view_module_version": "1.2.0",
            "_view_name": "LayoutView",
            "align_content": null,
            "align_items": null,
            "align_self": null,
            "border": null,
            "bottom": null,
            "display": null,
            "flex": null,
            "flex_flow": null,
            "grid_area": null,
            "grid_auto_columns": null,
            "grid_auto_flow": null,
            "grid_auto_rows": null,
            "grid_column": null,
            "grid_gap": null,
            "grid_row": null,
            "grid_template_areas": null,
            "grid_template_columns": null,
            "grid_template_rows": null,
            "height": null,
            "justify_content": null,
            "justify_items": null,
            "left": null,
            "margin": null,
            "max_height": null,
            "max_width": null,
            "min_height": null,
            "min_width": null,
            "object_fit": null,
            "object_position": null,
            "order": null,
            "overflow": null,
            "overflow_x": null,
            "overflow_y": null,
            "padding": null,
            "right": null,
            "top": null,
            "visibility": null,
            "width": null
          }
        },
        "3aea62011ed54907800db74b02e69aae": {
          "model_module": "@jupyter-widgets/controls",
          "model_name": "DescriptionStyleModel",
          "model_module_version": "1.5.0",
          "state": {
            "_model_module": "@jupyter-widgets/controls",
            "_model_module_version": "1.5.0",
            "_model_name": "DescriptionStyleModel",
            "_view_count": null,
            "_view_module": "@jupyter-widgets/base",
            "_view_module_version": "1.2.0",
            "_view_name": "StyleView",
            "description_width": ""
          }
        },
        "3edac94c3cf4449c953483463733dbb8": {
          "model_module": "@jupyter-widgets/base",
          "model_name": "LayoutModel",
          "model_module_version": "1.2.0",
          "state": {
            "_model_module": "@jupyter-widgets/base",
            "_model_module_version": "1.2.0",
            "_model_name": "LayoutModel",
            "_view_count": null,
            "_view_module": "@jupyter-widgets/base",
            "_view_module_version": "1.2.0",
            "_view_name": "LayoutView",
            "align_content": null,
            "align_items": null,
            "align_self": null,
            "border": null,
            "bottom": null,
            "display": null,
            "flex": null,
            "flex_flow": null,
            "grid_area": null,
            "grid_auto_columns": null,
            "grid_auto_flow": null,
            "grid_auto_rows": null,
            "grid_column": null,
            "grid_gap": null,
            "grid_row": null,
            "grid_template_areas": null,
            "grid_template_columns": null,
            "grid_template_rows": null,
            "height": null,
            "justify_content": null,
            "justify_items": null,
            "left": null,
            "margin": null,
            "max_height": null,
            "max_width": null,
            "min_height": null,
            "min_width": null,
            "object_fit": null,
            "object_position": null,
            "order": null,
            "overflow": null,
            "overflow_x": null,
            "overflow_y": null,
            "padding": null,
            "right": null,
            "top": null,
            "visibility": null,
            "width": null
          }
        },
        "65b76b1de7994b369b70b9cfc6e376f6": {
          "model_module": "@jupyter-widgets/controls",
          "model_name": "VBoxModel",
          "model_module_version": "1.5.0",
          "state": {
            "_dom_classes": [
              "widget-interact"
            ],
            "_model_module": "@jupyter-widgets/controls",
            "_model_module_version": "1.5.0",
            "_model_name": "VBoxModel",
            "_view_count": null,
            "_view_module": "@jupyter-widgets/controls",
            "_view_module_version": "1.5.0",
            "_view_name": "VBoxView",
            "box_style": "",
            "children": [
              "IPY_MODEL_e24304343e6a4dc8b417f18db7f96832",
              "IPY_MODEL_8aef91b64640465088f209b9baf80472"
            ],
            "layout": "IPY_MODEL_8140a0608202443eae5e38fb7c1d0c5a"
          }
        },
        "e24304343e6a4dc8b417f18db7f96832": {
          "model_module": "@jupyter-widgets/controls",
          "model_name": "IntSliderModel",
          "model_module_version": "1.5.0",
          "state": {
            "_dom_classes": [],
            "_model_module": "@jupyter-widgets/controls",
            "_model_module_version": "1.5.0",
            "_model_name": "IntSliderModel",
            "_view_count": null,
            "_view_module": "@jupyter-widgets/controls",
            "_view_module_version": "1.5.0",
            "_view_name": "IntSliderView",
            "continuous_update": true,
            "description": "p",
            "description_tooltip": null,
            "disabled": false,
            "layout": "IPY_MODEL_f0ff93217d7442228798043726676124",
            "max": 15,
            "min": -5,
            "orientation": "horizontal",
            "readout": true,
            "readout_format": "d",
            "step": 1,
            "style": "IPY_MODEL_6c150ecf187144a2a8d903aa11ade04c",
            "value": 11
          }
        },
        "8aef91b64640465088f209b9baf80472": {
          "model_module": "@jupyter-widgets/output",
          "model_name": "OutputModel",
          "model_module_version": "1.0.0",
          "state": {
            "_dom_classes": [],
            "_model_module": "@jupyter-widgets/output",
            "_model_module_version": "1.0.0",
            "_model_name": "OutputModel",
            "_view_count": null,
            "_view_module": "@jupyter-widgets/output",
            "_view_module_version": "1.0.0",
            "_view_name": "OutputView",
            "layout": "IPY_MODEL_e52a4a2bff0c465da41b8fce13c61b32",
            "msg_id": "",
            "outputs": [
              {
                "output_type": "display_data",
                "data": {
                  "text/plain": "(11, 20)"
                },
                "metadata": {}
              }
            ]
          }
        },
        "8140a0608202443eae5e38fb7c1d0c5a": {
          "model_module": "@jupyter-widgets/base",
          "model_name": "LayoutModel",
          "model_module_version": "1.2.0",
          "state": {
            "_model_module": "@jupyter-widgets/base",
            "_model_module_version": "1.2.0",
            "_model_name": "LayoutModel",
            "_view_count": null,
            "_view_module": "@jupyter-widgets/base",
            "_view_module_version": "1.2.0",
            "_view_name": "LayoutView",
            "align_content": null,
            "align_items": null,
            "align_self": null,
            "border": null,
            "bottom": null,
            "display": null,
            "flex": null,
            "flex_flow": null,
            "grid_area": null,
            "grid_auto_columns": null,
            "grid_auto_flow": null,
            "grid_auto_rows": null,
            "grid_column": null,
            "grid_gap": null,
            "grid_row": null,
            "grid_template_areas": null,
            "grid_template_columns": null,
            "grid_template_rows": null,
            "height": null,
            "justify_content": null,
            "justify_items": null,
            "left": null,
            "margin": null,
            "max_height": null,
            "max_width": null,
            "min_height": null,
            "min_width": null,
            "object_fit": null,
            "object_position": null,
            "order": null,
            "overflow": null,
            "overflow_x": null,
            "overflow_y": null,
            "padding": null,
            "right": null,
            "top": null,
            "visibility": null,
            "width": null
          }
        },
        "f0ff93217d7442228798043726676124": {
          "model_module": "@jupyter-widgets/base",
          "model_name": "LayoutModel",
          "model_module_version": "1.2.0",
          "state": {
            "_model_module": "@jupyter-widgets/base",
            "_model_module_version": "1.2.0",
            "_model_name": "LayoutModel",
            "_view_count": null,
            "_view_module": "@jupyter-widgets/base",
            "_view_module_version": "1.2.0",
            "_view_name": "LayoutView",
            "align_content": null,
            "align_items": null,
            "align_self": null,
            "border": null,
            "bottom": null,
            "display": null,
            "flex": null,
            "flex_flow": null,
            "grid_area": null,
            "grid_auto_columns": null,
            "grid_auto_flow": null,
            "grid_auto_rows": null,
            "grid_column": null,
            "grid_gap": null,
            "grid_row": null,
            "grid_template_areas": null,
            "grid_template_columns": null,
            "grid_template_rows": null,
            "height": null,
            "justify_content": null,
            "justify_items": null,
            "left": null,
            "margin": null,
            "max_height": null,
            "max_width": null,
            "min_height": null,
            "min_width": null,
            "object_fit": null,
            "object_position": null,
            "order": null,
            "overflow": null,
            "overflow_x": null,
            "overflow_y": null,
            "padding": null,
            "right": null,
            "top": null,
            "visibility": null,
            "width": null
          }
        },
        "6c150ecf187144a2a8d903aa11ade04c": {
          "model_module": "@jupyter-widgets/controls",
          "model_name": "SliderStyleModel",
          "model_module_version": "1.5.0",
          "state": {
            "_model_module": "@jupyter-widgets/controls",
            "_model_module_version": "1.5.0",
            "_model_name": "SliderStyleModel",
            "_view_count": null,
            "_view_module": "@jupyter-widgets/base",
            "_view_module_version": "1.2.0",
            "_view_name": "StyleView",
            "description_width": "",
            "handle_color": null
          }
        },
        "e52a4a2bff0c465da41b8fce13c61b32": {
          "model_module": "@jupyter-widgets/base",
          "model_name": "LayoutModel",
          "model_module_version": "1.2.0",
          "state": {
            "_model_module": "@jupyter-widgets/base",
            "_model_module_version": "1.2.0",
            "_model_name": "LayoutModel",
            "_view_count": null,
            "_view_module": "@jupyter-widgets/base",
            "_view_module_version": "1.2.0",
            "_view_name": "LayoutView",
            "align_content": null,
            "align_items": null,
            "align_self": null,
            "border": null,
            "bottom": null,
            "display": null,
            "flex": null,
            "flex_flow": null,
            "grid_area": null,
            "grid_auto_columns": null,
            "grid_auto_flow": null,
            "grid_auto_rows": null,
            "grid_column": null,
            "grid_gap": null,
            "grid_row": null,
            "grid_template_areas": null,
            "grid_template_columns": null,
            "grid_template_rows": null,
            "height": null,
            "justify_content": null,
            "justify_items": null,
            "left": null,
            "margin": null,
            "max_height": null,
            "max_width": null,
            "min_height": null,
            "min_width": null,
            "object_fit": null,
            "object_position": null,
            "order": null,
            "overflow": null,
            "overflow_x": null,
            "overflow_y": null,
            "padding": null,
            "right": null,
            "top": null,
            "visibility": null,
            "width": null
          }
        },
        "59d193421adf42c1979b44735fd938be": {
          "model_module": "@jupyter-widgets/controls",
          "model_name": "VBoxModel",
          "model_module_version": "1.5.0",
          "state": {
            "_dom_classes": [
              "widget-interact"
            ],
            "_model_module": "@jupyter-widgets/controls",
            "_model_module_version": "1.5.0",
            "_model_name": "VBoxModel",
            "_view_count": null,
            "_view_module": "@jupyter-widgets/controls",
            "_view_module_version": "1.5.0",
            "_view_name": "VBoxView",
            "box_style": "",
            "children": [
              "IPY_MODEL_1d1aad1385d9483a8cd21f6609f78c35",
              "IPY_MODEL_94d3bc98db3a4c678962c406267229c1"
            ],
            "layout": "IPY_MODEL_e6364de909814000b3a4306369b867c4"
          }
        },
        "1d1aad1385d9483a8cd21f6609f78c35": {
          "model_module": "@jupyter-widgets/controls",
          "model_name": "DropdownModel",
          "model_module_version": "1.5.0",
          "state": {
            "_dom_classes": [],
            "_model_module": "@jupyter-widgets/controls",
            "_model_module_version": "1.5.0",
            "_model_name": "DropdownModel",
            "_options_labels": [
              "orange",
              "apple"
            ],
            "_view_count": null,
            "_view_module": "@jupyter-widgets/controls",
            "_view_module_version": "1.5.0",
            "_view_name": "DropdownView",
            "description": "x",
            "description_tooltip": null,
            "disabled": false,
            "index": 1,
            "layout": "IPY_MODEL_5e138568118843afafed59b2d2d125dc",
            "style": "IPY_MODEL_72ac2298a71c4e68a7aee30d7babd41b"
          }
        },
        "94d3bc98db3a4c678962c406267229c1": {
          "model_module": "@jupyter-widgets/output",
          "model_name": "OutputModel",
          "model_module_version": "1.0.0",
          "state": {
            "_dom_classes": [],
            "_model_module": "@jupyter-widgets/output",
            "_model_module_version": "1.0.0",
            "_model_name": "OutputModel",
            "_view_count": null,
            "_view_module": "@jupyter-widgets/output",
            "_view_module_version": "1.0.0",
            "_view_name": "OutputView",
            "layout": "IPY_MODEL_8508e7be010a45508fdc30fbcd7963e3",
            "msg_id": "",
            "outputs": [
              {
                "output_type": "display_data",
                "data": {
                  "text/plain": "'apple'",
                  "application/vnd.google.colaboratory.intrinsic+json": {
                    "type": "string"
                  }
                },
                "metadata": {}
              }
            ]
          }
        },
        "e6364de909814000b3a4306369b867c4": {
          "model_module": "@jupyter-widgets/base",
          "model_name": "LayoutModel",
          "model_module_version": "1.2.0",
          "state": {
            "_model_module": "@jupyter-widgets/base",
            "_model_module_version": "1.2.0",
            "_model_name": "LayoutModel",
            "_view_count": null,
            "_view_module": "@jupyter-widgets/base",
            "_view_module_version": "1.2.0",
            "_view_name": "LayoutView",
            "align_content": null,
            "align_items": null,
            "align_self": null,
            "border": null,
            "bottom": null,
            "display": null,
            "flex": null,
            "flex_flow": null,
            "grid_area": null,
            "grid_auto_columns": null,
            "grid_auto_flow": null,
            "grid_auto_rows": null,
            "grid_column": null,
            "grid_gap": null,
            "grid_row": null,
            "grid_template_areas": null,
            "grid_template_columns": null,
            "grid_template_rows": null,
            "height": null,
            "justify_content": null,
            "justify_items": null,
            "left": null,
            "margin": null,
            "max_height": null,
            "max_width": null,
            "min_height": null,
            "min_width": null,
            "object_fit": null,
            "object_position": null,
            "order": null,
            "overflow": null,
            "overflow_x": null,
            "overflow_y": null,
            "padding": null,
            "right": null,
            "top": null,
            "visibility": null,
            "width": null
          }
        },
        "5e138568118843afafed59b2d2d125dc": {
          "model_module": "@jupyter-widgets/base",
          "model_name": "LayoutModel",
          "model_module_version": "1.2.0",
          "state": {
            "_model_module": "@jupyter-widgets/base",
            "_model_module_version": "1.2.0",
            "_model_name": "LayoutModel",
            "_view_count": null,
            "_view_module": "@jupyter-widgets/base",
            "_view_module_version": "1.2.0",
            "_view_name": "LayoutView",
            "align_content": null,
            "align_items": null,
            "align_self": null,
            "border": null,
            "bottom": null,
            "display": null,
            "flex": null,
            "flex_flow": null,
            "grid_area": null,
            "grid_auto_columns": null,
            "grid_auto_flow": null,
            "grid_auto_rows": null,
            "grid_column": null,
            "grid_gap": null,
            "grid_row": null,
            "grid_template_areas": null,
            "grid_template_columns": null,
            "grid_template_rows": null,
            "height": null,
            "justify_content": null,
            "justify_items": null,
            "left": null,
            "margin": null,
            "max_height": null,
            "max_width": null,
            "min_height": null,
            "min_width": null,
            "object_fit": null,
            "object_position": null,
            "order": null,
            "overflow": null,
            "overflow_x": null,
            "overflow_y": null,
            "padding": null,
            "right": null,
            "top": null,
            "visibility": null,
            "width": null
          }
        },
        "72ac2298a71c4e68a7aee30d7babd41b": {
          "model_module": "@jupyter-widgets/controls",
          "model_name": "DescriptionStyleModel",
          "model_module_version": "1.5.0",
          "state": {
            "_model_module": "@jupyter-widgets/controls",
            "_model_module_version": "1.5.0",
            "_model_name": "DescriptionStyleModel",
            "_view_count": null,
            "_view_module": "@jupyter-widgets/base",
            "_view_module_version": "1.2.0",
            "_view_name": "StyleView",
            "description_width": ""
          }
        },
        "8508e7be010a45508fdc30fbcd7963e3": {
          "model_module": "@jupyter-widgets/base",
          "model_name": "LayoutModel",
          "model_module_version": "1.2.0",
          "state": {
            "_model_module": "@jupyter-widgets/base",
            "_model_module_version": "1.2.0",
            "_model_name": "LayoutModel",
            "_view_count": null,
            "_view_module": "@jupyter-widgets/base",
            "_view_module_version": "1.2.0",
            "_view_name": "LayoutView",
            "align_content": null,
            "align_items": null,
            "align_self": null,
            "border": null,
            "bottom": null,
            "display": null,
            "flex": null,
            "flex_flow": null,
            "grid_area": null,
            "grid_auto_columns": null,
            "grid_auto_flow": null,
            "grid_auto_rows": null,
            "grid_column": null,
            "grid_gap": null,
            "grid_row": null,
            "grid_template_areas": null,
            "grid_template_columns": null,
            "grid_template_rows": null,
            "height": null,
            "justify_content": null,
            "justify_items": null,
            "left": null,
            "margin": null,
            "max_height": null,
            "max_width": null,
            "min_height": null,
            "min_width": null,
            "object_fit": null,
            "object_position": null,
            "order": null,
            "overflow": null,
            "overflow_x": null,
            "overflow_y": null,
            "padding": null,
            "right": null,
            "top": null,
            "visibility": null,
            "width": null
          }
        },
        "c88add9920b14a46a09d3964e10e2711": {
          "model_module": "@jupyter-widgets/controls",
          "model_name": "VBoxModel",
          "model_module_version": "1.5.0",
          "state": {
            "_dom_classes": [
              "widget-interact"
            ],
            "_model_module": "@jupyter-widgets/controls",
            "_model_module_version": "1.5.0",
            "_model_name": "VBoxModel",
            "_view_count": null,
            "_view_module": "@jupyter-widgets/controls",
            "_view_module_version": "1.5.0",
            "_view_name": "VBoxView",
            "box_style": "",
            "children": [
              "IPY_MODEL_f77493d6213b47c1b84dc729e52cbb37",
              "IPY_MODEL_62f0fba4abc84828b8892f20dee62a2b"
            ],
            "layout": "IPY_MODEL_64f11a98dee5439eb1679df714a17764"
          }
        },
        "f77493d6213b47c1b84dc729e52cbb37": {
          "model_module": "@jupyter-widgets/controls",
          "model_name": "FloatSliderModel",
          "model_module_version": "1.5.0",
          "state": {
            "_dom_classes": [],
            "_model_module": "@jupyter-widgets/controls",
            "_model_module_version": "1.5.0",
            "_model_name": "FloatSliderModel",
            "_view_count": null,
            "_view_module": "@jupyter-widgets/controls",
            "_view_module_version": "1.5.0",
            "_view_name": "FloatSliderView",
            "continuous_update": true,
            "description": "x",
            "description_tooltip": null,
            "disabled": false,
            "layout": "IPY_MODEL_73eec81b57834451b1d4347bc556aaf7",
            "max": 10,
            "min": 0,
            "orientation": "horizontal",
            "readout": true,
            "readout_format": ".2f",
            "step": 0.1,
            "style": "IPY_MODEL_29d45bcd59a945ff8fa2fa028e4fd989",
            "value": 10
          }
        },
        "62f0fba4abc84828b8892f20dee62a2b": {
          "model_module": "@jupyter-widgets/output",
          "model_name": "OutputModel",
          "model_module_version": "1.0.0",
          "state": {
            "_dom_classes": [],
            "_model_module": "@jupyter-widgets/output",
            "_model_module_version": "1.0.0",
            "_model_name": "OutputModel",
            "_view_count": null,
            "_view_module": "@jupyter-widgets/output",
            "_view_module_version": "1.0.0",
            "_view_name": "OutputView",
            "layout": "IPY_MODEL_06efe7badba042ffb5e0edefafc1e43e",
            "msg_id": "",
            "outputs": [
              {
                "output_type": "display_data",
                "data": {
                  "text/plain": "5.1"
                },
                "metadata": {}
              }
            ]
          }
        },
        "64f11a98dee5439eb1679df714a17764": {
          "model_module": "@jupyter-widgets/base",
          "model_name": "LayoutModel",
          "model_module_version": "1.2.0",
          "state": {
            "_model_module": "@jupyter-widgets/base",
            "_model_module_version": "1.2.0",
            "_model_name": "LayoutModel",
            "_view_count": null,
            "_view_module": "@jupyter-widgets/base",
            "_view_module_version": "1.2.0",
            "_view_name": "LayoutView",
            "align_content": null,
            "align_items": null,
            "align_self": null,
            "border": null,
            "bottom": null,
            "display": null,
            "flex": null,
            "flex_flow": null,
            "grid_area": null,
            "grid_auto_columns": null,
            "grid_auto_flow": null,
            "grid_auto_rows": null,
            "grid_column": null,
            "grid_gap": null,
            "grid_row": null,
            "grid_template_areas": null,
            "grid_template_columns": null,
            "grid_template_rows": null,
            "height": null,
            "justify_content": null,
            "justify_items": null,
            "left": null,
            "margin": null,
            "max_height": null,
            "max_width": null,
            "min_height": null,
            "min_width": null,
            "object_fit": null,
            "object_position": null,
            "order": null,
            "overflow": null,
            "overflow_x": null,
            "overflow_y": null,
            "padding": null,
            "right": null,
            "top": null,
            "visibility": null,
            "width": null
          }
        },
        "73eec81b57834451b1d4347bc556aaf7": {
          "model_module": "@jupyter-widgets/base",
          "model_name": "LayoutModel",
          "model_module_version": "1.2.0",
          "state": {
            "_model_module": "@jupyter-widgets/base",
            "_model_module_version": "1.2.0",
            "_model_name": "LayoutModel",
            "_view_count": null,
            "_view_module": "@jupyter-widgets/base",
            "_view_module_version": "1.2.0",
            "_view_name": "LayoutView",
            "align_content": null,
            "align_items": null,
            "align_self": null,
            "border": null,
            "bottom": null,
            "display": null,
            "flex": null,
            "flex_flow": null,
            "grid_area": null,
            "grid_auto_columns": null,
            "grid_auto_flow": null,
            "grid_auto_rows": null,
            "grid_column": null,
            "grid_gap": null,
            "grid_row": null,
            "grid_template_areas": null,
            "grid_template_columns": null,
            "grid_template_rows": null,
            "height": null,
            "justify_content": null,
            "justify_items": null,
            "left": null,
            "margin": null,
            "max_height": null,
            "max_width": null,
            "min_height": null,
            "min_width": null,
            "object_fit": null,
            "object_position": null,
            "order": null,
            "overflow": null,
            "overflow_x": null,
            "overflow_y": null,
            "padding": null,
            "right": null,
            "top": null,
            "visibility": null,
            "width": null
          }
        },
        "29d45bcd59a945ff8fa2fa028e4fd989": {
          "model_module": "@jupyter-widgets/controls",
          "model_name": "SliderStyleModel",
          "model_module_version": "1.5.0",
          "state": {
            "_model_module": "@jupyter-widgets/controls",
            "_model_module_version": "1.5.0",
            "_model_name": "SliderStyleModel",
            "_view_count": null,
            "_view_module": "@jupyter-widgets/base",
            "_view_module_version": "1.2.0",
            "_view_name": "StyleView",
            "description_width": "",
            "handle_color": null
          }
        },
        "06efe7badba042ffb5e0edefafc1e43e": {
          "model_module": "@jupyter-widgets/base",
          "model_name": "LayoutModel",
          "model_module_version": "1.2.0",
          "state": {
            "_model_module": "@jupyter-widgets/base",
            "_model_module_version": "1.2.0",
            "_model_name": "LayoutModel",
            "_view_count": null,
            "_view_module": "@jupyter-widgets/base",
            "_view_module_version": "1.2.0",
            "_view_name": "LayoutView",
            "align_content": null,
            "align_items": null,
            "align_self": null,
            "border": null,
            "bottom": null,
            "display": null,
            "flex": null,
            "flex_flow": null,
            "grid_area": null,
            "grid_auto_columns": null,
            "grid_auto_flow": null,
            "grid_auto_rows": null,
            "grid_column": null,
            "grid_gap": null,
            "grid_row": null,
            "grid_template_areas": null,
            "grid_template_columns": null,
            "grid_template_rows": null,
            "height": null,
            "justify_content": null,
            "justify_items": null,
            "left": null,
            "margin": null,
            "max_height": null,
            "max_width": null,
            "min_height": null,
            "min_width": null,
            "object_fit": null,
            "object_position": null,
            "order": null,
            "overflow": null,
            "overflow_x": null,
            "overflow_y": null,
            "padding": null,
            "right": null,
            "top": null,
            "visibility": null,
            "width": null
          }
        },
        "34d1b2fcb672487d9736a3ca6157da13": {
          "model_module": "@jupyter-widgets/controls",
          "model_name": "VBoxModel",
          "model_module_version": "1.5.0",
          "state": {
            "_dom_classes": [
              "widget-interact"
            ],
            "_model_module": "@jupyter-widgets/controls",
            "_model_module_version": "1.5.0",
            "_model_name": "VBoxModel",
            "_view_count": null,
            "_view_module": "@jupyter-widgets/controls",
            "_view_module_version": "1.5.0",
            "_view_name": "VBoxView",
            "box_style": "",
            "children": [
              "IPY_MODEL_33630420c4924fdea7208114a81ee849",
              "IPY_MODEL_3e49f86026b54a5fa88de2746876bd13"
            ],
            "layout": "IPY_MODEL_9b8400f8f7c048f49acf07a3a0dcd84f"
          }
        },
        "33630420c4924fdea7208114a81ee849": {
          "model_module": "@jupyter-widgets/controls",
          "model_name": "FloatSliderModel",
          "model_module_version": "1.5.0",
          "state": {
            "_dom_classes": [],
            "_model_module": "@jupyter-widgets/controls",
            "_model_module_version": "1.5.0",
            "_model_name": "FloatSliderModel",
            "_view_count": null,
            "_view_module": "@jupyter-widgets/controls",
            "_view_module_version": "1.5.0",
            "_view_name": "FloatSliderView",
            "continuous_update": true,
            "description": "x",
            "description_tooltip": null,
            "disabled": false,
            "layout": "IPY_MODEL_c6974064ef204fb4bac0cb917e94e003",
            "max": 10,
            "min": 0,
            "orientation": "horizontal",
            "readout": true,
            "readout_format": ".2f",
            "step": 2,
            "style": "IPY_MODEL_5f1c6c415feb4111a177db6807c491a6",
            "value": 0
          }
        },
        "3e49f86026b54a5fa88de2746876bd13": {
          "model_module": "@jupyter-widgets/output",
          "model_name": "OutputModel",
          "model_module_version": "1.0.0",
          "state": {
            "_dom_classes": [],
            "_model_module": "@jupyter-widgets/output",
            "_model_module_version": "1.0.0",
            "_model_name": "OutputModel",
            "_view_count": null,
            "_view_module": "@jupyter-widgets/output",
            "_view_module_version": "1.0.0",
            "_view_name": "OutputView",
            "layout": "IPY_MODEL_fe2a3434067e481faa5bb98a83692125",
            "msg_id": "",
            "outputs": [
              {
                "output_type": "display_data",
                "data": {
                  "text/plain": "0.0"
                },
                "metadata": {}
              }
            ]
          }
        },
        "9b8400f8f7c048f49acf07a3a0dcd84f": {
          "model_module": "@jupyter-widgets/base",
          "model_name": "LayoutModel",
          "model_module_version": "1.2.0",
          "state": {
            "_model_module": "@jupyter-widgets/base",
            "_model_module_version": "1.2.0",
            "_model_name": "LayoutModel",
            "_view_count": null,
            "_view_module": "@jupyter-widgets/base",
            "_view_module_version": "1.2.0",
            "_view_name": "LayoutView",
            "align_content": null,
            "align_items": null,
            "align_self": null,
            "border": null,
            "bottom": null,
            "display": null,
            "flex": null,
            "flex_flow": null,
            "grid_area": null,
            "grid_auto_columns": null,
            "grid_auto_flow": null,
            "grid_auto_rows": null,
            "grid_column": null,
            "grid_gap": null,
            "grid_row": null,
            "grid_template_areas": null,
            "grid_template_columns": null,
            "grid_template_rows": null,
            "height": null,
            "justify_content": null,
            "justify_items": null,
            "left": null,
            "margin": null,
            "max_height": null,
            "max_width": null,
            "min_height": null,
            "min_width": null,
            "object_fit": null,
            "object_position": null,
            "order": null,
            "overflow": null,
            "overflow_x": null,
            "overflow_y": null,
            "padding": null,
            "right": null,
            "top": null,
            "visibility": null,
            "width": null
          }
        },
        "c6974064ef204fb4bac0cb917e94e003": {
          "model_module": "@jupyter-widgets/base",
          "model_name": "LayoutModel",
          "model_module_version": "1.2.0",
          "state": {
            "_model_module": "@jupyter-widgets/base",
            "_model_module_version": "1.2.0",
            "_model_name": "LayoutModel",
            "_view_count": null,
            "_view_module": "@jupyter-widgets/base",
            "_view_module_version": "1.2.0",
            "_view_name": "LayoutView",
            "align_content": null,
            "align_items": null,
            "align_self": null,
            "border": null,
            "bottom": null,
            "display": null,
            "flex": null,
            "flex_flow": null,
            "grid_area": null,
            "grid_auto_columns": null,
            "grid_auto_flow": null,
            "grid_auto_rows": null,
            "grid_column": null,
            "grid_gap": null,
            "grid_row": null,
            "grid_template_areas": null,
            "grid_template_columns": null,
            "grid_template_rows": null,
            "height": null,
            "justify_content": null,
            "justify_items": null,
            "left": null,
            "margin": null,
            "max_height": null,
            "max_width": null,
            "min_height": null,
            "min_width": null,
            "object_fit": null,
            "object_position": null,
            "order": null,
            "overflow": null,
            "overflow_x": null,
            "overflow_y": null,
            "padding": null,
            "right": null,
            "top": null,
            "visibility": null,
            "width": null
          }
        },
        "5f1c6c415feb4111a177db6807c491a6": {
          "model_module": "@jupyter-widgets/controls",
          "model_name": "SliderStyleModel",
          "model_module_version": "1.5.0",
          "state": {
            "_model_module": "@jupyter-widgets/controls",
            "_model_module_version": "1.5.0",
            "_model_name": "SliderStyleModel",
            "_view_count": null,
            "_view_module": "@jupyter-widgets/base",
            "_view_module_version": "1.2.0",
            "_view_name": "StyleView",
            "description_width": "",
            "handle_color": null
          }
        },
        "fe2a3434067e481faa5bb98a83692125": {
          "model_module": "@jupyter-widgets/base",
          "model_name": "LayoutModel",
          "model_module_version": "1.2.0",
          "state": {
            "_model_module": "@jupyter-widgets/base",
            "_model_module_version": "1.2.0",
            "_model_name": "LayoutModel",
            "_view_count": null,
            "_view_module": "@jupyter-widgets/base",
            "_view_module_version": "1.2.0",
            "_view_name": "LayoutView",
            "align_content": null,
            "align_items": null,
            "align_self": null,
            "border": null,
            "bottom": null,
            "display": null,
            "flex": null,
            "flex_flow": null,
            "grid_area": null,
            "grid_auto_columns": null,
            "grid_auto_flow": null,
            "grid_auto_rows": null,
            "grid_column": null,
            "grid_gap": null,
            "grid_row": null,
            "grid_template_areas": null,
            "grid_template_columns": null,
            "grid_template_rows": null,
            "height": null,
            "justify_content": null,
            "justify_items": null,
            "left": null,
            "margin": null,
            "max_height": null,
            "max_width": null,
            "min_height": null,
            "min_width": null,
            "object_fit": null,
            "object_position": null,
            "order": null,
            "overflow": null,
            "overflow_x": null,
            "overflow_y": null,
            "padding": null,
            "right": null,
            "top": null,
            "visibility": null,
            "width": null
          }
        },
        "bf2a3bd11e744c54a5a9c75beb438c83": {
          "model_module": "@jupyter-widgets/controls",
          "model_name": "VBoxModel",
          "model_module_version": "1.5.0",
          "state": {
            "_dom_classes": [
              "widget-interact"
            ],
            "_model_module": "@jupyter-widgets/controls",
            "_model_module_version": "1.5.0",
            "_model_name": "VBoxModel",
            "_view_count": null,
            "_view_module": "@jupyter-widgets/controls",
            "_view_module_version": "1.5.0",
            "_view_name": "VBoxView",
            "box_style": "",
            "children": [
              "IPY_MODEL_2bd170248ee6435d8bb87503884df182",
              "IPY_MODEL_a0b18f7218cf49f58907d4bcac2ae919"
            ],
            "layout": "IPY_MODEL_f82f77a1ee5b4e47bc1c033279e8dbd9"
          }
        },
        "2bd170248ee6435d8bb87503884df182": {
          "model_module": "@jupyter-widgets/controls",
          "model_name": "DropdownModel",
          "model_module_version": "1.5.0",
          "state": {
            "_dom_classes": [],
            "_model_module": "@jupyter-widgets/controls",
            "_model_module_version": "1.5.0",
            "_model_name": "DropdownModel",
            "_options_labels": [
              "apples",
              "oranges"
            ],
            "_view_count": null,
            "_view_module": "@jupyter-widgets/controls",
            "_view_module_version": "1.5.0",
            "_view_name": "DropdownView",
            "description": "x",
            "description_tooltip": null,
            "disabled": false,
            "index": 1,
            "layout": "IPY_MODEL_51ee713bb2e542deb3d2e2731b0cc62f",
            "style": "IPY_MODEL_1b968841fc824df5b7736e6b282423d2"
          }
        },
        "a0b18f7218cf49f58907d4bcac2ae919": {
          "model_module": "@jupyter-widgets/output",
          "model_name": "OutputModel",
          "model_module_version": "1.0.0",
          "state": {
            "_dom_classes": [],
            "_model_module": "@jupyter-widgets/output",
            "_model_module_version": "1.0.0",
            "_model_name": "OutputModel",
            "_view_count": null,
            "_view_module": "@jupyter-widgets/output",
            "_view_module_version": "1.0.0",
            "_view_name": "OutputView",
            "layout": "IPY_MODEL_358b22642039469ca627f16420030625",
            "msg_id": "",
            "outputs": [
              {
                "output_type": "display_data",
                "data": {
                  "text/plain": "'apples'",
                  "application/vnd.google.colaboratory.intrinsic+json": {
                    "type": "string"
                  }
                },
                "metadata": {}
              }
            ]
          }
        },
        "f82f77a1ee5b4e47bc1c033279e8dbd9": {
          "model_module": "@jupyter-widgets/base",
          "model_name": "LayoutModel",
          "model_module_version": "1.2.0",
          "state": {
            "_model_module": "@jupyter-widgets/base",
            "_model_module_version": "1.2.0",
            "_model_name": "LayoutModel",
            "_view_count": null,
            "_view_module": "@jupyter-widgets/base",
            "_view_module_version": "1.2.0",
            "_view_name": "LayoutView",
            "align_content": null,
            "align_items": null,
            "align_self": null,
            "border": null,
            "bottom": null,
            "display": null,
            "flex": null,
            "flex_flow": null,
            "grid_area": null,
            "grid_auto_columns": null,
            "grid_auto_flow": null,
            "grid_auto_rows": null,
            "grid_column": null,
            "grid_gap": null,
            "grid_row": null,
            "grid_template_areas": null,
            "grid_template_columns": null,
            "grid_template_rows": null,
            "height": null,
            "justify_content": null,
            "justify_items": null,
            "left": null,
            "margin": null,
            "max_height": null,
            "max_width": null,
            "min_height": null,
            "min_width": null,
            "object_fit": null,
            "object_position": null,
            "order": null,
            "overflow": null,
            "overflow_x": null,
            "overflow_y": null,
            "padding": null,
            "right": null,
            "top": null,
            "visibility": null,
            "width": null
          }
        },
        "51ee713bb2e542deb3d2e2731b0cc62f": {
          "model_module": "@jupyter-widgets/base",
          "model_name": "LayoutModel",
          "model_module_version": "1.2.0",
          "state": {
            "_model_module": "@jupyter-widgets/base",
            "_model_module_version": "1.2.0",
            "_model_name": "LayoutModel",
            "_view_count": null,
            "_view_module": "@jupyter-widgets/base",
            "_view_module_version": "1.2.0",
            "_view_name": "LayoutView",
            "align_content": null,
            "align_items": null,
            "align_self": null,
            "border": null,
            "bottom": null,
            "display": null,
            "flex": null,
            "flex_flow": null,
            "grid_area": null,
            "grid_auto_columns": null,
            "grid_auto_flow": null,
            "grid_auto_rows": null,
            "grid_column": null,
            "grid_gap": null,
            "grid_row": null,
            "grid_template_areas": null,
            "grid_template_columns": null,
            "grid_template_rows": null,
            "height": null,
            "justify_content": null,
            "justify_items": null,
            "left": null,
            "margin": null,
            "max_height": null,
            "max_width": null,
            "min_height": null,
            "min_width": null,
            "object_fit": null,
            "object_position": null,
            "order": null,
            "overflow": null,
            "overflow_x": null,
            "overflow_y": null,
            "padding": null,
            "right": null,
            "top": null,
            "visibility": null,
            "width": null
          }
        },
        "1b968841fc824df5b7736e6b282423d2": {
          "model_module": "@jupyter-widgets/controls",
          "model_name": "DescriptionStyleModel",
          "model_module_version": "1.5.0",
          "state": {
            "_model_module": "@jupyter-widgets/controls",
            "_model_module_version": "1.5.0",
            "_model_name": "DescriptionStyleModel",
            "_view_count": null,
            "_view_module": "@jupyter-widgets/base",
            "_view_module_version": "1.2.0",
            "_view_name": "StyleView",
            "description_width": ""
          }
        },
        "358b22642039469ca627f16420030625": {
          "model_module": "@jupyter-widgets/base",
          "model_name": "LayoutModel",
          "model_module_version": "1.2.0",
          "state": {
            "_model_module": "@jupyter-widgets/base",
            "_model_module_version": "1.2.0",
            "_model_name": "LayoutModel",
            "_view_count": null,
            "_view_module": "@jupyter-widgets/base",
            "_view_module_version": "1.2.0",
            "_view_name": "LayoutView",
            "align_content": null,
            "align_items": null,
            "align_self": null,
            "border": null,
            "bottom": null,
            "display": null,
            "flex": null,
            "flex_flow": null,
            "grid_area": null,
            "grid_auto_columns": null,
            "grid_auto_flow": null,
            "grid_auto_rows": null,
            "grid_column": null,
            "grid_gap": null,
            "grid_row": null,
            "grid_template_areas": null,
            "grid_template_columns": null,
            "grid_template_rows": null,
            "height": null,
            "justify_content": null,
            "justify_items": null,
            "left": null,
            "margin": null,
            "max_height": null,
            "max_width": null,
            "min_height": null,
            "min_width": null,
            "object_fit": null,
            "object_position": null,
            "order": null,
            "overflow": null,
            "overflow_x": null,
            "overflow_y": null,
            "padding": null,
            "right": null,
            "top": null,
            "visibility": null,
            "width": null
          }
        },
        "4fff440278194fa299823f67545274db": {
          "model_module": "@jupyter-widgets/controls",
          "model_name": "VBoxModel",
          "model_module_version": "1.5.0",
          "state": {
            "_dom_classes": [
              "widget-interact"
            ],
            "_model_module": "@jupyter-widgets/controls",
            "_model_module_version": "1.5.0",
            "_model_name": "VBoxModel",
            "_view_count": null,
            "_view_module": "@jupyter-widgets/controls",
            "_view_module_version": "1.5.0",
            "_view_name": "VBoxView",
            "box_style": "",
            "children": [
              "IPY_MODEL_439ca8623c374d43b103970a7c733d68",
              "IPY_MODEL_05bc14dabaa94904bff8730deeff5385"
            ],
            "layout": "IPY_MODEL_c6ffed2b6b694f68ac8f5e70cd66304a"
          }
        },
        "439ca8623c374d43b103970a7c733d68": {
          "model_module": "@jupyter-widgets/controls",
          "model_name": "ComboboxModel",
          "model_module_version": "1.5.0",
          "state": {
            "_dom_classes": [],
            "_model_module": "@jupyter-widgets/controls",
            "_model_module_version": "1.5.0",
            "_model_name": "ComboboxModel",
            "_view_count": null,
            "_view_module": "@jupyter-widgets/controls",
            "_view_module_version": "1.5.0",
            "_view_name": "ComboboxView",
            "continuous_update": true,
            "description": "x",
            "description_tooltip": null,
            "disabled": false,
            "ensure_option": false,
            "layout": "IPY_MODEL_6141781e5abd4a58ae29111970023af4",
            "options": [
              "Chicago",
              "New York",
              "Washington"
            ],
            "placeholder": "​",
            "style": "IPY_MODEL_02cac69fd33b44b89a54032ee8583a59",
            "value": "Chicago"
          }
        },
        "05bc14dabaa94904bff8730deeff5385": {
          "model_module": "@jupyter-widgets/output",
          "model_name": "OutputModel",
          "model_module_version": "1.0.0",
          "state": {
            "_dom_classes": [],
            "_model_module": "@jupyter-widgets/output",
            "_model_module_version": "1.0.0",
            "_model_name": "OutputModel",
            "_view_count": null,
            "_view_module": "@jupyter-widgets/output",
            "_view_module_version": "1.0.0",
            "_view_name": "OutputView",
            "layout": "IPY_MODEL_e4dcb5e3b2b84b2dad138d0bcc5483d1",
            "msg_id": "",
            "outputs": [
              {
                "output_type": "display_data",
                "data": {
                  "text/plain": "'New York'",
                  "application/vnd.google.colaboratory.intrinsic+json": {
                    "type": "string"
                  }
                },
                "metadata": {}
              }
            ]
          }
        },
        "c6ffed2b6b694f68ac8f5e70cd66304a": {
          "model_module": "@jupyter-widgets/base",
          "model_name": "LayoutModel",
          "model_module_version": "1.2.0",
          "state": {
            "_model_module": "@jupyter-widgets/base",
            "_model_module_version": "1.2.0",
            "_model_name": "LayoutModel",
            "_view_count": null,
            "_view_module": "@jupyter-widgets/base",
            "_view_module_version": "1.2.0",
            "_view_name": "LayoutView",
            "align_content": null,
            "align_items": null,
            "align_self": null,
            "border": null,
            "bottom": null,
            "display": null,
            "flex": null,
            "flex_flow": null,
            "grid_area": null,
            "grid_auto_columns": null,
            "grid_auto_flow": null,
            "grid_auto_rows": null,
            "grid_column": null,
            "grid_gap": null,
            "grid_row": null,
            "grid_template_areas": null,
            "grid_template_columns": null,
            "grid_template_rows": null,
            "height": null,
            "justify_content": null,
            "justify_items": null,
            "left": null,
            "margin": null,
            "max_height": null,
            "max_width": null,
            "min_height": null,
            "min_width": null,
            "object_fit": null,
            "object_position": null,
            "order": null,
            "overflow": null,
            "overflow_x": null,
            "overflow_y": null,
            "padding": null,
            "right": null,
            "top": null,
            "visibility": null,
            "width": null
          }
        },
        "6141781e5abd4a58ae29111970023af4": {
          "model_module": "@jupyter-widgets/base",
          "model_name": "LayoutModel",
          "model_module_version": "1.2.0",
          "state": {
            "_model_module": "@jupyter-widgets/base",
            "_model_module_version": "1.2.0",
            "_model_name": "LayoutModel",
            "_view_count": null,
            "_view_module": "@jupyter-widgets/base",
            "_view_module_version": "1.2.0",
            "_view_name": "LayoutView",
            "align_content": null,
            "align_items": null,
            "align_self": null,
            "border": null,
            "bottom": null,
            "display": null,
            "flex": null,
            "flex_flow": null,
            "grid_area": null,
            "grid_auto_columns": null,
            "grid_auto_flow": null,
            "grid_auto_rows": null,
            "grid_column": null,
            "grid_gap": null,
            "grid_row": null,
            "grid_template_areas": null,
            "grid_template_columns": null,
            "grid_template_rows": null,
            "height": null,
            "justify_content": null,
            "justify_items": null,
            "left": null,
            "margin": null,
            "max_height": null,
            "max_width": null,
            "min_height": null,
            "min_width": null,
            "object_fit": null,
            "object_position": null,
            "order": null,
            "overflow": null,
            "overflow_x": null,
            "overflow_y": null,
            "padding": null,
            "right": null,
            "top": null,
            "visibility": null,
            "width": null
          }
        },
        "02cac69fd33b44b89a54032ee8583a59": {
          "model_module": "@jupyter-widgets/controls",
          "model_name": "DescriptionStyleModel",
          "model_module_version": "1.5.0",
          "state": {
            "_model_module": "@jupyter-widgets/controls",
            "_model_module_version": "1.5.0",
            "_model_name": "DescriptionStyleModel",
            "_view_count": null,
            "_view_module": "@jupyter-widgets/base",
            "_view_module_version": "1.2.0",
            "_view_name": "StyleView",
            "description_width": ""
          }
        },
        "e4dcb5e3b2b84b2dad138d0bcc5483d1": {
          "model_module": "@jupyter-widgets/base",
          "model_name": "LayoutModel",
          "model_module_version": "1.2.0",
          "state": {
            "_model_module": "@jupyter-widgets/base",
            "_model_module_version": "1.2.0",
            "_model_name": "LayoutModel",
            "_view_count": null,
            "_view_module": "@jupyter-widgets/base",
            "_view_module_version": "1.2.0",
            "_view_name": "LayoutView",
            "align_content": null,
            "align_items": null,
            "align_self": null,
            "border": null,
            "bottom": null,
            "display": null,
            "flex": null,
            "flex_flow": null,
            "grid_area": null,
            "grid_auto_columns": null,
            "grid_auto_flow": null,
            "grid_auto_rows": null,
            "grid_column": null,
            "grid_gap": null,
            "grid_row": null,
            "grid_template_areas": null,
            "grid_template_columns": null,
            "grid_template_rows": null,
            "height": null,
            "justify_content": null,
            "justify_items": null,
            "left": null,
            "margin": null,
            "max_height": null,
            "max_width": null,
            "min_height": null,
            "min_width": null,
            "object_fit": null,
            "object_position": null,
            "order": null,
            "overflow": null,
            "overflow_x": null,
            "overflow_y": null,
            "padding": null,
            "right": null,
            "top": null,
            "visibility": null,
            "width": null
          }
        },
        "20b975b43a4d497093f5638681c9a5c6": {
          "model_module": "@jupyter-widgets/controls",
          "model_name": "VBoxModel",
          "model_module_version": "1.5.0",
          "state": {
            "_dom_classes": [
              "widget-interact"
            ],
            "_model_module": "@jupyter-widgets/controls",
            "_model_module_version": "1.5.0",
            "_model_name": "VBoxModel",
            "_view_count": null,
            "_view_module": "@jupyter-widgets/controls",
            "_view_module_version": "1.5.0",
            "_view_name": "VBoxView",
            "box_style": "",
            "children": [
              "IPY_MODEL_7b228f5437964c39a405fd5a5239e3b4",
              "IPY_MODEL_ca7f590c0efd4905b84953512fea639b",
              "IPY_MODEL_b36eff30b43d46abaf137f266cd8ef3d"
            ],
            "layout": "IPY_MODEL_8e09d8a687354044ac21848f673543f4"
          }
        },
        "7b228f5437964c39a405fd5a5239e3b4": {
          "model_module": "@jupyter-widgets/controls",
          "model_name": "FloatSliderModel",
          "model_module_version": "1.5.0",
          "state": {
            "_dom_classes": [],
            "_model_module": "@jupyter-widgets/controls",
            "_model_module_version": "1.5.0",
            "_model_name": "FloatSliderModel",
            "_view_count": null,
            "_view_module": "@jupyter-widgets/controls",
            "_view_module_version": "1.5.0",
            "_view_name": "FloatSliderView",
            "continuous_update": true,
            "description": "m",
            "description_tooltip": null,
            "disabled": false,
            "layout": "IPY_MODEL_753f62dd2a054c8fa24281d687e32d34",
            "max": 2,
            "min": -2,
            "orientation": "horizontal",
            "readout": true,
            "readout_format": ".2f",
            "step": 0.1,
            "style": "IPY_MODEL_46e5a648f17043a3bb4dd7b8cb1bf1b1",
            "value": 1
          }
        },
        "ca7f590c0efd4905b84953512fea639b": {
          "model_module": "@jupyter-widgets/controls",
          "model_name": "FloatSliderModel",
          "model_module_version": "1.5.0",
          "state": {
            "_dom_classes": [],
            "_model_module": "@jupyter-widgets/controls",
            "_model_module_version": "1.5.0",
            "_model_name": "FloatSliderModel",
            "_view_count": null,
            "_view_module": "@jupyter-widgets/controls",
            "_view_module_version": "1.5.0",
            "_view_name": "FloatSliderView",
            "continuous_update": true,
            "description": "b",
            "description_tooltip": null,
            "disabled": false,
            "layout": "IPY_MODEL_1c1694eacf5048f7b294e5337ecf6656",
            "max": 3,
            "min": -3,
            "orientation": "horizontal",
            "readout": true,
            "readout_format": ".2f",
            "step": 0.5,
            "style": "IPY_MODEL_a1c555ae7670457781e1a79ba8ca2cf8",
            "value": 1
          }
        },
        "b36eff30b43d46abaf137f266cd8ef3d": {
          "model_module": "@jupyter-widgets/output",
          "model_name": "OutputModel",
          "model_module_version": "1.0.0",
          "state": {
            "_dom_classes": [],
            "_model_module": "@jupyter-widgets/output",
            "_model_module_version": "1.0.0",
            "_model_name": "OutputModel",
            "_view_count": null,
            "_view_module": "@jupyter-widgets/output",
            "_view_module_version": "1.0.0",
            "_view_name": "OutputView",
            "layout": "IPY_MODEL_66ebc92d21cf45d4bea1ade0e0161ede",
            "msg_id": "",
            "outputs": [
              {
                "output_type": "display_data",
                "data": {
                  "text/plain": "<Figure size 640x480 with 1 Axes>",
                  "image/png": "iVBORw0KGgoAAAANSUhEUgAAAiIAAAGdCAYAAAAvwBgXAAAAOXRFWHRTb2Z0d2FyZQBNYXRwbG90bGliIHZlcnNpb24zLjcuMSwgaHR0cHM6Ly9tYXRwbG90bGliLm9yZy/bCgiHAAAACXBIWXMAAA9hAAAPYQGoP6dpAAA3gElEQVR4nO3deXRU9eH//9dM9pAFAoQQCBDWQIK4gmBVEGQRgdj+rPrx26qlVCvuHhX6AVIwLWqp+tHaSj1W+qlt1W4JKCCogAuIiGhJSICwh5CwZyWTZOb9+4OajwiEBDJ5z/J8nDPnmDvvO/d1uZk7L2femeswxhgBAABY4LQdAAAABC+KCAAAsIYiAgAArKGIAAAAaygiAADAGooIAACwhiICAACsoYgAAABrQm0HaIrH41FJSYliY2PlcDhsxwEAAM1gjFFlZaWSk5PldDb9nodPF5GSkhKlpKTYjgEAAM7Dvn371L179ybH+HQRiY2NlXRyR+Li4iynAQD/UVp+QpN/87Fq6jyaNzld372s6RcDoDVVVFQoJSWl8XW8KT5dRL7+OCYuLo4iAgAtMHNJkWodkbqifwf98NqBcjr5eBttrznTKpisCgABZs22Q3pn8wGFOB3KzsyghMCnUUQAIIDU1ruVlZsnSbpzRC8N7Mq7yfBtFBEACCAL1+zU7iM16hIXoYfG9LMdBzgniggABIjdh6v10uoiSdLsGwcpNjLMciLg3CgiABAAjDGaszhfdQ0eXd2vkyYO7mo7EtAsFBEACADL80r14bZDCg9xat6UDL4EEn6DIgIAfq7K1aC5S7ZIku4Z2UepndpZTgQ0H0UEAPzcC+9vV2lFrXokROvekX1sxwFahCICAH5sa2mlXv14lyRp7pR0RYaFWE4EtAxFBAD8lMdjNCtns9weo/HpSRo1INF2JKDFKCIA4Kf+8UWxNuw+pujwEM2ZNMh2HOC8UEQAwA8dr6nT/GWFkqSHxvRTcvsoy4mA80MRAQA/9My7W3W0uk79u8TorqtSbccBzhtFBAD8zKa9x/TXz/ZKkrIzBysshFM5/Be/vQDgR9weo1k5eTJG+t6l3TU0NcF2JOCCUEQAwI/8ad1u5ZdUKC4yVDNvSLMdB7hgFBEA8BMHK2r16xXbJEmPj09Tp5gIy4mAC0cRAQA/8YulBap0NWhISnvdNrSH7ThAq6CIAIAfWFt0WLlflsjpkLKnZCjEyUXtEBgoIgDg4+oaPJqVmydJ+sGVPTW4e7zlREDroYgAgI975aOd2nmoWp1iIvTI2AG24wCtiiICAD5s39EavfjBdknSrIkDFR8VZjkR0LooIgDgw+YuyVdtvUfDe3fUlIuTbccBWh1FBAB81MotZXqv4KDCQhx6MjNdDgcTVBF4KCIA4INq6hr088X5kqRpV/dW38RYy4kA76CIAIAP+s0HRdp//IS6tY/S/df1sx0H8BqKCAD4mKKDlXrlo52SpJ9PTldUeIjlRID3UEQAwIcYYzQ7J1/1bqMxAxN1/aAutiMBXkURAQAfkvtlidbtPKLIMKeyJqXbjgN4XZsVkaeeekoOh0MPPfRQW20SAPxK+Yl6Zb9TIEm6/7p+SkmItpwI8L42KSIbNmzQwoULddFFF7XF5gDALz27YqsOV7nUp3M7Tbu6t+04QJvwehGpqqrS7bffrldeeUUdOnTw9uYAwC9tLi7Xnz7dI0l6ckqGwkP55BzBweu/6dOnT9fEiRM1ZswYb28KAPyS22M0K2ezPEaacnGyRvTtZDsS0GZCvfngb7zxhr744gtt2LChWeNdLpdcLlfjzxUVFd6KBgA+440Ne/VVcbliI0L13zcMtB0HaFNee0dk3759evDBB/XnP/9ZkZGRzVpn/vz5io+Pb7ylpKR4Kx4A+ITDVS49vaxQkvTo2P5KjGve+RIIFA5jjPHGA+fk5Oimm25SSMj/fRGP2+2Ww+GQ0+mUy+U65T7pzO+IpKSkqLy8XHFxcd6ICQBWPfrWV/rHF8VKT45T7vSrFBrC3BD4v4qKCsXHxzfr9dtrH82MHj1amzdvPmXZXXfdpbS0ND3xxBOnlRBJioiIUEREhLciAYBPWb/ziP7xRbEcDik7M4MSgqDktSISGxurjIyMU5a1a9dOHTt2PG05AASberdHs3PzJEm3De2hS3rwV4UITtRvALDgtU92aVtZlRLahevxcQNsxwGs8epfzXzb6tWr23JzAOCTSo6f0PPvbZckzZyQpvbR4ZYTAfbwjggAtLF5S7aops6tK3p10Pcu7W47DmAVRQQA2tCqwoNanl+qEKdDT2ZmyOl02I4EWEURAYA2UlvvVtbifEnS1O+kKi2JryUAKCIA0EZ+u3qH9h6tUVJcpB4c3c92HMAnUEQAoA3sOlytl1fvkCRlTRqkdhFt+rcCgM+iiACAlxljNCc3T3Vuj67t31njM5JsRwJ8BkUEALxs6eZSfbT9sMJDnZo7OV0OBxNUga9RRADAiypr6zXv7ZMTVO8d2Ue9OrWznAjwLRQRAPCi59/brrIKl3p1jNY91/axHQfwORQRAPCSLSUVWrR2tyRp3pQMRYadfrFPINhRRADACzweo9m5eXJ7jCYO7qpr+ne2HQnwSRQRAPCCv28s1sY9x9QuPESzbxxkOw7gsygiANDKjlXXaf6yAknSw9f3V1J8pOVEgO+iiABAK3t6eaGO1dQrLSlWd4zoZTsO4NMoIgDQijbuOaY3NuyTJGVnZigshNMs0BSeIQDQShrcHs3KyZMkff/y7rq8V4LlRIDvo4gAQCv533V7VHCgQu2jwzRjwkDbcQC/QBEBgFZQVlGrZ1dukyQ9MT5NCe3CLScC/ANFBABaQfY7BapyNejilPa65fIU23EAv0ERAYAL9NH2Q1ryVYmcjpMTVJ1OLmoHNBdFBAAugKvBrTm5Jy9q98PhvZTRLd5yIsC/UEQA4AL8fs1O7TpcrcTYCD06tr/tOIDfoYgAwHnae6RGv1lVJEmadeMgxUaGWU4E+B+KCACcB2OMshbnydXg0VV9O2rSRV1tRwL8EkUEAM7Dii1lWrX1kMJCHJo3JUMOBxNUgfNBEQGAFqp2NWju4pMTVO++po/6dI6xnAjwXxQRAGihFz7YrpLyWnXvEKXpo/rajgP4NYoIALTAtrJKvfrRLknS3MnpigoPsZwI8G8UEQBoJmOMZuXkqcFjNHZQF40e2MV2JMDvUUQAoJn+tWm/Ptt1VFFhIZozaZDtOEBAoIgAQDOU19Trl0sLJEkPjO6n7h2iLScCAgNFBACaYcGKrTpcVae+iTGa+p1U23GAgEERAYBz+Grfcb2+fo8k6ckpGQoP5dQJtBaeTQDQBLfn5ARVY6SbLumm4X062o4EBBSKCAA04S/r92jz/nLFRobqZzcMtB0HCDgUEQA4i0OVLj3z7lZJ0uPjBqhzbITlREDgoYgAwFnMX1qgytoGDe4Wr/8a1tN2HCAgUUQA4Aw+3XlE/9y0Xw6HlJ2ZoRAnF7UDvIEiAgDfUtfg0aycPEnS7cN6aEhKe7uBgABGEQGAb3n1410qOlilTjHhemxsmu04QECjiADANxQfq9EL72+XJP3shoGKjw6znAgIbBQRAPiGeUu26ES9W0NTE3TTJd1sxwECHkUEAP7j/YIyrdhSplCnQ9mZGXI4mKAKeBtFBAAknahzK2txviRp6tWp6t8l1nIiIDhQRABA0kurilR87ISS4yP1wHX9bMcBggZFBEDQ23GoSgs/3CFJmjMpXe0iQi0nAoIHRQRAUDPGaE5unurdRqMGdNa49C62IwFBhSICIKgt+fcBfVJ0RBGhTs2dzARVoK1RRAAErYraej359hZJ0n2j+qpHx2jLiYDgQxEBELSeW7lNhypdSu3UTj+5trftOEBQoogACEp5+8v1x7W7JUnzpqQrIjTEbiAgSFFEAAQdj8doVk6ePEa68aKuurpfZ9uRgKBFEQEQdN78fJ++3HdcMRGhmn3jINtxgKBGEQEQVI5UufTUskJJ0iPX91eXuEjLiYDgRhEBEFSeXl6o8hP1Gtg1Tj8c3tN2HCDoUUQABI3Pdx/VW58XS5KyMzMUGsIpELCNZyGAoNDg9mhWTp4k6dYrUnRZzw6WEwGQKCIAgsSitbtVWFqpDtFhemJ8mu04AP6DIgIg4B0oP6HnVm6TJM2YkKYO7cItJwLwNYoIgICX/XaBquvcuqxnB918WYrtOAC+gSICIKCt2XZI72w+oBCnQ9mZGXI6uagd4EsoIgACVm29W1m5Jyeo3jmilwZ2jbOcCMC3UUQABKyFa3Zq95EadYmL0ENj+tmOA+AMvFpE5s+fryuuuEKxsbFKTExUZmamtm7d6s1NAoAkaffhar20ukiSNPvGQYqNDLOcCMCZeLWIrFmzRtOnT9enn36qlStXqr6+XmPHjlV1dbU3NwsgyBljNGdxvuoaPLq6XydNHNzVdiQAZxHqzQdfvnz5KT8vWrRIiYmJ2rhxo6655hpvbhpAEFueV6oPtx1SeIhTcyeny+Fggirgq9p0jkh5ebkkKSEhoS03CyCIVLkaNHfJFknSPSP7qHfnGMuJADTFq++IfJPH49FDDz2kq666ShkZGWcc43K55HK5Gn+uqKhoq3gAAsQL729XaUWteiRE696RfWzHAXAObfaOyPTp05WXl6c33njjrGPmz5+v+Pj4xltKCl88BKD5tpZW6tWPd0mS5k5JV2RYiOVEAM6lTYrIfffdp7ffflurVq1S9+7dzzpu5syZKi8vb7zt27evLeIBCAAej9GsnM1ye4zGpydp1IBE25EANINXP5oxxuj+++/Xv/71L61evVqpqalNjo+IiFBERIQ3IwEIUP/4olgbdh9TdHiI5kwaZDsOgGbyahGZPn26/vKXvyg3N1exsbEqLS2VJMXHxysqKsqbmwYQRI7X1Gn+skJJ0oOj+ym5PecXwF949aOZ3/3udyovL9fIkSPVtWvXxtubb77pzc0CCDLPvLtVR6vr1L9LjH70nabfeQXgW7z+0QwAeNOmvcf018/2SpKyMwcrLIQrVwD+hGcsAL/l9hjNysmTMdL3Lu2uoal8RxHgbygiAPzWn9btVn5JheIiQzXzhjTbcQCcB4oIAL90sKJWv16xTZL0+Pg0dYrhL+4Af0QRAeCXfrG0QJWuBg3pHq/bhvawHQfAeaKIAPA7a4sOK/fLEjkdJyeohji5qB3grygiAPxKXYNHs3LzJEk/uLKnBnePt5wIwIWgiADwK698tFM7D1WrU0yEHhk7wHYcABeIIgLAb+w7WqMXP9guSZo1caDio8IsJwJwoSgiAPzG3CX5qq336MreCZpycbLtOABaAUUEgF9YuaVM7xUcVKjToezMDDkcTFAFAgFFBIDPq6lr0M8X50uSpl3TW30TYy0nAtBaKCIAfN5vPijS/uMn1K19lB64rp/tOABaEUUEgE8rOlipVz7aKUn6+eR0RYWHWE4EoDVRRAD4LGOMZufkq95tNGZgoq4f1MV2JACtjCICwGflflmidTuPKDLMqaxJ6bbjAPACiggAn1R+ol7Z7xRIku6/rp9SEqItJwLgDRQRAD7p2RVbdbjKpd6d2+nHV6fajgPASygiAHzO5uJy/enTPZKk7CkZighlgioQqCgiAHyK22M0K2ezPEaacnGyRvTtZDsSAC+iiADwKW9s2KuvissVGxGq/75hoO04ALyMIgLAZxyucunpZYWSpEfH9ldiXKTlRAC8jSICwGfMX1qoitoGpSfH6f9d2dN2HABtgCICwCes33lE//iiWA6HlJ2ZodAQTk9AMOCZDsC6erdHs3PzJEm3De2hS3p0sJwIQFuhiACw7rVPdmlbWZUS2oXr8XEDbMcB0IYoIgCsKjl+Qs+/t12SNHNCmtpHh1tOBKAtUUQAWDVvyRbV1Ll1Ra8O+t6l3W3HAdDGKCIArFlVeFDL80sV4nToycwMOZ0O25EAtDGKCAArauvdylqcL0n60VW9lJYUZzkRABsoIgCs+O3qHdp7tEZJcZF6cEx/23EAWEIRAdDmdh2u1surd0iSsiYNUkxEqOVEAGyhiABoU8YYzcnNU53bo2v7d9b4jCTbkQBYRBEB0KaWbi7VR9sPKzzUqbmT0+VwMEEVCGYUEQBtprK2XvPePjlB9d6RfdSrUzvLiQDYRhEB0Gaef2+7yipc6tkxWvdc28d2HAA+gCICoE1sKanQorW7JUnzpmQoMizEbiAAPoEiAsDrPB6j2bl5cnuMJg7uqmv7d7YdCYCPoIgA8Lq/byzWxj3H1C48RLNvHGQ7DgAfQhEB4FXHqus0f1mBJOnh6/srKT7SciIAvoQiAsCrnl5eqGM19UpLitUdI3rZjgPAx1BEAHjNxj3H9MaGfZKkJzMzFBbCKQfAqTgrAPCKBrdHs3LyJEk3X9ZdV/RKsJwIgC+iiADwiv9dt0cFByoUHxWmGRPSbMcB4KMoIgBaXVlFrZ5duU2SNGNCmjrGRFhOBMBXUUQAtLrsdwpU5WrQxSntdcvlKbbjAPBhFBEAreqj7Ye05KsSOR1SdmaGnE4uagfg7CgiAFqNq8GtObknL2r3w+G9lNEt3nIiAL6OIgKg1fx+zU7tOlytzrERemRsf9txAPgBigiAVrH3SI1+s6pIkjRr4kDFRYZZTgTAH1BEAFwwY4yyFufJ1eDRVX07avKQZNuRAPgJigiAC7ZiS5lWbT2ksBCH5k3JkMPBBFUAzUMRAXBBql0Nmrv45ATVu6/poz6dYywnAuBPKCIALsgLH2xXSXmtuneI0vRRfW3HAeBnKCIAztu2skq9+tEuSdLcyemKCg+xnAiAv6GIADgvxhjNyslTg8fo+kFdNHpgF9uRAPghigiA8/KvTfv12a6jigoLUdakQbbjAPBTFBEALVZeU69fLi2QJD0wup+6d4i2nAiAv6KIAGixBSu26nBVnfomxmjqd1JtxwHgxygiAFrkq33H9fr6PZKkJ6dkKDyU0wiA88cZBECzuT0nJ6gaI910STcN79PRdiQAfo4iAqDZ/rJ+jzbvL1dsZKhm3pBmOw6AAEARAdAshypdeubdrZKkx8YNUGJspOVEAAIBRQRAs8xfWqDK2gYN7hav24f1tB0HQIDwehF56aWX1KtXL0VGRmrYsGH67LPPvL1JAK3s051H9M9N++VwSNmZGQpxclE7AK3Dq0XkzTff1COPPKKsrCx98cUXGjJkiMaNG6eDBw96c7MAWlFdg0ezcvIkSbcP66EhKe3tBgIQULxaRJ599llNmzZNd911lwYNGqSXX35Z0dHR+sMf/uDNzQJoRa9+vEtFB6vUsV24HhvLBFUArctrRaSurk4bN27UmDFj/m9jTqfGjBmjdevWnXEdl8ulioqKU24A7Ck+VqMX3t8uSfrZDQMVHx1mORGAQOO1InL48GG53W516XLqhbC6dOmi0tLSM64zf/58xcfHN95SUlK8FQ9AM8xbskUn6t0ampqg717azXYcAAHIp/5qZubMmSovL2+87du3z3YkIGi9X1CmFVvKFOp0KDszQw4HE1QBtL5Qbz1wp06dFBISorKyslOWl5WVKSkp6YzrREREKCIiwluRADTTiTq3shbnS5KmXp2q/l1iLScCEKi89o5IeHi4LrvsMr3//vuNyzwej95//30NHz7cW5sF0ApeWlWk4mMnlBwfqQeu62c7DoAA5rV3RCTpkUce0R133KHLL79cQ4cO1fPPP6/q6mrddddd3twsgAuw41CVFn64Q5I0Z1K62kV49TQBIMh59Qxzyy236NChQ5ozZ45KS0t18cUXa/ny5adNYAXgG4wxmpObp3q30agBnTUunecqAO9yGGOM7RBnU1FRofj4eJWXlysuLs52HCDgLf6qRA/8dZMiQp1a+fC16tEx2nYkAH6oJa/fPvVXMwDsqait15Nvb5Ek3TeqLyUEQJugiACQJD23cpsOVbqU2qmdfnJtb9txAAQJiggA5e0v1x/X7pYkzZuSrojQELuBAAQNiggQ5Dweo1k5efIY6caLuurqfp1tRwIQRCgiQJB78/N9+nLfccVEhGr2jYNsxwEQZCgiQBA7UuXSU8sKJUkPX99fXeIiLScCEGwoIkAQe3p5ocpP1Gtg1zjdMbyn7TgAghBFBAhSn+8+qrc+L5YkZWdmKDSE0wGAtseZBwhCDW6PZuXkSZJuvSJFl/XsYDkRgGBFEQGC0KK1u1VYWqkO0WF6Ynya7TgAghhFBAgyB8pP6LmV2yRJMyakqUO7cMuJAAQziggQZLLfLlB1nVuX9mivmy9LsR0HQJCjiABBZM22Q3pn8wGFOB3Kzhwsp9NhOxKAIEcRAYJEbb1bWbknJ6jeOaKXBiVzRWsA9lFEgCCxcM1O7T5Soy5xEXpoTD/bcQBAEkUECAq7D1frpdVFkqTZNw5SbGSY5UQAcBJFBAhwxhjNWZyvugaPru7XSRMHd7UdCQAaUUSAALc8r1Qfbjuk8BCn5k5Ol8PBBFUAvoMiAgSwKleD5i7ZIkm659re6t05xnIiADgVRQQIYC+8v12lFbXqkRCte0f1tR0HAE5DEQEC1NbSSr368S5J0twp6YoMC7GcCABORxEBApDHYzQrZ7PcHqPx6UkaNSDRdiQAOCOKCBCA/vFFsTbsPqbo8BDNmTTIdhwAOCuKCBBgjtfUaf6yQknSg6P7Kbl9lOVEAHB2FBEgwDzz7lYdra5Tv8QY/eg7qbbjAECTKCJAANm095j++tleSVJ2ZobCQniKA/BtnKWAAOH2GM3KyZMx0vcu7a5hvTvajgQA50QRAQLEn9btVn5JheIiQzXzhjTbcQCgWSgiQAA4WFGrX6/YJkl6fHyaOsVEWE4EAM1DEQECwC+WFqjS1aAh3eN129AetuMAQLNRRAA/t7bosHK/LJHDIWVnDlaIk4vaAfAfFBHAj9U1eDQrN0+S9IMre2pw93jLiQCgZSgigB975aOd2nmoWp1iIvTo2AG24wBAi1FEAD+172iNXvxguyRp1sSBio8Ks5wIAFqOIgL4qblL8lVb79GVvRM05eJk23EA4LxQRAA/tHJLmd4rOKhQp0PZmRlyOJigCsA/UUQAP1NT16CfL86XJE27prf6JsZaTgQA548iAviZ33xQpP3HT6hb+yjdf11f23EA4IJQRAA/UnSwUq98tFOSlDVpkKLDQy0nAoALQxEB/IQxRrNz8lXvNhozMFFj05NsRwKAC0YRAfxE7pclWrfziCLDnMqalG47DgC0CooI4AfKT9Qr+50CSdL91/VTSkK05UQA0DooIoAfeHbFVh2ucql353b68dWptuMAQKuhiAA+bnNxuf706R5J0pNTMhQRGmI5EQC0HooI4MPcHqNZOZvlMdLkIcm6qm8n25EAoFVRRAAf9saGvfqquFyxEaGaNXGg7TgA0OooIoCPOlzl0tPLCiVJj47tr8S4SMuJAKD1UUQAHzV/aaEqahuUnhyn/3dlT9txAMArKCKAD1q/84j+8UWxHA4pOzNDoSE8VQEEJs5ugI+pd3s0OzdPknTrFT10SY8OlhMBgPdQRAAf89onu7StrEoJ7cL1xPgBtuMAgFdRRAAfUnL8hJ5/b7skaeaENLWPDrecCAC8iyIC+JB5S7aops6tK3p10Pcu7W47DgB4HUUE8BGrCg9qeX6pQpwOPZmZIafTYTsSAHgdRQTwAbX1bmUtzpck/eiqXkpLirOcCADaBkUE8AG/Xb1De4/WKCkuUg+O6W87DgC0GYoIYNmuw9V6efUOSdKcSYMUExFqOREAtB2KCGCRMUZzcvNU5/bomv6dNSEjyXYkAGhTFBHAoqWbS/XR9sMKD3Vq3uR0ORxMUAUQXCgigCWVtfWa9/bJCar3juyjXp3aWU4EAG2PIgJY8vx721VW4VLPjtG659o+tuMAgBUUEcCCLSUVWrR2tyRp7uR0RYaF2A0EAJZQRIA25vEYzc7Nk9tjdMPgJI0ckGg7EgBY45Uisnv3bk2dOlWpqamKiopSnz59lJWVpbq6Om9sDvArf99YrI17jqldeIhm3zjIdhwAsMorX1hQWFgoj8ejhQsXqm/fvsrLy9O0adNUXV2tBQsWeGOTgF84Vl2n+csKJEkPX99fXeOjLCcCALu8UkTGjx+v8ePHN/7cu3dvbd26Vb/73e8oIghqTy8v1LGaeqUlxeqOEb1sxwEA69rsKxzLy8uVkJDQ5BiXyyWXy9X4c0VFhbdjAW1m455jemPDPknSk5kZCgthihYAtMmZsKioSC+++KLuvvvuJsfNnz9f8fHxjbeUlJS2iAd4XYPbo1k5eZKkmy/rrit6NV3KASBYtKiIzJgxQw6Ho8lbYWHhKevs379f48eP180336xp06Y1+fgzZ85UeXl5423fvn0t3yPAB/3vuj0qOFCh+KgwzZiQZjsOAPgMhzHGNHfwoUOHdOTIkSbH9O7dW+Hh4ZKkkpISjRw5UldeeaUWLVokp7Nlb8BUVFQoPj5e5eXliovjsujwT2UVtRr96zWqcjXolzcN1n8N62E7EgB4VUtev1s0R6Rz587q3Llzs8bu379fo0aN0mWXXabXXnutxSUECBTZ7xSoytWgi1Pa69Yr+LgRAL7JK5NV9+/fr5EjR6pnz55asGCBDh061HhfUhJXF0Xw+Gj7IS35qkROh5SdmSGnk4vaAcA3eaWIrFy5UkVFRSoqKlL37t1Pua8FnwQBfs3V4Nac3JMXtfvh8F7K6BZvOREA+B6vfF5y5513yhhzxhsQLH6/Zqd2Ha5W59gIPTK2v+04AOCTmLgBeMHeIzX6zaoiSdKsiQMVFxlmOREA+CaKCNDKjDHKWpwnV4NHI/p01OQhybYjAYDPoogArWzFljKt2npIYSEOzZuSIYeDCaoAcDYUEaAVVbsaNHfxyQmqd1/TR30TYywnAgDfRhEBWtELH2xXSXmtuneI0vRRfW3HAQCfRxEBWsm2skq9+tEuSdLcyemKCg+xnAgAfB9FBGgFxhjNyslTg8fo+kFdNHpgF9uRAMAvUESAVvCvTfv12a6jigxzKmvSINtxAMBvUESAC1ReU69fLi2QJD0wup+6d4i2nAgA/AdFBLhAC1Zs1eGqOvVNjNGPv9PbdhwA8CsUEeACfLXvuF5fv0eS9OSUDIWH8pQCgJbgrAmcJ7fn5ARVY6SbLumm4X062o4EAH6HIgKcp7+s36PN+8sVGxmqmTek2Y4DAH6JIgKch0OVLj3z7lZJ0mPjBigxNtJyIgDwTxQR4DzMX1qgytoGDe4Wr9uH9bQdBwD8FkUEaKFPdx7RPzftl8MhZWdmKMTJRe0A4HxRRIAWqGvwaFZOniTp9mE9NCSlvd1AAODnKCJAC7z68S4VHaxSx3bhemwsE1QB4EJRRIBmKj5Woxfe3y5J+tkNAxUfHWY5EQD4P4oI0EzzlmzRiXq3hvZK0Hcv7WY7DgAEBIoI0AzvF5RpxZYyhTodejIzQw4HE1QBoDVQRIBzOFHnVtbifEnS1O+kakBSrOVEABA4KCLAOby0qkjFx04oOT5SD4zuZzsOAAQUigjQhB2HqrTwwx2SpDmT0tUuItRyIgAILBQR4CyMMZqTm6d6t9GoAZ01Lr2L7UgAEHAoIsBZLPn3AX1SdEQRoU7NncwEVQDwBooIcAYVtfV68u0tkqTpo/qqR8doy4kAIDBRRIAzeG7lNh2qdCm1UzvdfW1v23EAIGBRRIBvydtfrj+u3S1JmjclXRGhIXYDAUAAo4gA3+DxGM3KyZPHSDde1FVX9+tsOxIABDSKCPANb36+T1/uO66YiFDNvnGQ7TgAEPAoIsB/HKly6allhZKkh6/vry5xkZYTAUDgo4gA//H08kKVn6hXWlKs7hje03YcAAgKFBFA0ue7j+qtz4slSb+4KUOhITw1AKAtcLZF0GtwezQrJ0+SdMvlKbqsZ4LlRAAQPCgiCHqL1u5WYWmlOkSHacaENNtxACCoUEQQ1A6Un9BzK7dJkmZMSFOHduGWEwFAcKGIIKhlv12g6jq3Lu3RXjdflmI7DgAEHYoIgtaabYf0zuYDcjqk7MzBcjq5qB0AtDWKCIJSbb1bWbknJ6jeOSJVg5LjLCcCgOBEEUFQWrhmp3YfqVGXuAg9fH0/23EAIGhRRBB0dh+u1kuriyRJs28cpNjIMMuJACB4UUQQVIwxmrM4X3UNHl3dr5MmDu5qOxIABDWKCILK8rxSfbjtkMJDnJo7OV0OBxNUAcAmigiCRpWrQXOXbJEk3XNtb/XuHGM5EQCAIoKg8cL721VaUauUhCjdO6qv7TgAAFFEECS2llbq1Y93SZLmTc5QZFiI5UQAAIkigiDg8RjNytkst8dofHqSRqUl2o4EAPgPiggC3j++KNaG3ccUHR6iOZMG2Y4DAPgGiggC2vGaOs1fVihJenB0PyW3j7KcCADwTRQRBLRn3t2qo9V16pcYox99J9V2HADAt1BEELA27T2mv362V5KUnZmhsBB+3QHA13BmRkBye4xm5eTJGOm7l3bTsN4dbUcCAJwBRQQB6U/rdiu/pEJxkaH62Q0DbccBAJwFRQQB52BFrX69Ypsk6fHxaeoUE2E5EQDgbCgiCDi/WFqgSleDhnSP121De9iOAwBoAkUEAWVt0WHlflkih0PKzhysECcXtQMAX0YRQcCoa/BoVm6eJOkHV/bU4O7xlhMBAM6FIoKA8cpHO7XzULU6xYTr0bEDbMcBADQDRQQBYd/RGr34wXZJ0n9PHKj4qDDLiQAAzUERQUCYuyRftfUeXdk7QZkXd7MdBwDQTBQR+L2VW8r0XsFBhTodys7MkMPBBFUA8BcUEfi1mroG/XxxviRp2jW91Tcx1nIiAEBLeL2IuFwuXXzxxXI4HPryyy+9vTkEmd98UKT9x0+oW/so3X9dX9txAAAt5PUi8vjjjys5Odnbm0EQKjpYqVc+2ilJypo0SNHhoZYTAQBayqtFZNmyZVqxYoUWLFjgzc0gCBljNDsnX/Vuo9Fpibp+UBfbkQAA58Fr/wtZVlamadOmKScnR9HR0c1ax+VyyeVyNf5cUVHhrXjwc7lflmjdziOKDHPq55PTmaAKAH7KK++IGGN055136p577tHll1/e7PXmz5+v+Pj4xltKSoo34sHPlZ+oV/Y7BZKk+6/rp5SE5hVdAIDvaVERmTFjhhwOR5O3wsJCvfjii6qsrNTMmTNbFGbmzJkqLy9vvO3bt69F6yM4PLtiqw5XudS7czv9+OpU23EAABfAYYwxzR186NAhHTlypMkxvXv31ve//30tWbLklLfL3W63QkJCdPvtt+uPf/xjs7ZXUVGh+Ph4lZeXKy4urrkxEcA2F5dryksfy2OkP/94mK7q28l2JADAt7Tk9btFRaS59u7de8r8jpKSEo0bN05///vfNWzYMHXv3r1Zj0MRwTe5PUbf/e0n+qq4XJOHJOuF2y6xHQkAcAYtef32ymTVHj16nPJzTEyMJKlPnz7NLiHAt72xYa++Ki5XTESoZk0caDsOAKAV8M2q8AuHq1x6elmhJOnRsf2VGBdpOREAoDW0yTdA9erVS174BAhBZP7SQlXUNig9OU4/uLKn7TgAgFbCOyLweet3HtE/viiWwyFlZ2YoNIRfWwAIFJzR4dPq3R7Nzs2TJN16RQ9d0qOD5UQAgNZEEYFPe+2TXdpWVqWEduF6fNwA23EAAK2MIgKfVXL8hJ5/b7skacaENHVoF245EQCgtVFE4LPmLdmimjq3Lu/ZQf/fpfzZNwAEIooIfNKqwoNanl+qEKdD2TdlyOnkonYAEIgoIvA5tfVuZS3OlyT96KpeSkviW3UBIFBRROBzfrt6h/YerVFSXKQeHNPfdhwAgBdRROBTdh2u1surd0iS5kwapJiINvnOPQCAJRQR+AxjjObk5qnO7dE1/TtrQkaS7UgAAC+jiMBnLN1cqo+2H1Z4qFPzJqfL4WCCKgAEOooIfEJlbb3mvX1yguq9I/uoV6d2lhMBANoCRQQ+4fn3tquswqWeHaN1z7V9bMcBALQRigis21JSoUVrd0uS5k5OV2RYiN1AAIA2QxGBVR6P0ezcPLk9RjcMTtLIAYm2IwEA2hBFBFb9fWOxNu45pujwEM2+cZDtOACANkYRgTXHqus0f1mBJOnhMf3VNT7KciIAQFujiMCap5cX6lhNvQZ0idWdV/WyHQcAYAFFBFZs3HNMb2zYJ0nKvilDYSH8KgJAMOLsjzbX4PZoVk6eJOnmy7rril4JlhMBAGyhiKDN/e+6PSo4UKH4qDDNmJBmOw4AwCKKCNpUWUWtnl25TZL0xPg0dYyJsJwIAGATRQRtKvudAlW5GjQkpb1uvSLFdhwAgGUUEbSZj7Yf0pKvSuR0SL/IzJDTyUXtACDYUUTQJlwNbs3JPXlRux8O76WMbvGWEwEAfAFFBG3i92t2atfhanWOjdAjY/vbjgMA8BEUEXjd3iM1+s2qIknSrIkDFRcZZjkRAMBXUETgVcYYZS3Ok6vBoxF9OmrykGTbkQAAPoQiAq9asaVMq7YeUliIQ/OmZMjhYIIqAOD/hNoO0BRjjCSpoqLCchKcj5q6Bs1+6zN5XC798OpUJUZ6OJYAEAS+Ptd//TreFIdpzihLiouLlZLCd00AAOCP9u3bp+7duzc5xqeLiMfjUUlJiWJjY1v9Lf2KigqlpKRo3759iouLa9XH9gXsn/8L9H1k//xfoO9joO+f5L19NMaosrJSycnJcjqbngXi0x/NOJ3OczapCxUXFxewv2AS+xcIAn0f2T//F+j7GOj7J3lnH+Pjm/d9UUxWBQAA1lBEAACANUFbRCIiIpSVlaWIiMC8+iv75/8CfR/ZP/8X6PsY6Psn+cY++vRkVQAAENiC9h0RAABgH0UEAABYQxEBAADWUEQAAIA1AVtEfvGLX2jEiBGKjo5W+/btzzhm7969mjhxoqKjo5WYmKjHHntMDQ0NTT7u0aNHdfvttysuLk7t27fX1KlTVVVV5YU9aJnVq1fL4XCc8bZhw4azrjdy5MjTxt9zzz1tmLz5evXqdVrWp556qsl1amtrNX36dHXs2FExMTH63ve+p7KysjZK3Hy7d+/W1KlTlZqaqqioKPXp00dZWVmqq6trcj1fP34vvfSSevXqpcjISA0bNkyfffZZk+P/9re/KS0tTZGRkRo8eLCWLl3aRklbbv78+briiisUGxurxMREZWZmauvWrU2us2jRotOOV2RkZBslbpmf//znp2VNS0trch1/On5nOp84HA5Nnz79jOP94dh9+OGHmjRpkpKTk+VwOJSTk3PK/cYYzZkzR127dlVUVJTGjBmj7du3n/NxW/o8bqmALSJ1dXW6+eab9dOf/vSM97vdbk2cOFF1dXVau3at/vjHP2rRokWaM2dOk497++23Kz8/XytXrtTbb7+tDz/8UD/5yU+8sQstMmLECB04cOCU249//GOlpqbq8ssvb3LdadOmnbLeM88800apW27evHmnZL3//vubHP/www9ryZIl+tvf/qY1a9aopKRE3/3ud9sobfMVFhbK4/Fo4cKFys/P13PPPaeXX35ZP/vZz865rq8evzfffFOPPPKIsrKy9MUXX2jIkCEaN26cDh48eMbxa9eu1W233aapU6dq06ZNyszMVGZmpvLy8to4efOsWbNG06dP16effqqVK1eqvr5eY8eOVXV1dZPrxcXFnXK89uzZ00aJWy49Pf2UrB9//PFZx/rb8duwYcMp+7Zy5UpJ0s0333zWdXz92FVXV2vIkCF66aWXznj/M888oxdeeEEvv/yy1q9fr3bt2mncuHGqra0962O29Hl8XkyAe+2110x8fPxpy5cuXWqcTqcpLS1tXPa73/3OxMXFGZfLdcbH2rJli5FkNmzY0Lhs2bJlxuFwmP3797d69gtRV1dnOnfubObNm9fkuGuvvdY8+OCDbRPqAvXs2dM899xzzR5//PhxExYWZv72t781LisoKDCSzLp167yQsHU988wzJjU1tckxvnz8hg4daqZPn974s9vtNsnJyWb+/PlnHP/973/fTJw48ZRlw4YNM3fffbdXc7aWgwcPGklmzZo1Zx1ztvORL8rKyjJDhgxp9nh/P34PPvig6dOnj/F4PGe835+OnTHGSDL/+te/Gn/2eDwmKSnJ/OpXv2pcdvz4cRMREWH++te/nvVxWvo8Ph8B+47Iuaxbt06DBw9Wly5dGpeNGzdOFRUVys/PP+s67du3P+UdhjFjxsjpdGr9+vVez9wSixcv1pEjR3TXXXedc+yf//xnderUSRkZGZo5c6ZqamraIOH5eeqpp9SxY0ddcskl+tWvftXkR2kbN25UfX29xowZ07gsLS1NPXr00Lp169oi7gUpLy9XQkLCOcf54vGrq6vTxo0bT/m3dzqdGjNmzFn/7detW3fKeOnkc9IfjpV08nhJOucxq6qqUs+ePZWSkqIpU6ac9XzjC7Zv367k5GT17t1bt99+u/bu3XvWsf58/Orq6vT666/rRz/6UZMXWPWnY/dtu3btUmlp6SnHKD4+XsOGDTvrMTqf5/H58OmL3nlTaWnpKSVEUuPPpaWlZ10nMTHxlGWhoaFKSEg46zq2vPrqqxo3btw5Lxr4X//1X+rZs6eSk5P173//W0888YS2bt2qf/7zn22UtPkeeOABXXrppUpISNDatWs1c+ZMHThwQM8+++wZx5eWlio8PPy0OUJdunTxueP1bUVFRXrxxRe1YMGCJsf56vE7fPiw3G73GZ9jhYWFZ1znbM9JXz9W0skrhT/00EO66qqrlJGRcdZxAwYM0B/+8AdddNFFKi8v14IFCzRixAjl5+d7/QKfLTVs2DAtWrRIAwYM0IEDBzR37lxdffXVysvLU2xs7Gnj/fn45eTk6Pjx47rzzjvPOsafjt2ZfH0cWnKMzud5fD78qojMmDFDTz/9dJNjCgoKzjmhyp+czz4XFxfr3Xff1VtvvXXOx//m/JbBgwera9euGj16tHbs2KE+ffqcf/Bmasn+PfLII43LLrroIoWHh+vuu+/W/PnzffYrmM/n+O3fv1/jx4/XzTffrGnTpjW5ru3jh5OmT5+uvLy8JudQSNLw4cM1fPjwxp9HjBihgQMHauHChXryySe9HbNFJkyY0PjfF110kYYNG6aePXvqrbfe0tSpUy0ma32vvvqqJkyYoOTk5LOO8adj52/8qog8+uijTTZWSerdu3ezHispKem0mb9f/zVFUlLSWdf59gSdhoYGHT169KzrXKjz2efXXntNHTt21OTJk1u8vWHDhkk6+X/kbfFCdiHHdNiwYWpoaNDu3bs1YMCA0+5PSkpSXV2djh8/fsq7ImVlZV47Xt/W0v0rKSnRqFGjNGLECP3+979v8fba+vidTadOnRQSEnLaXyg19W+flJTUovG+4r777mucuN7S/zMOCwvTJZdcoqKiIi+laz3t27dX//79z5rVX4/fnj179N5777X4XUR/OnbS/72ulZWVqWvXro3Ly8rKdPHFF59xnfN5Hp+XVptt4qPONVm1rKyscdnChQtNXFycqa2tPeNjfT1Z9fPPP29c9u677/rUZFWPx2NSU1PNo48+el7rf/zxx0aS+eqrr1o5Wet7/fXXjdPpNEePHj3j/V9PVv373//euKywsNBnJ6sWFxebfv36mVtvvdU0NDSc12P40vEbOnSoue+++xp/drvdplu3bk1OVr3xxhtPWTZ8+HCfnezo8XjM9OnTTXJystm2bdt5PUZDQ4MZMGCAefjhh1s5XeurrKw0HTp0MP/zP/9zxvv97fh9LSsryyQlJZn6+voWrefrx05nmay6YMGCxmXl5eXNmqzakufxeWVttUfyMXv27DGbNm0yc+fONTExMWbTpk1m06ZNprKy0hhz8pcoIyPDjB071nz55Zdm+fLlpnPnzmbmzJmNj7F+/XozYMAAU1xc3Lhs/Pjx5pJLLjHr1683H3/8senXr5+57bbb2nz/zua9994zkkxBQcFp9xUXF5sBAwaY9evXG2OMKSoqMvPmzTOff/652bVrl8nNzTW9e/c211xzTVvHPqe1a9ea5557znz55Zdmx44d5vXXXzedO3c2P/zhDxvHfHv/jDHmnnvuMT169DAffPCB+fzzz83w4cPN8OHDbexCk4qLi03fvn3N6NGjTXFxsTlw4EDj7Ztj/On4vfHGGyYiIsIsWrTIbNmyxfzkJz8x7du3b/xLtR/84AdmxowZjeM/+eQTExoaahYsWGAKCgpMVlaWCQsLM5s3b7a1C0366U9/auLj483q1atPOV41NTWNY769j3PnzjXvvvuu2bFjh9m4caO59dZbTWRkpMnPz7exC0169NFHzerVq82uXbvMJ598YsaMGWM6depkDh48aIzx/+NnzMkX1R49epgnnnjitPv88dhVVlY2vtZJMs8++6zZtGmT2bNnjzHGmKeeesq0b9/e5Obmmn//+99mypQpJjU11Zw4caLxMa677jrz4osvNv58rudxawjYInLHHXcYSafdVq1a1Thm9+7dZsKECSYqKsp06tTJPProo6e04lWrVhlJZteuXY3Ljhw5Ym677TYTExNj4uLizF133dVYbnzBbbfdZkaMGHHG+3bt2nXKv8HevXvNNddcYxISEkxERITp27eveeyxx0x5eXkbJm6ejRs3mmHDhpn4+HgTGRlpBg4caH75y1+e8u7Vt/fPGGNOnDhh7r33XtOhQwcTHR1tbrrpplNe3H3Fa6+9dsbf12++aemPx+/FF180PXr0MOHh4Wbo0KHm008/bbzv2muvNXfccccp49966y3Tv39/Ex4ebtLT080777zTxomb72zH67XXXmsc8+19fOihhxr/Pbp06WJuuOEG88UXX7R9+Ga45ZZbTNeuXU14eLjp1q2bueWWW0xRUVHj/f5+/Iw5+Y62JLN169bT7vPHY/f1a9a3b1/vh8fjMbNnzzZdunQxERERZvTo0afte8+ePU1WVtYpy5p6HrcGhzHGtN4HPQAAAM0XtN8jAgAA7KOIAAAAaygiAADAGooIAACwhiICAACsoYgAAABrKCIAAMAaiggAALCGIgIAAKyhiAAAAGsoIgAAwBqKCAAAsOb/B6++QTjIAkpOAAAAAElFTkSuQmCC\n"
                },
                "metadata": {}
              }
            ]
          }
        },
        "8e09d8a687354044ac21848f673543f4": {
          "model_module": "@jupyter-widgets/base",
          "model_name": "LayoutModel",
          "model_module_version": "1.2.0",
          "state": {
            "_model_module": "@jupyter-widgets/base",
            "_model_module_version": "1.2.0",
            "_model_name": "LayoutModel",
            "_view_count": null,
            "_view_module": "@jupyter-widgets/base",
            "_view_module_version": "1.2.0",
            "_view_name": "LayoutView",
            "align_content": null,
            "align_items": null,
            "align_self": null,
            "border": null,
            "bottom": null,
            "display": null,
            "flex": null,
            "flex_flow": null,
            "grid_area": null,
            "grid_auto_columns": null,
            "grid_auto_flow": null,
            "grid_auto_rows": null,
            "grid_column": null,
            "grid_gap": null,
            "grid_row": null,
            "grid_template_areas": null,
            "grid_template_columns": null,
            "grid_template_rows": null,
            "height": null,
            "justify_content": null,
            "justify_items": null,
            "left": null,
            "margin": null,
            "max_height": null,
            "max_width": null,
            "min_height": null,
            "min_width": null,
            "object_fit": null,
            "object_position": null,
            "order": null,
            "overflow": null,
            "overflow_x": null,
            "overflow_y": null,
            "padding": null,
            "right": null,
            "top": null,
            "visibility": null,
            "width": null
          }
        },
        "753f62dd2a054c8fa24281d687e32d34": {
          "model_module": "@jupyter-widgets/base",
          "model_name": "LayoutModel",
          "model_module_version": "1.2.0",
          "state": {
            "_model_module": "@jupyter-widgets/base",
            "_model_module_version": "1.2.0",
            "_model_name": "LayoutModel",
            "_view_count": null,
            "_view_module": "@jupyter-widgets/base",
            "_view_module_version": "1.2.0",
            "_view_name": "LayoutView",
            "align_content": null,
            "align_items": null,
            "align_self": null,
            "border": null,
            "bottom": null,
            "display": null,
            "flex": null,
            "flex_flow": null,
            "grid_area": null,
            "grid_auto_columns": null,
            "grid_auto_flow": null,
            "grid_auto_rows": null,
            "grid_column": null,
            "grid_gap": null,
            "grid_row": null,
            "grid_template_areas": null,
            "grid_template_columns": null,
            "grid_template_rows": null,
            "height": null,
            "justify_content": null,
            "justify_items": null,
            "left": null,
            "margin": null,
            "max_height": null,
            "max_width": null,
            "min_height": null,
            "min_width": null,
            "object_fit": null,
            "object_position": null,
            "order": null,
            "overflow": null,
            "overflow_x": null,
            "overflow_y": null,
            "padding": null,
            "right": null,
            "top": null,
            "visibility": null,
            "width": null
          }
        },
        "46e5a648f17043a3bb4dd7b8cb1bf1b1": {
          "model_module": "@jupyter-widgets/controls",
          "model_name": "SliderStyleModel",
          "model_module_version": "1.5.0",
          "state": {
            "_model_module": "@jupyter-widgets/controls",
            "_model_module_version": "1.5.0",
            "_model_name": "SliderStyleModel",
            "_view_count": null,
            "_view_module": "@jupyter-widgets/base",
            "_view_module_version": "1.2.0",
            "_view_name": "StyleView",
            "description_width": "",
            "handle_color": null
          }
        },
        "1c1694eacf5048f7b294e5337ecf6656": {
          "model_module": "@jupyter-widgets/base",
          "model_name": "LayoutModel",
          "model_module_version": "1.2.0",
          "state": {
            "_model_module": "@jupyter-widgets/base",
            "_model_module_version": "1.2.0",
            "_model_name": "LayoutModel",
            "_view_count": null,
            "_view_module": "@jupyter-widgets/base",
            "_view_module_version": "1.2.0",
            "_view_name": "LayoutView",
            "align_content": null,
            "align_items": null,
            "align_self": null,
            "border": null,
            "bottom": null,
            "display": null,
            "flex": null,
            "flex_flow": null,
            "grid_area": null,
            "grid_auto_columns": null,
            "grid_auto_flow": null,
            "grid_auto_rows": null,
            "grid_column": null,
            "grid_gap": null,
            "grid_row": null,
            "grid_template_areas": null,
            "grid_template_columns": null,
            "grid_template_rows": null,
            "height": null,
            "justify_content": null,
            "justify_items": null,
            "left": null,
            "margin": null,
            "max_height": null,
            "max_width": null,
            "min_height": null,
            "min_width": null,
            "object_fit": null,
            "object_position": null,
            "order": null,
            "overflow": null,
            "overflow_x": null,
            "overflow_y": null,
            "padding": null,
            "right": null,
            "top": null,
            "visibility": null,
            "width": null
          }
        },
        "a1c555ae7670457781e1a79ba8ca2cf8": {
          "model_module": "@jupyter-widgets/controls",
          "model_name": "SliderStyleModel",
          "model_module_version": "1.5.0",
          "state": {
            "_model_module": "@jupyter-widgets/controls",
            "_model_module_version": "1.5.0",
            "_model_name": "SliderStyleModel",
            "_view_count": null,
            "_view_module": "@jupyter-widgets/base",
            "_view_module_version": "1.2.0",
            "_view_name": "StyleView",
            "description_width": "",
            "handle_color": null
          }
        },
        "66ebc92d21cf45d4bea1ade0e0161ede": {
          "model_module": "@jupyter-widgets/base",
          "model_name": "LayoutModel",
          "model_module_version": "1.2.0",
          "state": {
            "_model_module": "@jupyter-widgets/base",
            "_model_module_version": "1.2.0",
            "_model_name": "LayoutModel",
            "_view_count": null,
            "_view_module": "@jupyter-widgets/base",
            "_view_module_version": "1.2.0",
            "_view_name": "LayoutView",
            "align_content": null,
            "align_items": null,
            "align_self": null,
            "border": null,
            "bottom": null,
            "display": null,
            "flex": null,
            "flex_flow": null,
            "grid_area": null,
            "grid_auto_columns": null,
            "grid_auto_flow": null,
            "grid_auto_rows": null,
            "grid_column": null,
            "grid_gap": null,
            "grid_row": null,
            "grid_template_areas": null,
            "grid_template_columns": null,
            "grid_template_rows": null,
            "height": "300px",
            "justify_content": null,
            "justify_items": null,
            "left": null,
            "margin": null,
            "max_height": null,
            "max_width": null,
            "min_height": null,
            "min_width": null,
            "object_fit": null,
            "object_position": null,
            "order": null,
            "overflow": null,
            "overflow_x": null,
            "overflow_y": null,
            "padding": null,
            "right": null,
            "top": null,
            "visibility": null,
            "width": null
          }
        },
        "95e9693980dd4fa191c810b2388eb47f": {
          "model_module": "@jupyter-widgets/controls",
          "model_name": "HBoxModel",
          "model_module_version": "1.5.0",
          "state": {
            "_dom_classes": [],
            "_model_module": "@jupyter-widgets/controls",
            "_model_module_version": "1.5.0",
            "_model_name": "HBoxModel",
            "_view_count": null,
            "_view_module": "@jupyter-widgets/controls",
            "_view_module_version": "1.5.0",
            "_view_name": "HBoxView",
            "box_style": "",
            "children": [
              "IPY_MODEL_eec20917feff4bc19b237911f70619da",
              "IPY_MODEL_68a390f1841d4240b6b5c37867b83326",
              "IPY_MODEL_19e4fc947d754b99ae009992cc1102a5"
            ],
            "layout": "IPY_MODEL_adfac656ee2b43428afc16b465ed6449"
          }
        },
        "eec20917feff4bc19b237911f70619da": {
          "model_module": "@jupyter-widgets/controls",
          "model_name": "HTMLModel",
          "model_module_version": "1.5.0",
          "state": {
            "_dom_classes": [],
            "_model_module": "@jupyter-widgets/controls",
            "_model_module_version": "1.5.0",
            "_model_name": "HTMLModel",
            "_view_count": null,
            "_view_module": "@jupyter-widgets/controls",
            "_view_module_version": "1.5.0",
            "_view_name": "HTMLView",
            "description": "",
            "description_tooltip": null,
            "layout": "IPY_MODEL_3b7282c673ed4768a752e22f5405b47a",
            "placeholder": "​",
            "style": "IPY_MODEL_d252a1a9c76c473d9d56fa207d09a82f",
            "value": "Done! Use &#x27;show&#x27; commands to display/save.   "
          }
        },
        "68a390f1841d4240b6b5c37867b83326": {
          "model_module": "@jupyter-widgets/controls",
          "model_name": "FloatProgressModel",
          "model_module_version": "1.5.0",
          "state": {
            "_dom_classes": [],
            "_model_module": "@jupyter-widgets/controls",
            "_model_module_version": "1.5.0",
            "_model_name": "FloatProgressModel",
            "_view_count": null,
            "_view_module": "@jupyter-widgets/controls",
            "_view_module_version": "1.5.0",
            "_view_name": "ProgressView",
            "bar_style": "success",
            "description": "",
            "description_tooltip": null,
            "layout": "IPY_MODEL_4d880f8b214847a795bff245635363d9",
            "max": 1,
            "min": 0,
            "orientation": "horizontal",
            "style": "IPY_MODEL_3fd4a5f531ec411da6cc66fa99eab7ca",
            "value": 1
          }
        },
        "19e4fc947d754b99ae009992cc1102a5": {
          "model_module": "@jupyter-widgets/controls",
          "model_name": "HTMLModel",
          "model_module_version": "1.5.0",
          "state": {
            "_dom_classes": [],
            "_model_module": "@jupyter-widgets/controls",
            "_model_module_version": "1.5.0",
            "_model_name": "HTMLModel",
            "_view_count": null,
            "_view_module": "@jupyter-widgets/controls",
            "_view_module_version": "1.5.0",
            "_view_name": "HTMLView",
            "description": "",
            "description_tooltip": null,
            "layout": "IPY_MODEL_2f275fef3b164fab847ab2984b1ccbb6",
            "placeholder": "​",
            "style": "IPY_MODEL_5b399e20a51e42c181c8a5d7e36d6fe0",
            "value": " [100%]   00:01 -&gt; (00:00 left)"
          }
        },
        "adfac656ee2b43428afc16b465ed6449": {
          "model_module": "@jupyter-widgets/base",
          "model_name": "LayoutModel",
          "model_module_version": "1.2.0",
          "state": {
            "_model_module": "@jupyter-widgets/base",
            "_model_module_version": "1.2.0",
            "_model_name": "LayoutModel",
            "_view_count": null,
            "_view_module": "@jupyter-widgets/base",
            "_view_module_version": "1.2.0",
            "_view_name": "LayoutView",
            "align_content": null,
            "align_items": null,
            "align_self": null,
            "border": null,
            "bottom": null,
            "display": "inline-flex",
            "flex": null,
            "flex_flow": "row wrap",
            "grid_area": null,
            "grid_auto_columns": null,
            "grid_auto_flow": null,
            "grid_auto_rows": null,
            "grid_column": null,
            "grid_gap": null,
            "grid_row": null,
            "grid_template_areas": null,
            "grid_template_columns": null,
            "grid_template_rows": null,
            "height": null,
            "justify_content": null,
            "justify_items": null,
            "left": null,
            "margin": null,
            "max_height": null,
            "max_width": null,
            "min_height": null,
            "min_width": null,
            "object_fit": null,
            "object_position": null,
            "order": null,
            "overflow": null,
            "overflow_x": null,
            "overflow_y": null,
            "padding": null,
            "right": null,
            "top": null,
            "visibility": null,
            "width": "100%"
          }
        },
        "3b7282c673ed4768a752e22f5405b47a": {
          "model_module": "@jupyter-widgets/base",
          "model_name": "LayoutModel",
          "model_module_version": "1.2.0",
          "state": {
            "_model_module": "@jupyter-widgets/base",
            "_model_module_version": "1.2.0",
            "_model_name": "LayoutModel",
            "_view_count": null,
            "_view_module": "@jupyter-widgets/base",
            "_view_module_version": "1.2.0",
            "_view_name": "LayoutView",
            "align_content": null,
            "align_items": null,
            "align_self": null,
            "border": null,
            "bottom": null,
            "display": null,
            "flex": null,
            "flex_flow": null,
            "grid_area": null,
            "grid_auto_columns": null,
            "grid_auto_flow": null,
            "grid_auto_rows": null,
            "grid_column": null,
            "grid_gap": null,
            "grid_row": null,
            "grid_template_areas": null,
            "grid_template_columns": null,
            "grid_template_rows": null,
            "height": null,
            "justify_content": null,
            "justify_items": null,
            "left": null,
            "margin": null,
            "max_height": null,
            "max_width": null,
            "min_height": null,
            "min_width": null,
            "object_fit": null,
            "object_position": null,
            "order": null,
            "overflow": null,
            "overflow_x": null,
            "overflow_y": null,
            "padding": null,
            "right": null,
            "top": null,
            "visibility": null,
            "width": null
          }
        },
        "d252a1a9c76c473d9d56fa207d09a82f": {
          "model_module": "@jupyter-widgets/controls",
          "model_name": "DescriptionStyleModel",
          "model_module_version": "1.5.0",
          "state": {
            "_model_module": "@jupyter-widgets/controls",
            "_model_module_version": "1.5.0",
            "_model_name": "DescriptionStyleModel",
            "_view_count": null,
            "_view_module": "@jupyter-widgets/base",
            "_view_module_version": "1.2.0",
            "_view_name": "StyleView",
            "description_width": ""
          }
        },
        "4d880f8b214847a795bff245635363d9": {
          "model_module": "@jupyter-widgets/base",
          "model_name": "LayoutModel",
          "model_module_version": "1.2.0",
          "state": {
            "_model_module": "@jupyter-widgets/base",
            "_model_module_version": "1.2.0",
            "_model_name": "LayoutModel",
            "_view_count": null,
            "_view_module": "@jupyter-widgets/base",
            "_view_module_version": "1.2.0",
            "_view_name": "LayoutView",
            "align_content": null,
            "align_items": null,
            "align_self": null,
            "border": null,
            "bottom": null,
            "display": null,
            "flex": "2",
            "flex_flow": null,
            "grid_area": null,
            "grid_auto_columns": null,
            "grid_auto_flow": null,
            "grid_auto_rows": null,
            "grid_column": null,
            "grid_gap": null,
            "grid_row": null,
            "grid_template_areas": null,
            "grid_template_columns": null,
            "grid_template_rows": null,
            "height": null,
            "justify_content": null,
            "justify_items": null,
            "left": null,
            "margin": null,
            "max_height": null,
            "max_width": null,
            "min_height": null,
            "min_width": null,
            "object_fit": null,
            "object_position": null,
            "order": null,
            "overflow": null,
            "overflow_x": null,
            "overflow_y": null,
            "padding": null,
            "right": null,
            "top": null,
            "visibility": null,
            "width": null
          }
        },
        "3fd4a5f531ec411da6cc66fa99eab7ca": {
          "model_module": "@jupyter-widgets/controls",
          "model_name": "ProgressStyleModel",
          "model_module_version": "1.5.0",
          "state": {
            "_model_module": "@jupyter-widgets/controls",
            "_model_module_version": "1.5.0",
            "_model_name": "ProgressStyleModel",
            "_view_count": null,
            "_view_module": "@jupyter-widgets/base",
            "_view_module_version": "1.2.0",
            "_view_name": "StyleView",
            "bar_color": null,
            "description_width": ""
          }
        },
        "2f275fef3b164fab847ab2984b1ccbb6": {
          "model_module": "@jupyter-widgets/base",
          "model_name": "LayoutModel",
          "model_module_version": "1.2.0",
          "state": {
            "_model_module": "@jupyter-widgets/base",
            "_model_module_version": "1.2.0",
            "_model_name": "LayoutModel",
            "_view_count": null,
            "_view_module": "@jupyter-widgets/base",
            "_view_module_version": "1.2.0",
            "_view_name": "LayoutView",
            "align_content": null,
            "align_items": null,
            "align_self": null,
            "border": null,
            "bottom": null,
            "display": null,
            "flex": null,
            "flex_flow": null,
            "grid_area": null,
            "grid_auto_columns": null,
            "grid_auto_flow": null,
            "grid_auto_rows": null,
            "grid_column": null,
            "grid_gap": null,
            "grid_row": null,
            "grid_template_areas": null,
            "grid_template_columns": null,
            "grid_template_rows": null,
            "height": null,
            "justify_content": null,
            "justify_items": null,
            "left": null,
            "margin": null,
            "max_height": null,
            "max_width": null,
            "min_height": null,
            "min_width": null,
            "object_fit": null,
            "object_position": null,
            "order": null,
            "overflow": null,
            "overflow_x": null,
            "overflow_y": null,
            "padding": null,
            "right": null,
            "top": null,
            "visibility": null,
            "width": null
          }
        },
        "5b399e20a51e42c181c8a5d7e36d6fe0": {
          "model_module": "@jupyter-widgets/controls",
          "model_name": "DescriptionStyleModel",
          "model_module_version": "1.5.0",
          "state": {
            "_model_module": "@jupyter-widgets/controls",
            "_model_module_version": "1.5.0",
            "_model_name": "DescriptionStyleModel",
            "_view_count": null,
            "_view_module": "@jupyter-widgets/base",
            "_view_module_version": "1.2.0",
            "_view_name": "StyleView",
            "description_width": ""
          }
        }
      }
    }
  },
  "cells": [
    {
      "cell_type": "markdown",
      "metadata": {
        "id": "view-in-github",
        "colab_type": "text"
      },
      "source": [
        "<a href=\"https://colab.research.google.com/github/Eistein/data_visualization_project/blob/main/Python_Visualising_Webinar.ipynb\" target=\"_parent\"><img src=\"https://colab.research.google.com/assets/colab-badge.svg\" alt=\"Open In Colab\"/></a>"
      ]
    },
    {
      "cell_type": "markdown",
      "source": [
        "<div align=\"center\" style=\" font-size: 80%; text-align: center; margin: 0 auto\">\n",
        "<img src=\"https://raw.githubusercontent.com/Explore-AI/Pictures/master/Python-Notebook-Banners/Examples.png\"  style=\"display: block; margin-left: auto; margin-right: auto;\";/>\n",
        "</div>"
      ],
      "metadata": {
        "id": "JChBDyPpELRh"
      }
    },
    {
      "cell_type": "markdown",
      "source": [
        "### Learning Outcome\n",
        "* Python Basic Visuals\n",
        "* Interactive Visuals\n",
        "* Python Dashboards"
      ],
      "metadata": {
        "id": "X_iW9RvaHzrG"
      }
    },
    {
      "cell_type": "markdown",
      "source": [
        "## Imports and Installs"
      ],
      "metadata": {
        "id": "HyzGM5ohIMdi"
      }
    },
    {
      "cell_type": "code",
      "execution_count": null,
      "metadata": {
        "id": "ChHoejAm_3YA"
      },
      "outputs": [],
      "source": [
        "pip install ipywidgets"
      ]
    },
    {
      "cell_type": "code",
      "source": [
        "import ipywidgets as wg\n",
        "import pandas as pd\n",
        "import matplotlib.pyplot as plt\n",
        "import numpy as np\n",
        "from bokeh.plotting import figure, show\n",
        "from bokeh.layouts import row"
      ],
      "metadata": {
        "id": "JV3BneJXIUZo"
      },
      "execution_count": 2,
      "outputs": []
    },
    {
      "cell_type": "code",
      "source": [
        "# most commom packages\n",
        "from ipywidgets import interact, interactive, fixed, interact_manual"
      ],
      "metadata": {
        "id": "X5MdqD2hdNmW"
      },
      "execution_count": 3,
      "outputs": []
    },
    {
      "cell_type": "markdown",
      "source": [
        "## Basic Visualisations"
      ],
      "metadata": {
        "id": "8cIN7RwDtrAN"
      }
    },
    {
      "cell_type": "code",
      "source": [
        "diamonds_df.head()"
      ],
      "metadata": {
        "id": "ej7JmDKAbp8D"
      },
      "execution_count": null,
      "outputs": []
    },
    {
      "cell_type": "code",
      "source": [
        "diamonds_df = pd.read_csv(\"https://raw.githubusercontent.com/mwaskom/seaborn-data/master/diamonds.csv\")\n",
        "\n",
        "# Plot histogram of diamond prices\n",
        "plt.hist(diamonds_df['price'], bins=30, color='skyblue', edgecolor='black')\n",
        "plt.xlabel('Price')\n",
        "plt.ylabel('Frequency')\n",
        "plt.title('Histogram of Diamond Prices')\n",
        "plt.show()"
      ],
      "metadata": {
        "colab": {
          "base_uri": "https://localhost:8080/",
          "height": 472
        },
        "id": "UDMIrHp8uwnj",
        "outputId": "64fb5e44-b3ff-4ab5-ce2a-8ac0c33a2a21"
      },
      "execution_count": 5,
      "outputs": [
        {
          "output_type": "display_data",
          "data": {
            "text/plain": [
              "<Figure size 640x480 with 1 Axes>"
            ],
            "image/png": "[encoded data removed]"
          },
          "metadata": {}
        }
      ]
    },
    {
      "cell_type": "code",
      "source": [
        "import seaborn as sns\n",
        "\n",
        "# Scatter plot of carat vs. price\n",
        "sns.scatterplot(data=diamonds_df, x='carat', y='price')\n",
        "plt.xlabel('Carat')\n",
        "plt.ylabel('Price')\n",
        "plt.title('Scatter Plot of Carat vs. Price')\n",
        "plt.show()"
      ],
      "metadata": {
        "colab": {
          "base_uri": "https://localhost:8080/",
          "height": 472
        },
        "id": "0fXN16Yau4Rd",
        "outputId": "5a81c368-74dc-48a6-aec0-e80bebb21de6"
      },
      "execution_count": null,
      "outputs": [
        {
          "output_type": "display_data",
          "data": {
            "text/plain": [
              "<Figure size 640x480 with 1 Axes>"
            ],
            "image/png": "[encoded data removed]"
          },
          "metadata": {}
        }
      ]
    },
    {
      "cell_type": "code",
      "source": [
        "# Box plot of prices grouped by cut\n",
        "sns.boxplot(data=diamonds_df, x='cut', y='price')\n",
        "plt.xlabel('Cut')\n",
        "plt.ylabel('Price')\n",
        "plt.title('Box Plot of Diamond Prices by Cut')\n",
        "plt.show()"
      ],
      "metadata": {
        "colab": {
          "base_uri": "https://localhost:8080/",
          "height": 472
        },
        "id": "GNuWqSFTu9G1",
        "outputId": "12e6abac-b1c9-481a-856d-680839e628e8"
      },
      "execution_count": null,
      "outputs": [
        {
          "output_type": "display_data",
          "data": {
            "text/plain": [
              "<Figure size 640x480 with 1 Axes>"
            ],
            "image/png": "[encoded data removed]"
          },
          "metadata": {}
        }
      ]
    },
    {
      "cell_type": "code",
      "source": [
        "# Count plot of diamond clarity\n",
        "sns.countplot(data=diamonds_df, x='clarity', order=sorted(diamonds_df['clarity'].unique()))\n",
        "plt.xlabel('Clarity')\n",
        "plt.ylabel('Count')\n",
        "plt.title('Count Plot of Diamond Clarity')\n",
        "plt.show()"
      ],
      "metadata": {
        "colab": {
          "base_uri": "https://localhost:8080/",
          "height": 472
        },
        "id": "WvIoTW2mvAf2",
        "outputId": "2f0f27d4-ae49-474e-9128-bb58807c1ae9"
      },
      "execution_count": null,
      "outputs": [
        {
          "output_type": "display_data",
          "data": {
            "text/plain": [
              "<Figure size 640x480 with 1 Axes>"
            ],
            "image/png": "[encoded data removed]"
          },
          "metadata": {}
        }
      ]
    },
    {
      "cell_type": "code",
      "source": [
        "# Pairplot of numeric attributes\n",
        "sns.pairplot(diamonds_df[['carat', 'depth', 'table', 'price']])\n",
        "plt.suptitle('Pairplot of Diamond Attributes')\n",
        "plt.show()"
      ],
      "metadata": {
        "colab": {
          "base_uri": "https://localhost:8080/",
          "height": 991
        },
        "id": "yyR2_WnEvDvY",
        "outputId": "5af258f2-304c-4b83-aef8-a1e14cf9ef9e"
      },
      "execution_count": null,
      "outputs": [
        {
          "output_type": "display_data",
          "data": {
            "text/plain": [
              "<Figure size 1000x1000 with 20 Axes>"
            ],
            "image/png": "[encoded data removed]"
          },
          "metadata": {}
        }
      ]
    },
    {
      "cell_type": "markdown",
      "source": [
        "## Basic Interact\n",
        "\n",
        "The basic level, interact autogenerates UI controls for function arguments, and then calls the function with those arguments when you manipulate the controls interactively. To use `interact`, you need to `define a function` that you want to explore. Here is a function that returns its only argument `x`"
      ],
      "metadata": {
        "id": "phTtkdkbfeM1"
      }
    },
    {
      "cell_type": "code",
      "source": [
        "def func(x):\n",
        "    return x"
      ],
      "metadata": {
        "id": "rz7WumPehA-b"
      },
      "execution_count": null,
      "outputs": []
    },
    {
      "cell_type": "code",
      "source": [
        "interact(func, x=10);"
      ],
      "metadata": {
        "colab": {
          "base_uri": "https://localhost:8080/",
          "height": 66,
          "referenced_widgets": [
            "972d66fc52fb49d783c6260fd5b9fb71",
            "975800c96e32403a953d95a84b29c123",
            "51aacba987b54803a7b9a9c560a8013a",
            "6c8a42f4206f4a30a6f94a95863763fb",
            "c3c36dbd77e0478b8b68869210e13186",
            "fa2cb9c611e741e684fe0d329d8b05f5",
            "8de94645ea76480faed8a43b8ccea7ae"
          ]
        },
        "id": "AMVlBChchF28",
        "outputId": "e9a19383-4064-40d5-8f5d-e1e1c461b83f"
      },
      "execution_count": null,
      "outputs": [
        {
          "output_type": "display_data",
          "data": {
            "text/plain": [
              "interactive(children=(IntSlider(value=10, description='x', max=30, min=-10), Output()), _dom_classes=('widget-…"
            ],
            "application/vnd.jupyter.widget-view+json": {
              "version_major": 2,
              "version_minor": 0,
              "model_id": "972d66fc52fb49d783c6260fd5b9fb71"
            }
          },
          "metadata": {}
        }
      ]
    },
    {
      "cell_type": "code",
      "source": [
        "interact(func, x=True);"
      ],
      "metadata": {
        "colab": {
          "base_uri": "https://localhost:8080/",
          "height": 66,
          "referenced_widgets": [
            "51f9506c19ed4d5da7039054d2699097",
            "d5c2956aff8d4be2a1ce20cf68c3679a",
            "51540ad21b5e4aa382670acb324bf94d",
            "54128c138d904d8d86894e948d767c0e",
            "5a73331eb1e7416dac8b3555602fc2f7",
            "ae4dd8d10d854f769e40f7acedfe2fcc",
            "9e6eb908a4ff4e53a08aee95a2db22f7"
          ]
        },
        "id": "hZJlRBHVhMw4",
        "outputId": "e45079e3-6e53-430a-e4fb-935d8030d366"
      },
      "execution_count": null,
      "outputs": [
        {
          "output_type": "display_data",
          "data": {
            "text/plain": [
              "interactive(children=(Checkbox(value=True, description='x'), Output()), _dom_classes=('widget-interact',))"
            ],
            "application/vnd.jupyter.widget-view+json": {
              "version_major": 2,
              "version_minor": 0,
              "model_id": "51f9506c19ed4d5da7039054d2699097"
            }
          },
          "metadata": {}
        }
      ]
    },
    {
      "cell_type": "code",
      "source": [
        "interact(func, x='Hello World');"
      ],
      "metadata": {
        "colab": {
          "base_uri": "https://localhost:8080/",
          "height": 67,
          "referenced_widgets": [
            "10159feda4d34b16b2861ebc695b9d29",
            "5e033bd6a3794dc9abe69d5d8026854f",
            "6187ad459e1d43868ec98475464df109",
            "2d4415c19ccf4aa48cd9af249437d66c",
            "5a1480dfe35b4b459d9ccf42cc22764a",
            "839ff06dfd814224b5d56e578dee9756",
            "adcda38008f343d5b0c5a1dc569ffd60"
          ]
        },
        "id": "9W2-ksgChamj",
        "outputId": "d4539aca-7d1e-426b-de2d-20b167bfa1ab"
      },
      "execution_count": null,
      "outputs": [
        {
          "output_type": "display_data",
          "data": {
            "text/plain": [
              "interactive(children=(Text(value='Hello World', description='x'), Output()), _dom_classes=('widget-interact',)…"
            ],
            "application/vnd.jupyter.widget-view+json": {
              "version_major": 2,
              "version_minor": 0,
              "model_id": "10159feda4d34b16b2861ebc695b9d29"
            }
          },
          "metadata": {}
        }
      ]
    },
    {
      "cell_type": "markdown",
      "source": [
        "### Accessing the interact while defining the function\n",
        "\n",
        "Simply use the `@interact`"
      ],
      "metadata": {
        "id": "5HHp51q3jMuA"
      }
    },
    {
      "cell_type": "code",
      "source": [
        "@interact(x=True, y=1.0, z='Hel')\n",
        "def g(x, y,z):\n",
        "    return (x, y,z)"
      ],
      "metadata": {
        "colab": {
          "base_uri": "https://localhost:8080/",
          "height": 130,
          "referenced_widgets": [
            "7973c763564247769cf506f68fb1c89b",
            "cb8614fb3c9345ce892e4a6cfd977e3f",
            "f91ed3385cec466eaf4600c277a2cd62",
            "2c66a5b1750948f09757407dcc4e0911",
            "c5536a1090454f79a8faa3df36f3c3aa",
            "635e2356d1bd42dc87b3fffdfe2f085e",
            "44a5408a76654670a9636fa296b7cdee",
            "b5c892a3486346d7af713c71784ab1d6",
            "2989f7568bf04cd1aa6e18ac557b0f39",
            "17cd8f3392874581aa2962f7565127d1",
            "917a57cf53fc412ead574a4426ad81ed",
            "3aea62011ed54907800db74b02e69aae",
            "3edac94c3cf4449c953483463733dbb8"
          ]
        },
        "id": "iDMxXY3njNHT",
        "outputId": "88f1dd51-d359-4f69-b0b5-46b00153bc4a"
      },
      "execution_count": null,
      "outputs": [
        {
          "output_type": "display_data",
          "data": {
            "text/plain": [
              "interactive(children=(Checkbox(value=True, description='x'), FloatSlider(value=1.0, description='y', max=3.0, …"
            ],
            "application/vnd.jupyter.widget-view+json": {
              "version_major": 2,
              "version_minor": 0,
              "model_id": "7973c763564247769cf506f68fb1c89b"
            }
          },
          "metadata": {}
        }
      ]
    },
    {
      "cell_type": "markdown",
      "source": [
        "### Fixing arguments using fixed\n",
        "\n",
        "There are times when you may want to explore a function using interact, but fix one or more of its arguments to specific values. This can be accomplished by wrapping values with the fixed function."
      ],
      "metadata": {
        "id": "8eifi8NekkLd"
      }
    },
    {
      "cell_type": "code",
      "source": [
        "def f(p, q):\n",
        "    return (p, q)\n",
        "interact(f, p=5, q=fixed(20))"
      ],
      "metadata": {
        "colab": {
          "base_uri": "https://localhost:8080/",
          "height": 84,
          "referenced_widgets": [
            "65b76b1de7994b369b70b9cfc6e376f6",
            "e24304343e6a4dc8b417f18db7f96832",
            "8aef91b64640465088f209b9baf80472",
            "8140a0608202443eae5e38fb7c1d0c5a",
            "f0ff93217d7442228798043726676124",
            "6c150ecf187144a2a8d903aa11ade04c",
            "e52a4a2bff0c465da41b8fce13c61b32"
          ]
        },
        "id": "srmGRRUYkqHq",
        "outputId": "5674a05b-728d-46ff-c249-7b5478346ab2"
      },
      "execution_count": null,
      "outputs": [
        {
          "output_type": "display_data",
          "data": {
            "text/plain": [
              "interactive(children=(IntSlider(value=5, description='p', max=15, min=-5), Output()), _dom_classes=('widget-in…"
            ],
            "application/vnd.jupyter.widget-view+json": {
              "version_major": 2,
              "version_minor": 0,
              "model_id": "65b76b1de7994b369b70b9cfc6e376f6"
            }
          },
          "metadata": {}
        },
        {
          "output_type": "execute_result",
          "data": {
            "text/plain": [
              "<function __main__.f(p, q)>"
            ]
          },
          "metadata": {},
          "execution_count": 13
        }
      ]
    },
    {
      "cell_type": "markdown",
      "source": [
        "The following table gives an overview of different argument types, and how they map to interactive controls:\n",
        "\n",
        "<table class=\"table table-condensed table-bordered\">\n",
        "  <tr><td><strong>Keyword argument</strong></td><td><strong>Widget</strong></td></tr>  \n",
        "  <tr><td>`True` or `False`</td><td>Checkbox</td></tr>  \n",
        "  <tr><td>`'Hi there'`</td><td>Text</td></tr>\n",
        "  <tr><td>`value` or `(min,max)` or `(min,max,step)` if integers are passed</td><td>IntSlider</td></tr>\n",
        "  <tr><td>`value` or `(min,max)` or `(min,max,step)` if floats are passed</td><td>FloatSlider</td></tr>\n",
        "  <tr><td>`['orange','apple']` or `[('one', 1), ('two', 2)]</td><td>Dropdown</td></tr>\n",
        "</table>\n",
        "Note that a dropdown is used if a list or a list of tuples is given (signifying discrete choices), and a slider is used if a tuple is given (signifying a range)."
      ],
      "metadata": {
        "id": "vqaDvFQPnw7t"
      }
    },
    {
      "cell_type": "code",
      "source": [
        "def r(x):\n",
        "  return x"
      ],
      "metadata": {
        "id": "g8RrMuo9jNj6"
      },
      "execution_count": null,
      "outputs": []
    },
    {
      "cell_type": "code",
      "source": [
        "interact(r, x = ['orange','apple'])"
      ],
      "metadata": {
        "colab": {
          "base_uri": "https://localhost:8080/",
          "height": 85,
          "referenced_widgets": [
            "59d193421adf42c1979b44735fd938be",
            "1d1aad1385d9483a8cd21f6609f78c35",
            "94d3bc98db3a4c678962c406267229c1",
            "e6364de909814000b3a4306369b867c4",
            "5e138568118843afafed59b2d2d125dc",
            "72ac2298a71c4e68a7aee30d7babd41b",
            "8508e7be010a45508fdc30fbcd7963e3"
          ]
        },
        "id": "QpPugGsAjTUN",
        "outputId": "42ad22a9-5cc3-4c06-f5e2-381b69d0ba66"
      },
      "execution_count": null,
      "outputs": [
        {
          "output_type": "display_data",
          "data": {
            "text/plain": [
              "interactive(children=(Dropdown(description='x', options=('orange', 'apple'), value='orange'), Output()), _dom_…"
            ],
            "application/vnd.jupyter.widget-view+json": {
              "version_major": 2,
              "version_minor": 0,
              "model_id": "59d193421adf42c1979b44735fd938be"
            }
          },
          "metadata": {}
        },
        {
          "output_type": "execute_result",
          "data": {
            "text/plain": [
              "<function __main__.r(x)>"
            ]
          },
          "metadata": {},
          "execution_count": 17
        }
      ]
    },
    {
      "cell_type": "markdown",
      "source": [
        "Tuple of length 2 -> min and max"
      ],
      "metadata": {
        "id": "tkkkKyT8siHX"
      }
    },
    {
      "cell_type": "code",
      "source": [
        "interact(func, x=(0.0,10.0))"
      ],
      "metadata": {
        "colab": {
          "base_uri": "https://localhost:8080/",
          "height": 84,
          "referenced_widgets": [
            "c88add9920b14a46a09d3964e10e2711",
            "f77493d6213b47c1b84dc729e52cbb37",
            "62f0fba4abc84828b8892f20dee62a2b",
            "64f11a98dee5439eb1679df714a17764",
            "73eec81b57834451b1d4347bc556aaf7",
            "29d45bcd59a945ff8fa2fa028e4fd989",
            "06efe7badba042ffb5e0edefafc1e43e"
          ]
        },
        "id": "7dhj_omBq3ZP",
        "outputId": "2a303bf4-dcc8-4bd5-f8ea-625f5a86899f"
      },
      "execution_count": null,
      "outputs": [
        {
          "output_type": "display_data",
          "data": {
            "text/plain": [
              "interactive(children=(FloatSlider(value=5.0, description='x', max=10.0), Output()), _dom_classes=('widget-inte…"
            ],
            "application/vnd.jupyter.widget-view+json": {
              "version_major": 2,
              "version_minor": 0,
              "model_id": "c88add9920b14a46a09d3964e10e2711"
            }
          },
          "metadata": {}
        },
        {
          "output_type": "execute_result",
          "data": {
            "text/plain": [
              "<function __main__.func(x)>"
            ]
          },
          "metadata": {},
          "execution_count": 44
        }
      ]
    },
    {
      "cell_type": "markdown",
      "source": [
        "Tuple of length 3 -> min, max and step"
      ],
      "metadata": {
        "id": "-AcO1PwTsnRT"
      }
    },
    {
      "cell_type": "code",
      "source": [
        "interact(func, x=(0.0,10.0,2))"
      ],
      "metadata": {
        "colab": {
          "base_uri": "https://localhost:8080/",
          "height": 84,
          "referenced_widgets": [
            "34d1b2fcb672487d9736a3ca6157da13",
            "33630420c4924fdea7208114a81ee849",
            "3e49f86026b54a5fa88de2746876bd13",
            "9b8400f8f7c048f49acf07a3a0dcd84f",
            "c6974064ef204fb4bac0cb917e94e003",
            "5f1c6c415feb4111a177db6807c491a6",
            "fe2a3434067e481faa5bb98a83692125"
          ]
        },
        "id": "91TSB6X6sg6T",
        "outputId": "7d5a871d-7f39-4db8-dd17-2780c5a286b8"
      },
      "execution_count": null,
      "outputs": [
        {
          "output_type": "display_data",
          "data": {
            "text/plain": [
              "interactive(children=(FloatSlider(value=4.0, description='x', max=10.0, step=2.0), Output()), _dom_classes=('w…"
            ],
            "application/vnd.jupyter.widget-view+json": {
              "version_major": 2,
              "version_minor": 0,
              "model_id": "34d1b2fcb672487d9736a3ca6157da13"
            }
          },
          "metadata": {}
        },
        {
          "output_type": "execute_result",
          "data": {
            "text/plain": [
              "<function __main__.func(x)>"
            ]
          },
          "metadata": {},
          "execution_count": 45
        }
      ]
    },
    {
      "cell_type": "markdown",
      "source": [
        "### Dropdown"
      ],
      "metadata": {
        "id": "IL9Z-N7Ssto2"
      }
    },
    {
      "cell_type": "code",
      "source": [
        "interact(func, x=['apples','oranges'])"
      ],
      "metadata": {
        "colab": {
          "base_uri": "https://localhost:8080/",
          "height": 85,
          "referenced_widgets": [
            "bf2a3bd11e744c54a5a9c75beb438c83",
            "2bd170248ee6435d8bb87503884df182",
            "a0b18f7218cf49f58907d4bcac2ae919",
            "f82f77a1ee5b4e47bc1c033279e8dbd9",
            "51ee713bb2e542deb3d2e2731b0cc62f",
            "1b968841fc824df5b7736e6b282423d2",
            "358b22642039469ca627f16420030625"
          ]
        },
        "id": "3_yo6thHs13u",
        "outputId": "b3643710-cf8e-47af-df54-de57c9a7db24"
      },
      "execution_count": null,
      "outputs": [
        {
          "output_type": "display_data",
          "data": {
            "text/plain": [
              "interactive(children=(Dropdown(description='x', options=('apples', 'oranges'), value='apples'), Output()), _do…"
            ],
            "application/vnd.jupyter.widget-view+json": {
              "version_major": 2,
              "version_minor": 0,
              "model_id": "bf2a3bd11e744c54a5a9c75beb438c83"
            }
          },
          "metadata": {}
        },
        {
          "output_type": "execute_result",
          "data": {
            "text/plain": [
              "<function __main__.func(x)>"
            ]
          },
          "metadata": {},
          "execution_count": 47
        }
      ]
    },
    {
      "cell_type": "markdown",
      "source": [
        "If you want a dropdown menu that passes non-string values to the Python function, you can pass a list of `('label', value)` pairs. The first items are the names in the dropdown menu UI and the second items are values that are the arguments passed to the underlying Python function."
      ],
      "metadata": {
        "id": "krs-q4gws9Ms"
      }
    },
    {
      "cell_type": "code",
      "source": [
        "interact(func, x=wg.Combobox(options=[\"Chicago\", \"New York\", \"Washington\"], value=\"Chicago\"));"
      ],
      "metadata": {
        "colab": {
          "base_uri": "https://localhost:8080/",
          "height": 67,
          "referenced_widgets": [
            "4fff440278194fa299823f67545274db",
            "439ca8623c374d43b103970a7c733d68",
            "05bc14dabaa94904bff8730deeff5385",
            "c6ffed2b6b694f68ac8f5e70cd66304a",
            "6141781e5abd4a58ae29111970023af4",
            "02cac69fd33b44b89a54032ee8583a59",
            "e4dcb5e3b2b84b2dad138d0bcc5483d1"
          ]
        },
        "id": "LSycfD2StA8j",
        "outputId": "cc5b9b08-d6f3-42c4-d9ab-15899e1b7326"
      },
      "execution_count": null,
      "outputs": [
        {
          "output_type": "display_data",
          "data": {
            "text/plain": [
              "interactive(children=(Combobox(value='Chicago', description='x', options=('Chicago', 'New York', 'Washington')…"
            ],
            "application/vnd.jupyter.widget-view+json": {
              "version_major": 2,
              "version_minor": 0,
              "model_id": "4fff440278194fa299823f67545274db"
            }
          },
          "metadata": {}
        }
      ]
    },
    {
      "cell_type": "code",
      "source": [
        "def f(m, b):\n",
        "    plt.figure(2)\n",
        "    x = np.linspace(-10, 10, num=1000)\n",
        "    plt.plot(x, m * x + b)\n",
        "    plt.ylim(-5, 5)\n",
        "    plt.show()\n",
        "\n",
        "interactive_plot = wg.interactive(f, m=(-2.0, 2.0), b=(-3, 3, 0.5))\n",
        "output = interactive_plot.children[-1]\n",
        "output.layout.height = '300px'\n",
        "interactive_plot"
      ],
      "metadata": {
        "colab": {
          "base_uri": "https://localhost:8080/",
          "height": 381,
          "referenced_widgets": [
            "20b975b43a4d497093f5638681c9a5c6",
            "7b228f5437964c39a405fd5a5239e3b4",
            "ca7f590c0efd4905b84953512fea639b",
            "b36eff30b43d46abaf137f266cd8ef3d",
            "8e09d8a687354044ac21848f673543f4",
            "753f62dd2a054c8fa24281d687e32d34",
            "46e5a648f17043a3bb4dd7b8cb1bf1b1",
            "1c1694eacf5048f7b294e5337ecf6656",
            "a1c555ae7670457781e1a79ba8ca2cf8",
            "66ebc92d21cf45d4bea1ade0e0161ede"
          ]
        },
        "id": "WF0blPO8L2No",
        "outputId": "7328b027-aecf-4d8a-ef49-ebaf23110c84"
      },
      "execution_count": null,
      "outputs": [
        {
          "output_type": "display_data",
          "data": {
            "text/plain": [
              "interactive(children=(FloatSlider(value=0.0, description='m', max=2.0, min=-2.0), FloatSlider(value=0.0, descr…"
            ],
            "application/vnd.jupyter.widget-view+json": {
              "version_major": 2,
              "version_minor": 0,
              "model_id": "20b975b43a4d497093f5638681c9a5c6"
            }
          },
          "metadata": {}
        }
      ]
    },
    {
      "cell_type": "markdown",
      "source": [
        "## Python Dash\n",
        "\n",
        "Dash is built on top of Plotly, which is another powerful library for creating interactive visualizations. You can also install Plotly to enhance your Dash applications:\n",
        "\n",
        "### Imports"
      ],
      "metadata": {
        "id": "JDdjhpFmzjJY"
      }
    },
    {
      "cell_type": "code",
      "source": [
        "pip install dash"
      ],
      "metadata": {
        "colab": {
          "base_uri": "https://localhost:8080/"
        },
        "id": "y6DxDb5Q0z8L",
        "outputId": "df3d5931-8223-423e-8360-301233ad58e4"
      },
      "execution_count": null,
      "outputs": [
        {
          "output_type": "stream",
          "name": "stdout",
          "text": [
            "Collecting dash\n",
            "  Downloading dash-2.15.0-py3-none-any.whl (10.2 MB)\n",
            "\u001b[2K     \u001b[90m━━━━━━━━━━━━━━━━━━━━━━━━━━━━━━━━━━━━━━━━\u001b[0m \u001b[32m10.2/10.2 MB\u001b[0m \u001b[31m32.0 MB/s\u001b[0m eta \u001b[36m0:00:00\u001b[0m\n",
            "\u001b[?25hRequirement already satisfied: Flask<3.1,>=1.0.4 in /usr/local/lib/python3.10/dist-packages (from dash) (2.2.5)\n",
            "Requirement already satisfied: Werkzeug<3.1 in /usr/local/lib/python3.10/dist-packages (from dash) (3.0.1)\n",
            "Requirement already satisfied: plotly>=5.0.0 in /usr/local/lib/python3.10/dist-packages (from dash) (5.15.0)\n",
            "Collecting dash-html-components==2.0.0 (from dash)\n",
            "  Downloading dash_html_components-2.0.0-py3-none-any.whl (4.1 kB)\n",
            "Collecting dash-core-components==2.0.0 (from dash)\n",
            "  Downloading dash_core_components-2.0.0-py3-none-any.whl (3.8 kB)\n",
            "Collecting dash-table==5.0.0 (from dash)\n",
            "  Downloading dash_table-5.0.0-py3-none-any.whl (3.9 kB)\n",
            "Requirement already satisfied: typing-extensions>=4.1.1 in /usr/local/lib/python3.10/dist-packages (from dash) (4.5.0)\n",
            "Requirement already satisfied: requests in /usr/local/lib/python3.10/dist-packages (from dash) (2.31.0)\n",
            "Collecting retrying (from dash)\n",
            "  Downloading retrying-1.3.4-py3-none-any.whl (11 kB)\n",
            "Requirement already satisfied: nest-asyncio in /usr/local/lib/python3.10/dist-packages (from dash) (1.6.0)\n",
            "Requirement already satisfied: setuptools in /usr/local/lib/python3.10/dist-packages (from dash) (67.7.2)\n",
            "Requirement already satisfied: importlib-metadata in /usr/local/lib/python3.10/dist-packages (from dash) (7.0.1)\n",
            "Requirement already satisfied: Jinja2>=3.0 in /usr/local/lib/python3.10/dist-packages (from Flask<3.1,>=1.0.4->dash) (3.1.3)\n",
            "Requirement already satisfied: itsdangerous>=2.0 in /usr/local/lib/python3.10/dist-packages (from Flask<3.1,>=1.0.4->dash) (2.1.2)\n",
            "Requirement already satisfied: click>=8.0 in /usr/local/lib/python3.10/dist-packages (from Flask<3.1,>=1.0.4->dash) (8.1.7)\n",
            "Requirement already satisfied: tenacity>=6.2.0 in /usr/local/lib/python3.10/dist-packages (from plotly>=5.0.0->dash) (8.2.3)\n",
            "Requirement already satisfied: packaging in /usr/local/lib/python3.10/dist-packages (from plotly>=5.0.0->dash) (23.2)\n",
            "Requirement already satisfied: MarkupSafe>=2.1.1 in /usr/local/lib/python3.10/dist-packages (from Werkzeug<3.1->dash) (2.1.4)\n",
            "Requirement already satisfied: zipp>=0.5 in /usr/local/lib/python3.10/dist-packages (from importlib-metadata->dash) (3.17.0)\n",
            "Requirement already satisfied: charset-normalizer<4,>=2 in /usr/local/lib/python3.10/dist-packages (from requests->dash) (3.3.2)\n",
            "Requirement already satisfied: idna<4,>=2.5 in /usr/local/lib/python3.10/dist-packages (from requests->dash) (3.6)\n",
            "Requirement already satisfied: urllib3<3,>=1.21.1 in /usr/local/lib/python3.10/dist-packages (from requests->dash) (2.0.7)\n",
            "Requirement already satisfied: certifi>=2017.4.17 in /usr/local/lib/python3.10/dist-packages (from requests->dash) (2023.11.17)\n",
            "Requirement already satisfied: six>=1.7.0 in /usr/local/lib/python3.10/dist-packages (from retrying->dash) (1.16.0)\n",
            "Installing collected packages: dash-table, dash-html-components, dash-core-components, retrying, dash\n",
            "Successfully installed dash-2.15.0 dash-core-components-2.0.0 dash-html-components-2.0.0 dash-table-5.0.0 retrying-1.3.4\n"
          ]
        }
      ]
    },
    {
      "cell_type": "code",
      "source": [
        "import dash\n",
        "import dash_core_components as dcc\n",
        "import dash_html_components as html\n",
        "import plotly.express as px\n",
        "import pandas as pd"
      ],
      "metadata": {
        "colab": {
          "base_uri": "https://localhost:8080/",
          "height": 156
        },
        "id": "nmgG9uea0vdK",
        "outputId": "da4bd4d2-cd03-4c26-a397-45f630c1e1bc"
      },
      "execution_count": null,
      "outputs": [
        {
          "output_type": "stream",
          "name": "stderr",
          "text": [
            "<ipython-input-53-95f2401b88ff>:3: UserWarning: \n",
            "The dash_core_components package is deprecated. Please replace\n",
            "`import dash_core_components as dcc` with `from dash import dcc`\n",
            "  import dash_core_components as dcc\n",
            "<ipython-input-53-95f2401b88ff>:4: UserWarning: \n",
            "The dash_html_components package is deprecated. Please replace\n",
            "`import dash_html_components as html` with `from dash import html`\n",
            "  import dash_html_components as html\n"
          ]
        }
      ]
    },
    {
      "cell_type": "markdown",
      "source": [
        "### Create a Dash application\n"
      ],
      "metadata": {
        "id": "UjdyoEnV07Lt"
      }
    },
    {
      "cell_type": "code",
      "source": [
        "app = dash.Dash(__name__)"
      ],
      "metadata": {
        "id": "1x-_KqfZ081H"
      },
      "execution_count": null,
      "outputs": []
    },
    {
      "cell_type": "code",
      "source": [
        "# Sample data\n",
        "data = pd.DataFrame({\n",
        "    'x': [1, 2, 3, 4, 5],\n",
        "    'y': [10, 11, 12, 13, 14]\n",
        "})\n",
        "# Define the layout of your app\n",
        "app.layout = html.Div([\n",
        "    html.H1(\"My First Dash Application\"),\n",
        "\n",
        "    dcc.Graph(\n",
        "        id='scatter-plot',\n",
        "        figure={\n",
        "            'data': [\n",
        "                {'x': data['x'], 'y': data['y'], 'type': 'scatter', 'mode': 'markers', 'name': 'Scatter Plot'},\n",
        "            ],\n",
        "            'layout': {\n",
        "                'title': 'Scatter Plot Example'\n",
        "            }\n",
        "        }\n",
        "    )\n",
        "])"
      ],
      "metadata": {
        "id": "rq1DlXzCzgzp"
      },
      "execution_count": null,
      "outputs": []
    },
    {
      "cell_type": "markdown",
      "source": [
        "### Run the Dash app"
      ],
      "metadata": {
        "id": "foCc5sPg1BHm"
      }
    },
    {
      "cell_type": "code",
      "source": [
        "if __name__ == '__main__':\n",
        "    app.run_server(debug=True)"
      ],
      "metadata": {
        "colab": {
          "base_uri": "https://localhost:8080/",
          "height": 671
        },
        "id": "rYo9oPGh1Brl",
        "outputId": "f48cebac-f9fa-4397-9d70-f5b555ef3d97"
      },
      "execution_count": null,
      "outputs": [
        {
          "output_type": "display_data",
          "data": {
            "text/plain": [
              "<IPython.core.display.Javascript object>"
            ],
            "application/javascript": [
              "(async (port, path, width, height, cache, element) => {\n",
              "    if (!google.colab.kernel.accessAllowed && !cache) {\n",
              "      return;\n",
              "    }\n",
              "    element.appendChild(document.createTextNode(''));\n",
              "    const url = await google.colab.kernel.proxyPort(port, {cache});\n",
              "    const iframe = document.createElement('iframe');\n",
              "    iframe.src = new URL(path, url).toString();\n",
              "    iframe.height = height;\n",
              "    iframe.width = width;\n",
              "    iframe.style.border = 0;\n",
              "    iframe.allow = [\n",
              "        'accelerometer',\n",
              "        'autoplay',\n",
              "        'camera',\n",
              "        'clipboard-read',\n",
              "        'clipboard-write',\n",
              "        'gyroscope',\n",
              "        'magnetometer',\n",
              "        'microphone',\n",
              "        'serial',\n",
              "        'usb',\n",
              "        'xr-spatial-tracking',\n",
              "    ].join('; ');\n",
              "    element.appendChild(iframe);\n",
              "  })(8050, \"/\", \"100%\", 650, false, window.element)"
            ]
          },
          "metadata": {}
        }
      ]
    },
    {
      "cell_type": "markdown",
      "source": [
        "## SweetViz\n",
        "\n",
        "SweetViz Library is an open-source Python library that generates beautiful, high-density visualizations to kickstart EDA with just two lines of code. Output is a fully self-contained HTML application. The system is built around quickly visualizing target values and comparing datasets. Its goal is to help quick analysis of target characteristics, training vs testing data, and other such data characterization tasks.\n",
        "\n",
        "### **Some of the features of SweetViz Library**\n",
        "\n",
        "* It shows how a target value(dependent features) relates to other features.\n",
        "* It integrates associations for numerical (Pearson’s correlation), categorical (uncertainty coefficient), and categorical-numerical (correlation ratio) datatypes seamlessly, to provide maximum information for all data types.\n",
        "* It automatically detects numerical, categorical, and text features, with optional manual overrides.\n",
        "* Summary information about the type, unique values, missing values, duplicate rows, most frequent values.\n",
        "* Numeric Analysis such as min/max/range, quartiles, mean, mode, standard deviation, sum, median absolute deviation, coefficient of variation, kurtosis, skewness."
      ],
      "metadata": {
        "id": "Pwuq0q-oL28R"
      }
    },
    {
      "cell_type": "markdown",
      "source": [
        "## Data Ingest"
      ],
      "metadata": {
        "id": "P3z08Jt4LKDx"
      }
    },
    {
      "cell_type": "code",
      "source": [
        "df = pd.read_csv('https://raw.githubusercontent.com/mwaskom/seaborn-data/master/diamonds.csv')\n",
        "df.head(5)"
      ],
      "metadata": {
        "colab": {
          "base_uri": "https://localhost:8080/",
          "height": 206
        },
        "id": "AxC4bBjeLJWw",
        "outputId": "669f9114-479c-4be5-b511-a9ddf990b640"
      },
      "execution_count": null,
      "outputs": [
        {
          "output_type": "execute_result",
          "data": {
            "text/plain": [
              "   carat      cut color clarity  depth  table  price     x     y     z\n",
              "0   0.23    Ideal     E     SI2   61.5   55.0    326  3.95  3.98  2.43\n",
              "1   0.21  Premium     E     SI1   59.8   61.0    326  3.89  3.84  2.31\n",
              "2   0.23     Good     E     VS1   56.9   65.0    327  4.05  4.07  2.31\n",
              "3   0.29  Premium     I     VS2   62.4   58.0    334  4.20  4.23  2.63\n",
              "4   0.31     Good     J     SI2   63.3   58.0    335  4.34  4.35  2.75"
            ],
            "text/html": [
              "\n",
              "  <div id=\"df-535ed087-7364-4c80-81ca-aa4c0169bccb\" class=\"colab-df-container\">\n",
              "    <div>\n",
              "<style scoped>\n",
              "    .dataframe tbody tr th:only-of-type {\n",
              "        vertical-align: middle;\n",
              "    }\n",
              "\n",
              "    .dataframe tbody tr th {\n",
              "        vertical-align: top;\n",
              "    }\n",
              "\n",
              "    .dataframe thead th {\n",
              "        text-align: right;\n",
              "    }\n",
              "</style>\n",
              "<table border=\"1\" class=\"dataframe\">\n",
              "  <thead>\n",
              "    <tr style=\"text-align: right;\">\n",
              "      <th></th>\n",
              "      <th>carat</th>\n",
              "      <th>cut</th>\n",
              "      <th>color</th>\n",
              "      <th>clarity</th>\n",
              "      <th>depth</th>\n",
              "      <th>table</th>\n",
              "      <th>price</th>\n",
              "      <th>x</th>\n",
              "      <th>y</th>\n",
              "      <th>z</th>\n",
              "    </tr>\n",
              "  </thead>\n",
              "  <tbody>\n",
              "    <tr>\n",
              "      <th>0</th>\n",
              "      <td>0.23</td>\n",
              "      <td>Ideal</td>\n",
              "      <td>E</td>\n",
              "      <td>SI2</td>\n",
              "      <td>61.5</td>\n",
              "      <td>55.0</td>\n",
              "      <td>326</td>\n",
              "      <td>3.95</td>\n",
              "      <td>3.98</td>\n",
              "      <td>2.43</td>\n",
              "    </tr>\n",
              "    <tr>\n",
              "      <th>1</th>\n",
              "      <td>0.21</td>\n",
              "      <td>Premium</td>\n",
              "      <td>E</td>\n",
              "      <td>SI1</td>\n",
              "      <td>59.8</td>\n",
              "      <td>61.0</td>\n",
              "      <td>326</td>\n",
              "      <td>3.89</td>\n",
              "      <td>3.84</td>\n",
              "      <td>2.31</td>\n",
              "    </tr>\n",
              "    <tr>\n",
              "      <th>2</th>\n",
              "      <td>0.23</td>\n",
              "      <td>Good</td>\n",
              "      <td>E</td>\n",
              "      <td>VS1</td>\n",
              "      <td>56.9</td>\n",
              "      <td>65.0</td>\n",
              "      <td>327</td>\n",
              "      <td>4.05</td>\n",
              "      <td>4.07</td>\n",
              "      <td>2.31</td>\n",
              "    </tr>\n",
              "    <tr>\n",
              "      <th>3</th>\n",
              "      <td>0.29</td>\n",
              "      <td>Premium</td>\n",
              "      <td>I</td>\n",
              "      <td>VS2</td>\n",
              "      <td>62.4</td>\n",
              "      <td>58.0</td>\n",
              "      <td>334</td>\n",
              "      <td>4.20</td>\n",
              "      <td>4.23</td>\n",
              "      <td>2.63</td>\n",
              "    </tr>\n",
              "    <tr>\n",
              "      <th>4</th>\n",
              "      <td>0.31</td>\n",
              "      <td>Good</td>\n",
              "      <td>J</td>\n",
              "      <td>SI2</td>\n",
              "      <td>63.3</td>\n",
              "      <td>58.0</td>\n",
              "      <td>335</td>\n",
              "      <td>4.34</td>\n",
              "      <td>4.35</td>\n",
              "      <td>2.75</td>\n",
              "    </tr>\n",
              "  </tbody>\n",
              "</table>\n",
              "</div>\n",
              "    <div class=\"colab-df-buttons\">\n",
              "\n",
              "  <div class=\"colab-df-container\">\n",
              "    <button class=\"colab-df-convert\" onclick=\"convertToInteractive('df-535ed087-7364-4c80-81ca-aa4c0169bccb')\"\n",
              "            title=\"Convert this dataframe to an interactive table.\"\n",
              "            style=\"display:none;\">\n",
              "\n",
              "  <svg xmlns=\"http://www.w3.org/2000/svg\" height=\"24px\" viewBox=\"0 -960 960 960\">\n",
              "    <path d=\"M120-120v-720h720v720H120Zm60-500h600v-160H180v160Zm220 220h160v-160H400v160Zm0 220h160v-160H400v160ZM180-400h160v-160H180v160Zm440 0h160v-160H620v160ZM180-180h160v-160H180v160Zm440 0h160v-160H620v160Z\"/>\n",
              "  </svg>\n",
              "    </button>\n",
              "\n",
              "  <style>\n",
              "    .colab-df-container {\n",
              "      display:flex;\n",
              "      gap: 12px;\n",
              "    }\n",
              "\n",
              "    .colab-df-convert {\n",
              "      background-color: #E8F0FE;\n",
              "      border: none;\n",
              "      border-radius: 50%;\n",
              "      cursor: pointer;\n",
              "      display: none;\n",
              "      fill: #1967D2;\n",
              "      height: 32px;\n",
              "      padding: 0 0 0 0;\n",
              "      width: 32px;\n",
              "    }\n",
              "\n",
              "    .colab-df-convert:hover {\n",
              "      background-color: #E2EBFA;\n",
              "      box-shadow: 0px 1px 2px rgba(60, 64, 67, 0.3), 0px 1px 3px 1px rgba(60, 64, 67, 0.15);\n",
              "      fill: #174EA6;\n",
              "    }\n",
              "\n",
              "    .colab-df-buttons div {\n",
              "      margin-bottom: 4px;\n",
              "    }\n",
              "\n",
              "    [theme=dark] .colab-df-convert {\n",
              "      background-color: #3B4455;\n",
              "      fill: #D2E3FC;\n",
              "    }\n",
              "\n",
              "    [theme=dark] .colab-df-convert:hover {\n",
              "      background-color: #434B5C;\n",
              "      box-shadow: 0px 1px 3px 1px rgba(0, 0, 0, 0.15);\n",
              "      filter: drop-shadow(0px 1px 2px rgba(0, 0, 0, 0.3));\n",
              "      fill: #FFFFFF;\n",
              "    }\n",
              "  </style>\n",
              "\n",
              "    <script>\n",
              "      const buttonEl =\n",
              "        document.querySelector('#df-535ed087-7364-4c80-81ca-aa4c0169bccb button.colab-df-convert');\n",
              "      buttonEl.style.display =\n",
              "        google.colab.kernel.accessAllowed ? 'block' : 'none';\n",
              "\n",
              "      async function convertToInteractive(key) {\n",
              "        const element = document.querySelector('#df-535ed087-7364-4c80-81ca-aa4c0169bccb');\n",
              "        const dataTable =\n",
              "          await google.colab.kernel.invokeFunction('convertToInteractive',\n",
              "                                                    [key], {});\n",
              "        if (!dataTable) return;\n",
              "\n",
              "        const docLinkHtml = 'Like what you see? Visit the ' +\n",
              "          '<a target=\"_blank\" href=https://colab.research.google.com/notebooks/data_table.ipynb>data table notebook</a>'\n",
              "          + ' to learn more about interactive tables.';\n",
              "        element.innerHTML = '';\n",
              "        dataTable['output_type'] = 'display_data';\n",
              "        await google.colab.output.renderOutput(dataTable, element);\n",
              "        const docLink = document.createElement('div');\n",
              "        docLink.innerHTML = docLinkHtml;\n",
              "        element.appendChild(docLink);\n",
              "      }\n",
              "    </script>\n",
              "  </div>\n",
              "\n",
              "\n",
              "<div id=\"df-be3fee9d-e171-44ff-85bc-3a8c58e82971\">\n",
              "  <button class=\"colab-df-quickchart\" onclick=\"quickchart('df-be3fee9d-e171-44ff-85bc-3a8c58e82971')\"\n",
              "            title=\"Suggest charts\"\n",
              "            style=\"display:none;\">\n",
              "\n",
              "<svg xmlns=\"http://www.w3.org/2000/svg\" height=\"24px\"viewBox=\"0 0 24 24\"\n",
              "     width=\"24px\">\n",
              "    <g>\n",
              "        <path d=\"M19 3H5c-1.1 0-2 .9-2 2v14c0 1.1.9 2 2 2h14c1.1 0 2-.9 2-2V5c0-1.1-.9-2-2-2zM9 17H7v-7h2v7zm4 0h-2V7h2v10zm4 0h-2v-4h2v4z\"/>\n",
              "    </g>\n",
              "</svg>\n",
              "  </button>\n",
              "\n",
              "<style>\n",
              "  .colab-df-quickchart {\n",
              "      --bg-color: #E8F0FE;\n",
              "      --fill-color: #1967D2;\n",
              "      --hover-bg-color: #E2EBFA;\n",
              "      --hover-fill-color: #174EA6;\n",
              "      --disabled-fill-color: #AAA;\n",
              "      --disabled-bg-color: #DDD;\n",
              "  }\n",
              "\n",
              "  [theme=dark] .colab-df-quickchart {\n",
              "      --bg-color: #3B4455;\n",
              "      --fill-color: #D2E3FC;\n",
              "      --hover-bg-color: #434B5C;\n",
              "      --hover-fill-color: #FFFFFF;\n",
              "      --disabled-bg-color: #3B4455;\n",
              "      --disabled-fill-color: #666;\n",
              "  }\n",
              "\n",
              "  .colab-df-quickchart {\n",
              "    background-color: var(--bg-color);\n",
              "    border: none;\n",
              "    border-radius: 50%;\n",
              "    cursor: pointer;\n",
              "    display: none;\n",
              "    fill: var(--fill-color);\n",
              "    height: 32px;\n",
              "    padding: 0;\n",
              "    width: 32px;\n",
              "  }\n",
              "\n",
              "  .colab-df-quickchart:hover {\n",
              "    background-color: var(--hover-bg-color);\n",
              "    box-shadow: 0 1px 2px rgba(60, 64, 67, 0.3), 0 1px 3px 1px rgba(60, 64, 67, 0.15);\n",
              "    fill: var(--button-hover-fill-color);\n",
              "  }\n",
              "\n",
              "  .colab-df-quickchart-complete:disabled,\n",
              "  .colab-df-quickchart-complete:disabled:hover {\n",
              "    background-color: var(--disabled-bg-color);\n",
              "    fill: var(--disabled-fill-color);\n",
              "    box-shadow: none;\n",
              "  }\n",
              "\n",
              "  .colab-df-spinner {\n",
              "    border: 2px solid var(--fill-color);\n",
              "    border-color: transparent;\n",
              "    border-bottom-color: var(--fill-color);\n",
              "    animation:\n",
              "      spin 1s steps(1) infinite;\n",
              "  }\n",
              "\n",
              "  @keyframes spin {\n",
              "    0% {\n",
              "      border-color: transparent;\n",
              "      border-bottom-color: var(--fill-color);\n",
              "      border-left-color: var(--fill-color);\n",
              "    }\n",
              "    20% {\n",
              "      border-color: transparent;\n",
              "      border-left-color: var(--fill-color);\n",
              "      border-top-color: var(--fill-color);\n",
              "    }\n",
              "    30% {\n",
              "      border-color: transparent;\n",
              "      border-left-color: var(--fill-color);\n",
              "      border-top-color: var(--fill-color);\n",
              "      border-right-color: var(--fill-color);\n",
              "    }\n",
              "    40% {\n",
              "      border-color: transparent;\n",
              "      border-right-color: var(--fill-color);\n",
              "      border-top-color: var(--fill-color);\n",
              "    }\n",
              "    60% {\n",
              "      border-color: transparent;\n",
              "      border-right-color: var(--fill-color);\n",
              "    }\n",
              "    80% {\n",
              "      border-color: transparent;\n",
              "      border-right-color: var(--fill-color);\n",
              "      border-bottom-color: var(--fill-color);\n",
              "    }\n",
              "    90% {\n",
              "      border-color: transparent;\n",
              "      border-bottom-color: var(--fill-color);\n",
              "    }\n",
              "  }\n",
              "</style>\n",
              "\n",
              "  <script>\n",
              "    async function quickchart(key) {\n",
              "      const quickchartButtonEl =\n",
              "        document.querySelector('#' + key + ' button');\n",
              "      quickchartButtonEl.disabled = true;  // To prevent multiple clicks.\n",
              "      quickchartButtonEl.classList.add('colab-df-spinner');\n",
              "      try {\n",
              "        const charts = await google.colab.kernel.invokeFunction(\n",
              "            'suggestCharts', [key], {});\n",
              "      } catch (error) {\n",
              "        console.error('Error during call to suggestCharts:', error);\n",
              "      }\n",
              "      quickchartButtonEl.classList.remove('colab-df-spinner');\n",
              "      quickchartButtonEl.classList.add('colab-df-quickchart-complete');\n",
              "    }\n",
              "    (() => {\n",
              "      let quickchartButtonEl =\n",
              "        document.querySelector('#df-be3fee9d-e171-44ff-85bc-3a8c58e82971 button');\n",
              "      quickchartButtonEl.style.display =\n",
              "        google.colab.kernel.accessAllowed ? 'block' : 'none';\n",
              "    })();\n",
              "  </script>\n",
              "</div>\n",
              "    </div>\n",
              "  </div>\n"
            ]
          },
          "metadata": {},
          "execution_count": 59
        }
      ]
    },
    {
      "cell_type": "code",
      "source": [
        "pip install sweetviz"
      ],
      "metadata": {
        "colab": {
          "base_uri": "https://localhost:8080/"
        },
        "id": "SFgfFmvCJNad",
        "outputId": "883b3381-223b-46df-eefb-023dc3f3d9a3"
      },
      "execution_count": null,
      "outputs": [
        {
          "output_type": "stream",
          "name": "stdout",
          "text": [
            "Collecting sweetviz\n",
            "  Downloading sweetviz-2.3.1-py3-none-any.whl (15.1 MB)\n",
            "\u001b[2K     \u001b[90m━━━━━━━━━━━━━━━━━━━━━━━━━━━━━━━━━━━━━━━━\u001b[0m \u001b[32m15.1/15.1 MB\u001b[0m \u001b[31m41.7 MB/s\u001b[0m eta \u001b[36m0:00:00\u001b[0m\n",
            "\u001b[?25hRequirement already satisfied: pandas!=1.0.0,!=1.0.1,!=1.0.2,>=0.25.3 in /usr/local/lib/python3.10/dist-packages (from sweetviz) (1.5.3)\n",
            "Requirement already satisfied: numpy>=1.16.0 in /usr/local/lib/python3.10/dist-packages (from sweetviz) (1.23.5)\n",
            "Requirement already satisfied: matplotlib>=3.1.3 in /usr/local/lib/python3.10/dist-packages (from sweetviz) (3.7.1)\n",
            "Requirement already satisfied: tqdm>=4.43.0 in /usr/local/lib/python3.10/dist-packages (from sweetviz) (4.66.1)\n",
            "Requirement already satisfied: scipy>=1.3.2 in /usr/local/lib/python3.10/dist-packages (from sweetviz) (1.11.4)\n",
            "Requirement already satisfied: jinja2>=2.11.1 in /usr/local/lib/python3.10/dist-packages (from sweetviz) (3.1.3)\n",
            "Requirement already satisfied: importlib-resources>=1.2.0 in /usr/local/lib/python3.10/dist-packages (from sweetviz) (6.1.1)\n",
            "Requirement already satisfied: MarkupSafe>=2.0 in /usr/local/lib/python3.10/dist-packages (from jinja2>=2.11.1->sweetviz) (2.1.4)\n",
            "Requirement already satisfied: contourpy>=1.0.1 in /usr/local/lib/python3.10/dist-packages (from matplotlib>=3.1.3->sweetviz) (1.2.0)\n",
            "Requirement already satisfied: cycler>=0.10 in /usr/local/lib/python3.10/dist-packages (from matplotlib>=3.1.3->sweetviz) (0.12.1)\n",
            "Requirement already satisfied: fonttools>=4.22.0 in /usr/local/lib/python3.10/dist-packages (from matplotlib>=3.1.3->sweetviz) (4.47.2)\n",
            "Requirement already satisfied: kiwisolver>=1.0.1 in /usr/local/lib/python3.10/dist-packages (from matplotlib>=3.1.3->sweetviz) (1.4.5)\n",
            "Requirement already satisfied: packaging>=20.0 in /usr/local/lib/python3.10/dist-packages (from matplotlib>=3.1.3->sweetviz) (23.2)\n",
            "Requirement already satisfied: pillow>=6.2.0 in /usr/local/lib/python3.10/dist-packages (from matplotlib>=3.1.3->sweetviz) (9.4.0)\n",
            "Requirement already satisfied: pyparsing>=2.3.1 in /usr/local/lib/python3.10/dist-packages (from matplotlib>=3.1.3->sweetviz) (3.1.1)\n",
            "Requirement already satisfied: python-dateutil>=2.7 in /usr/local/lib/python3.10/dist-packages (from matplotlib>=3.1.3->sweetviz) (2.8.2)\n",
            "Requirement already satisfied: pytz>=2020.1 in /usr/local/lib/python3.10/dist-packages (from pandas!=1.0.0,!=1.0.1,!=1.0.2,>=0.25.3->sweetviz) (2023.4)\n",
            "Requirement already satisfied: six>=1.5 in /usr/local/lib/python3.10/dist-packages (from python-dateutil>=2.7->matplotlib>=3.1.3->sweetviz) (1.16.0)\n",
            "Installing collected packages: sweetviz\n",
            "Successfully installed sweetviz-2.3.1\n"
          ]
        }
      ]
    },
    {
      "cell_type": "code",
      "source": [
        "import sweetviz"
      ],
      "metadata": {
        "id": "GRZ57lwXNOt5"
      },
      "execution_count": null,
      "outputs": []
    },
    {
      "cell_type": "code",
      "source": [
        "my_report = sweetviz.analyze([df, \"Diamonds\"],target_feat='price')"
      ],
      "metadata": {
        "colab": {
          "base_uri": "https://localhost:8080/",
          "height": 49,
          "referenced_widgets": [
            "95e9693980dd4fa191c810b2388eb47f",
            "eec20917feff4bc19b237911f70619da",
            "68a390f1841d4240b6b5c37867b83326",
            "19e4fc947d754b99ae009992cc1102a5",
            "adfac656ee2b43428afc16b465ed6449",
            "3b7282c673ed4768a752e22f5405b47a",
            "d252a1a9c76c473d9d56fa207d09a82f",
            "4d880f8b214847a795bff245635363d9",
            "3fd4a5f531ec411da6cc66fa99eab7ca",
            "2f275fef3b164fab847ab2984b1ccbb6",
            "5b399e20a51e42c181c8a5d7e36d6fe0"
          ]
        },
        "id": "zPq2sgl4KTbo",
        "outputId": "94b9ff02-44c5-483d-9b58-2b011801b578"
      },
      "execution_count": null,
      "outputs": [
        {
          "output_type": "display_data",
          "data": {
            "text/plain": [
              "                                             |          | [  0%]   00:00 -> (? left)"
            ],
            "application/vnd.jupyter.widget-view+json": {
              "version_major": 2,
              "version_minor": 0,
              "model_id": "95e9693980dd4fa191c810b2388eb47f"
            }
          },
          "metadata": {}
        }
      ]
    },
    {
      "cell_type": "code",
      "source": [
        "my_report.show_html('Report.html')"
      ],
      "metadata": {
        "colab": {
          "base_uri": "https://localhost:8080/"
        },
        "id": "m2BCS6xSJW7z",
        "outputId": "cef4cc54-cadc-41a3-d287-df87b947c7cb"
      },
      "execution_count": null,
      "outputs": [
        {
          "output_type": "stream",
          "name": "stdout",
          "text": [
            "Report Report.html was generated! NOTEBOOK/COLAB USERS: the web browser MAY not pop up, regardless, the report IS saved in your notebook/colab files.\n"
          ]
        }
      ]
    },
    {
      "cell_type": "markdown",
      "source": [
        "## Steroid Dashboard"
      ],
      "metadata": {
        "id": "N_47JmpEve-H"
      }
    },
    {
      "cell_type": "code",
      "source": [
        "pip install jupyter-dash"
      ],
      "metadata": {
        "id": "R1syJCFivlZ2"
      },
      "execution_count": null,
      "outputs": []
    },
    {
      "cell_type": "code",
      "source": [
        "import dash\n",
        "from dash import dcc, html\n",
        "from dash.dependencies import Input, Output\n",
        "import pandas as pd\n",
        "import plotly.express as px\n",
        "\n",
        "# Load the dataset\n",
        "diamonds_df = pd.read_csv(\"https://raw.githubusercontent.com/mwaskom/seaborn-data/master/diamonds.csv\")\n",
        "\n",
        "# Create a Dash app instance\n",
        "app = dash.Dash(__name__)\n",
        "\n",
        "# Define the layout of the app\n",
        "app.layout = html.Div([\n",
        "    html.H1(\"Diamond Dashboard\"),\n",
        "    dcc.Dropdown(\n",
        "        id='x-axis',\n",
        "        options=[\n",
        "            {'label': col, 'value': col} for col in ['carat', 'depth', 'table', 'price']\n",
        "        ],\n",
        "        value='carat',\n",
        "        clearable=False\n",
        "    ),\n",
        "    dcc.Dropdown(\n",
        "        id='y-axis',\n",
        "        options=[\n",
        "            {'label': col, 'value': col} for col in ['carat', 'depth', 'table', 'price']\n",
        "        ],\n",
        "        value='price',\n",
        "        clearable=False\n",
        "    ),\n",
        "    dcc.Graph(id='scatter-plot')\n",
        "])\n",
        "\n",
        "# Define callback to update scatter plot\n",
        "@app.callback(\n",
        "    Output('scatter-plot', 'figure'),\n",
        "    [Input('x-axis', 'value'),\n",
        "     Input('y-axis', 'value')]\n",
        ")\n",
        "def update_scatter_plot(x_axis, y_axis):\n",
        "    # Create scatter plot\n",
        "    fig = px.scatter(diamonds_df, x=x_axis, y=y_axis, trendline=\"ols\")\n",
        "    fig.update_layout(title=f\"{y_axis} vs {x_axis} Scatter Plot\")\n",
        "    return fig\n",
        "\n",
        "# Run the app\n",
        "if __name__ == '__main__':\n",
        "    app.run_server(mode='inline')\n"
      ],
      "metadata": {
        "colab": {
          "base_uri": "https://localhost:8080/",
          "height": 671
        },
        "id": "ELi6kJT3vi57",
        "outputId": "65ee659b-5a64-45af-9763-fd9503952385"
      },
      "execution_count": null,
      "outputs": [
        {
          "output_type": "display_data",
          "data": {
            "text/plain": [
              "<IPython.core.display.Javascript object>"
            ],
            "application/javascript": [
              "(async (port, path, width, height, cache, element) => {\n",
              "    if (!google.colab.kernel.accessAllowed && !cache) {\n",
              "      return;\n",
              "    }\n",
              "    element.appendChild(document.createTextNode(''));\n",
              "    const url = await google.colab.kernel.proxyPort(port, {cache});\n",
              "    const iframe = document.createElement('iframe');\n",
              "    iframe.src = new URL(path, url).toString();\n",
              "    iframe.height = height;\n",
              "    iframe.width = width;\n",
              "    iframe.style.border = 0;\n",
              "    iframe.allow = [\n",
              "        'accelerometer',\n",
              "        'autoplay',\n",
              "        'camera',\n",
              "        'clipboard-read',\n",
              "        'clipboard-write',\n",
              "        'gyroscope',\n",
              "        'magnetometer',\n",
              "        'microphone',\n",
              "        'serial',\n",
              "        'usb',\n",
              "        'xr-spatial-tracking',\n",
              "    ].join('; ');\n",
              "    element.appendChild(iframe);\n",
              "  })(8050, \"/\", \"100%\", 650, false, window.element)"
            ]
          },
          "metadata": {}
        }
      ]
    },
    {
      "cell_type": "markdown",
      "source": [
        "# Run this code in Jupyter to see output\n",
        "\n",
        "The dashboard will consist of the following components:\n",
        "\n",
        "* **Title**: The title of the dashboard will be \"Diamond Dashboard\".\n",
        "\n",
        "* **Dropdown Menus**: There will be two dropdown menus labeled \"X-axis\" and \"Y-axis\". These dropdown menus will allow the user to select which variables to display on the x-axis and y-axis of the scatter plot.\n",
        "\n",
        "* **Scatter Plot**: Below the dropdown menus, there will be a scatter plot. Initially, it will display the relationship between the \"carat\" (weight of the diamond) and \"price\" variables. As the user selects different variables from the dropdown menus, the scatter plot will update dynamically to display the relationship between the selected variables.\n",
        "\n",
        "* **Trendline**: Additionally, a trendline will be displayed on the scatter plot, showing the overall trend of the data."
      ],
      "metadata": {
        "id": "8vRRLx7ywsde"
      }
    },
    {
      "cell_type": "markdown",
      "source": [
        "### Learning Outcome\n",
        "* Python Basic Visuals\n",
        "* Interactive Visuals\n",
        "* Python Dashboards"
      ],
      "metadata": {
        "id": "P46yAMSuIKrt"
      }
    },
    {
      "cell_type": "code",
      "source": [],
      "metadata": {
        "id": "7iLKW98kILhG"
      },
      "execution_count": null,
      "outputs": []
    }
  ]
}